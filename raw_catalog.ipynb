{
 "cells": [
  {
   "cell_type": "code",
   "execution_count": 3,
   "metadata": {},
   "outputs": [
    {
     "name": "stdout",
     "output_type": "stream",
     "text": [
      "La requête est un succès: 200\n",
      "Le fichier catalog a bien été enregistré ici data/catalog/source_cnil_catalog_2024-02-10.csv\n"
     ]
    }
   ],
   "source": [
    "from classes.source_catalog import GetCnilCatalog\n",
    "\n",
    "url = 'https://www.data.gouv.fr/api/1/organizations/534fff61a3a7292c64a77d59/catalog'\n",
    "headers = {'accept': 'application/json'}\n",
    "url_add = 'https://www.data.gouv.fr/fr/organizations/cnil/datasets.csv'\n",
    "instance1 = GetCnilCatalog(url, headers, url_add)\n",
    "data = instance1.fetch_data_from_api()\n",
    "data = data['@graph']\n",
    "table_name = 'title'\n",
    "download_url = 'downloadURL'\n",
    "table_id = 'identifier' \n",
    "file_format= 'format'\n",
    "last_update= 'modified' \n",
    "accessURL = '@id'\n",
    "df_catalog = instance1.response_to_dataframe(data=data, table_name=table_name, download_url=download_url, table_id=table_id, file_format=file_format, last_update=last_update, accessURL=accessURL)\n",
    "df_dataset = instance1.load_additional_info()\n",
    "df_catalog = instance1.identify_datasets_info()\n",
    "df_catalog = instance1.merge_additional_info()\n",
    "instance1.save_to_csv('source_cnil_catalog')"
   ]
  },
  {
   "cell_type": "code",
   "execution_count": 3,
   "metadata": {},
   "outputs": [
    {
     "name": "stdout",
     "output_type": "stream",
     "text": [
      "Bucket already exists.\n",
      "\u001b[32mRaw file source_cnil_catalog_2024-02-10.csv uploaded to GCS successfully to 2024-02-10/raw/source_cnil_catalog_2024-02-10.csv.\u001b[0m\n"
     ]
    }
   ],
   "source": [
    "from classes.file_to_gcs import FromFileToGCS\n",
    "import os\n",
    "\n",
    "bucket_name = 'cnil_csv'\n",
    "cred_path = 'cred/service_account_local_py.json'\n",
    "init2 = FromFileToGCS(bucket_name, cred_path)\n",
    "init2.create_bucket()\n",
    "file_path = 'data/catalog/source_cnil_catalog_2024-02-10.csv'\n",
    "dest_folder = 'raw'\n",
    "blob_name = os.path.basename(file_path)\n",
    "init2.local_to_gcs('data/catalog/source_cnil_catalog_2024-02-10.csv', 'raw/', 'source_cnil_catalog_2024-02-10.csv')"
   ]
  },
  {
   "cell_type": "code",
   "execution_count": 5,
   "metadata": {},
   "outputs": [
    {
     "data": {
      "text/plain": [
       "'source_cnil_catalog.csv'"
      ]
     },
     "execution_count": 5,
     "metadata": {},
     "output_type": "execute_result"
    }
   ],
   "source": []
  }
 ],
 "metadata": {
  "kernelspec": {
   "display_name": "base",
   "language": "python",
   "name": "python3"
  },
  "language_info": {
   "codemirror_mode": {
    "name": "ipython",
    "version": 3
   },
   "file_extension": ".py",
   "mimetype": "text/x-python",
   "name": "python",
   "nbconvert_exporter": "python",
   "pygments_lexer": "ipython3",
   "version": "3.10.9"
  }
 },
 "nbformat": 4,
 "nbformat_minor": 2
}
