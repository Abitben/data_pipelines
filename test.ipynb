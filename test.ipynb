{
 "cells": [
  {
   "cell_type": "code",
   "execution_count": 19,
   "metadata": {},
   "outputs": [
    {
     "name": "stdout",
     "output_type": "stream",
     "text": [
      "Les formes des DataFrames ne sont pas identiques.\n",
      "DF1 Shape: (5, 5), DF2 Shape: (5, 6)\n",
      "DF2 a plus de colonnes que DF1.\n",
      "Colonnes manquantes dans DF1 : {'Problems'}\n",
      "Lignes manquantes dans DF2 :\n",
      "     Nom Prenom  Age  Ville  Salaire\n",
      "4  Leroy   Anna   31  Lille    48800\n",
      "Les valeurs des DataFrames ne sont pas identiques.\n"
     ]
    }
   ],
   "source": [
    "import pandas as pd\n",
    "\n",
    "def compare_dataframes(df1, df2):\n",
    "    # Comparaison de la forme (shape)\n",
    "    if df1.shape != df2.shape:\n",
    "        print('Les formes des DataFrames ne sont pas identiques.')\n",
    "        print(f'DF1 Shape: {df1.shape}, DF2 Shape: {df2.shape}')\n",
    "    else:\n",
    "        print('Les formes des DataFrames sont identiques.')\n",
    "\n",
    "    # Comparaison des colonnes\n",
    "    if set(df2.columns) != set(df1.columns):\n",
    "        if len(df2.columns) > len(df1.columns):\n",
    "            print('DF2 a plus de colonnes que DF1.')\n",
    "            missing_columns = set(df2.columns) - set(df1.columns)\n",
    "            print(f'Colonnes manquantes dans DF1 : {missing_columns}')\n",
    "        else:\n",
    "            print('DF1 a plus de colonnes que DF2.')\n",
    "            missing_columns = set(df1.columns) - set(df2.columns)\n",
    "            print(f'Colonnes manquantes dans DF2 : {missing_columns}')\n",
    "\n",
    "    # Comparaison des lignes\n",
    "    common_rows = df1[df1.isin(df2.to_dict(orient='list')).all(axis=1)]\n",
    "    if common_rows.shape[0] != df1.shape[0]:\n",
    "        missing_rows = df1[~df1.index.isin(common_rows.index)]\n",
    "        print('Lignes manquantes dans DF2 :')\n",
    "        print(missing_rows)\n",
    "\n",
    "    # Comparaison des valeurs\n",
    "    if not df1.equals(df2):\n",
    "        print('Les valeurs des DataFrames ne sont pas identiques.')\n",
    "\n",
    "# Utilisation de la fonction\n",
    "df1 = pd.read_csv('table1.csv')\n",
    "df2 = pd.read_csv('table2.csv')\n",
    "compare_dataframes(df1, df2)"
   ]
  },
  {
   "cell_type": "code",
   "execution_count": 27,
   "metadata": {},
   "outputs": [
    {
     "name": "stdout",
     "output_type": "stream",
     "text": [
      "Les DataFrames ne sont pas identiques.\n",
      "Le nombre de lignes des Dataframes sont identiques.\n",
      "Les Dataframes ne sont pas identiques.\n",
      "     Nom Prenom  Age  Ville  Salaire\n",
      "5  Leroy   Anna   31  Lille    48700\n",
      "Le nombre de colonnes des Dataframes sont identiques.\n",
      "Les types de colonnes Nom sont identiques.\n",
      "Les types de colonnes Prenom sont identiques.\n",
      "Les types de colonnes Age sont identiques.\n",
      "Les types de colonnes Ville sont identiques.\n",
      "Les types de colonnes Salaire sont identiques.\n"
     ]
    }
   ],
   "source": [
    "import pandas as pd\n",
    "# df1 = pd.read_csv('table1.csv')\n",
    "# df2 = pd.read_csv('table1copy.csv')\n",
    "\n",
    "# # def compare_dataframes(df1, df2):\n",
    "# # if df1.equals(df2):\n",
    "# #     print('Les DataFrames sont identiques.')\n",
    "# # else:\n",
    "# #     print('Les DataFrames ne sont pas identiques.')\n",
    "\n",
    "# identiques\n",
    "if df1.equals(df2):\n",
    "    print('Les DataFrames sont identiques.')\n",
    "else: \n",
    "    print('Les DataFrames ne sont pas identiques.')\n",
    "\n",
    "# Comparaison des lignes\n",
    "if df1.shape[0] == df2.shape[0]:\n",
    "    print('Le nombre de lignes des Dataframes sont identiques.')\n",
    "    if df1.equals(df2):\n",
    "        print('Les Dataframes sont identiques.')\n",
    "    else:\n",
    "        print('Les Dataframes ne sont pas identiques.')\n",
    "        merged_df = pd.merge(df1, df2, how='outer', indicator=True)\n",
    "        comp_df = merged_df.query('_merge == \"right_only\"')\n",
    "        comp_df = comp_df.drop('_merge', axis=1)\n",
    "        print(comp_df)\n",
    "else:\n",
    "    print('Le nombre de lignes des Dataframes ne sont pas identiques')\n",
    "    df_comp = pd.concat([df1,df2], axis=0, keys=['df1', 'df2'])\n",
    "    df_comp = df_comp.drop_duplicates()\n",
    "    df_comp = df_comp.reset_index()\n",
    "    df_comp = df_comp.drop(columns='level_1')\n",
    "    df_comp = df_comp.rename(columns={'level_0':'df'})\n",
    "    df_comp[df_comp.df == 'df2']\n",
    "    \n",
    "\n",
    "# Comparaison des colonnes\n",
    "if df1.shape[1] == df2.shape[1]:\n",
    "    print('Le nombre de colonnes des Dataframes sont identiques.')\n",
    "    for i in range(len(df1.columns)):\n",
    "        if df1.iloc[:,i].dtype == df2.iloc[:,i].dtype :\n",
    "            print(f'Les types de colonnes {df1.columns[i]} sont identiques.')\n",
    "        else:\n",
    "            print(f'Les types de colonnes {df1.columns[i]} ne sont pas identiques.')\n",
    "elif len(df2.columns) > len(df1.columns):\n",
    "            print('DF2 a plus de colonnes que DF1.')\n",
    "            missing_columns = set(df2.columns) - set(df1.columns)\n",
    "            print(f'Colonnes manquantes dans DF1 : {missing_columns}')\n",
    "elif len(df1.columns) > len(df2.columns):\n",
    "            print('DF1 a plus de colonnes que DF2.')\n",
    "            missing_columns = set(df1.columns) - set(df2.columns)\n",
    "\n",
    "\n",
    "# Utilisation de la fonction\n",
    "df1 = pd.read_csv('table0.csv')\n",
    "df2 = pd.read_csv('table2.csv')"
   ]
  },
  {
   "cell_type": "code",
   "execution_count": 32,
   "metadata": {},
   "outputs": [
    {
     "data": {
      "text/html": [
       "<div>\n",
       "<style scoped>\n",
       "    .dataframe tbody tr th:only-of-type {\n",
       "        vertical-align: middle;\n",
       "    }\n",
       "\n",
       "    .dataframe tbody tr th {\n",
       "        vertical-align: top;\n",
       "    }\n",
       "\n",
       "    .dataframe thead th {\n",
       "        text-align: right;\n",
       "    }\n",
       "</style>\n",
       "<table border=\"1\" class=\"dataframe\">\n",
       "  <thead>\n",
       "    <tr style=\"text-align: right;\">\n",
       "      <th></th>\n",
       "      <th>df</th>\n",
       "      <th>Nom</th>\n",
       "      <th>Prenom</th>\n",
       "      <th>Age</th>\n",
       "      <th>Ville</th>\n",
       "      <th>Salaire</th>\n",
       "    </tr>\n",
       "  </thead>\n",
       "  <tbody>\n",
       "    <tr>\n",
       "      <th>5</th>\n",
       "      <td>df2</td>\n",
       "      <td>James</td>\n",
       "      <td>Emma</td>\n",
       "      <td>24</td>\n",
       "      <td>Paris</td>\n",
       "      <td>50000</td>\n",
       "    </tr>\n",
       "  </tbody>\n",
       "</table>\n",
       "</div>"
      ],
      "text/plain": [
       "    df    Nom Prenom  Age  Ville  Salaire\n",
       "5  df2  James   Emma   24  Paris    50000"
      ]
     },
     "execution_count": 32,
     "metadata": {},
     "output_type": "execute_result"
    }
   ],
   "source": [
    "# Lignes supplémentaires dans df2\n",
    "df1 = pd.read_csv('table0.csv')\n",
    "df2 = pd.read_csv('table3.csv')\n",
    "df_comp = pd.concat([df1,df2], axis=0, keys=['df1', 'df2'])\n",
    "df_comp = df_comp.drop_duplicates()\n",
    "df_comp = df_comp.reset_index()\n",
    "df_comp = df_comp.drop(columns='level_1')\n",
    "df_comp = df_comp.rename(columns={'level_0':'df'})\n",
    "df_comp[df_comp.df == 'df2']"
   ]
  },
  {
   "cell_type": "code",
   "execution_count": 26,
   "metadata": {},
   "outputs": [
    {
     "data": {
      "text/html": [
       "<div>\n",
       "<style scoped>\n",
       "    .dataframe tbody tr th:only-of-type {\n",
       "        vertical-align: middle;\n",
       "    }\n",
       "\n",
       "    .dataframe tbody tr th {\n",
       "        vertical-align: top;\n",
       "    }\n",
       "\n",
       "    .dataframe thead th {\n",
       "        text-align: right;\n",
       "    }\n",
       "</style>\n",
       "<table border=\"1\" class=\"dataframe\">\n",
       "  <thead>\n",
       "    <tr style=\"text-align: right;\">\n",
       "      <th></th>\n",
       "      <th>Nom</th>\n",
       "      <th>Prenom</th>\n",
       "      <th>Age</th>\n",
       "      <th>Ville</th>\n",
       "      <th>Salaire</th>\n",
       "    </tr>\n",
       "  </thead>\n",
       "  <tbody>\n",
       "    <tr>\n",
       "      <th>5</th>\n",
       "      <td>Leroy</td>\n",
       "      <td>Anna</td>\n",
       "      <td>31</td>\n",
       "      <td>Lille</td>\n",
       "      <td>48700</td>\n",
       "    </tr>\n",
       "  </tbody>\n",
       "</table>\n",
       "</div>"
      ],
      "text/plain": [
       "     Nom Prenom  Age  Ville  Salaire\n",
       "5  Leroy   Anna   31  Lille    48700"
      ]
     },
     "execution_count": 26,
     "metadata": {},
     "output_type": "execute_result"
    }
   ],
   "source": [
    "import pandas as pd\n",
    "\n",
    "df1 = pd.read_csv('table0.csv')\n",
    "df2 = pd.read_csv('table2.csv')\n",
    "\n",
    "# Trouver les modifications entre df1 et df2\n",
    "merged_df = pd.merge(df1, df2, how='outer', indicator=True)\n",
    "merged_df = merged_df.query('_merge == \"right_only\"')\n",
    "merged_df = merged_df.drop('_merge', axis=1)\n",
    "merged_df"
   ]
  },
  {
   "cell_type": "code",
   "execution_count": 21,
   "metadata": {},
   "outputs": [
    {
     "data": {
      "text/plain": [
       "0  self     NaN\n",
       "   other    NaN\n",
       "1  self     NaN\n",
       "   other    NaN\n",
       "2  self     NaN\n",
       "   other    NaN\n",
       "3  self     NaN\n",
       "   other    NaN\n",
       "4  self     NaN\n",
       "   other    NaN\n",
       "Name: Nom, dtype: object"
      ]
     },
     "execution_count": 21,
     "metadata": {},
     "output_type": "execute_result"
    }
   ],
   "source": [
    "import pandas as pd\n",
    "df1 = pd.read_csv('table0.csv')\n",
    "df2 = pd.read_csv('table1-2.csv')\n",
    "df_comp = df1.compare(df2, align_axis=0, keep_shape=True)\n",
    "df_comp"
   ]
  },
  {
   "cell_type": "code",
   "execution_count": null,
   "metadata": {},
   "outputs": [],
   "source": [
    "from classes.file_to_gcs import FileToGcs\n",
    "\n",
    "credentials_path = 'cred/various-projects-410519-32810188712a.json'\n",
    "project_id = 'various-projects-410519'\n",
    "dataset_name = 'test_updating'\n",
    "table_name = 'cnil_catalog_bq'\n",
    "init1 = FileToGcs(credentials_path, project_id, dataset_name, table_name)"
   ]
  },
  {
   "cell_type": "code",
   "execution_count": 1,
   "metadata": {},
   "outputs": [
    {
     "name": "stdout",
     "output_type": "stream",
     "text": [
      "\u001b[32mCreated dataset (or already exists) various-projects-410519.test_updating\u001b[0m\n"
     ]
    },
    {
     "name": "stderr",
     "output_type": "stream",
     "text": [
      "1it [00:02,  2.52s/it]"
     ]
    },
    {
     "name": "stdout",
     "output_type": "stream",
     "text": [
      "\u001b[32mDataFrame is uploaded to various-projects-410519.test_updating.table_test\u001b[0m\n"
     ]
    },
    {
     "name": "stderr",
     "output_type": "stream",
     "text": [
      "\n"
     ]
    }
   ],
   "source": [
    "from classes.gcs_to_gcp import FromGCStoGBQ\n",
    "import pandas as pd\n",
    "\n",
    "credentials_path = 'cred/various-projects-410519-32810188712a.json'\n",
    "project_id = 'various-projects-410519'\n",
    "dataset_name = 'test_updating'\n",
    "table_name = 'table_test'\n",
    "df = pd.read_csv('table0.csv')\n",
    "\n",
    "processor_bq = FromGCStoGBQ(credentials_path, project_id, dataset_name)\n",
    "processor_bq.create_dataset()\n",
    "processor_bq.df_to_bq(df, table_name)"
   ]
  },
  {
   "cell_type": "code",
   "execution_count": null,
   "metadata": {},
   "outputs": [],
   "source": []
  }
 ],
 "metadata": {
  "kernelspec": {
   "display_name": "base",
   "language": "python",
   "name": "python3"
  },
  "language_info": {
   "codemirror_mode": {
    "name": "ipython",
    "version": 3
   },
   "file_extension": ".py",
   "mimetype": "text/x-python",
   "name": "python",
   "nbconvert_exporter": "python",
   "pygments_lexer": "ipython3",
   "version": "3.10.9"
  }
 },
 "nbformat": 4,
 "nbformat_minor": 2
}
