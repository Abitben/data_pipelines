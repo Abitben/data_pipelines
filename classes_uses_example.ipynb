{
 "cells": [
  {
   "cell_type": "markdown",
   "metadata": {},
   "source": [
    "# Building a Catalog"
   ]
  },
  {
   "cell_type": "code",
   "execution_count": 4,
   "metadata": {},
   "outputs": [
    {
     "name": "stdout",
     "output_type": "stream",
     "text": [
      "Request is a success: 200\n",
      "CSV file has been loaded to this path data/catalog/source_cnil_catalog_2024-04-19.csv\n"
     ]
    }
   ],
   "source": [
    "from classes.source_catalog import GetCnilCatalog\n",
    "\n",
    "url = 'https://www.data.gouv.fr/api/1/organizations/534fff61a3a7292c64a77d59/catalog'\n",
    "headers = {'accept': 'application/json'}\n",
    "url_add = 'https://www.data.gouv.fr/fr/organizations/cnil/datasets.csv'\n",
    "instance1 = GetCnilCatalog(url, headers, url_add)\n",
    "data = instance1.fetch_data_from_api()\n",
    "data = data['@graph']\n",
    "table_name = 'title'\n",
    "download_url = 'downloadURL'\n",
    "table_id = 'identifier' \n",
    "file_format= 'format'\n",
    "last_update= 'modified' \n",
    "accessURL = '@id'\n",
    "df_catalog = instance1.response_to_dataframe(data=data, table_name=table_name, download_url=download_url, table_id=table_id, file_format=file_format, last_update=last_update, accessURL=accessURL)\n",
    "df_dataset = instance1.load_additional_info()\n",
    "df_catalog = instance1.identify_datasets_info()\n",
    "df_catalog = instance1.merge_additional_info()\n",
    "instance1.save_to_csv('source_cnil_catalog')"
   ]
  },
  {
   "cell_type": "markdown",
   "metadata": {},
   "source": [
    "# Uploading Files to GCS"
   ]
  },
  {
   "cell_type": "code",
   "execution_count": 5,
   "metadata": {},
   "outputs": [
    {
     "name": "stdout",
     "output_type": "stream",
     "text": [
      "Bucket already exists.\n",
      "\u001b[32m2024-04-19/raw/source_cnil_catalog_2024-04-19.csv is uploaded to 2024-04-19/raw/source_cnil_catalog_2024-04-19.csv.\u001b[0m\n"
     ]
    }
   ],
   "source": [
    "# from a dataframe (must have a dest_blob name)\n",
    "\n",
    "from classes.gcs_processor import GCSProcessor\n",
    "import os\n",
    "from datetime import date\n",
    "\n",
    "today = date.today()\n",
    "bucket_name = 'cnil_csv'\n",
    "credential_path = 'cred/service_account_local_py.json'\n",
    "init2 = GCSProcessor(bucket_name = bucket_name, credentials_path= credential_path)\n",
    "init2.create_bucket()\n",
    "file_paths = [df_catalog]\n",
    "dest_folder = 'raw'\n",
    "dest_blobs = [f'source_cnil_catalog_{today}.csv']\n",
    "init2.upload_local_to_gcs(file_paths=file_paths, dest_folder=dest_folder, dest_blobs=dest_blobs, date=today)"
   ]
  },
  {
   "cell_type": "code",
   "execution_count": null,
   "metadata": {},
   "outputs": [],
   "source": [
    "# from a local file (doesn't require a dest_blob name, it will be the same as the file name)\n",
    "\n",
    "from classes.gcs_processor import GCSProcessor\n",
    "import os\n",
    "from datetime import date\n",
    "\n",
    "today = date.today()\n",
    "\n",
    "bucket_name = 'cnil_csv'\n",
    "credential_path = 'cred/service_account_local_py.json'\n",
    "init2 = GCSProcessor(bucket_name = bucket_name, credentials_path= credential_path)\n",
    "init2.create_bucket()\n",
    "file_paths = [f'data/catalog/source_cnil_catalog_{today}.csv']\n",
    "dest_folder = 'raw'\n",
    "dest_blob = [f'source_cnil_catalog_{today}.csv']\n",
    "init2.upload_local_to_gcs(file_paths=file_paths, dest_folder=dest_folder, date=today)"
   ]
  },
  {
   "cell_type": "code",
   "execution_count": null,
   "metadata": {},
   "outputs": [],
   "source": [
    "# from a URL (doesn't require a dest_blob name, it will be the same as the file name)\n",
    "\n",
    "from classes.gcs_processor import GCSProcessor\n",
    "import os\n",
    "from datetime import date\n",
    "\n",
    "today = date.today()\n",
    "\n",
    "bucket_name = 'cnil_csv'\n",
    "credentials_path = 'cred/service_account_local_py.json'\n",
    "init2 = GCSProcessor(bucket_name = bucket_name, credentials_path= credentials_path)\n",
    "init2.create_bucket()\n",
    "urls = ['https://www.data.gouv.fr/fr/organizations/cnil/datasets.csv', 'https://www.data.gouv.fr/fr/datasets/r/0f678674-4327-4c4d-8819-b6f508b41d0e']\n",
    "dest_folder = 'raw'\n",
    "dest_blobs = ['datasets.csv', 'plaintes.csv']\n",
    "init2.dl_and_up_from_URLs(urls=urls, dest_folder=dest_folder, dest_blobs=dest_blobs, date=today)"
   ]
  },
  {
   "cell_type": "markdown",
   "metadata": {},
   "source": [
    "# Downloading Files from Catalog"
   ]
  },
  {
   "cell_type": "code",
   "execution_count": 1,
   "metadata": {},
   "outputs": [
    {
     "name": "stdout",
     "output_type": "stream",
     "text": [
      "Error when downloading table Organismes ayant désigné un(e) délégué(e) à la protection des données (DPD/DPO) : Invalid URL 'nan': No scheme supplied. Perhaps you meant http://nan?\n"
     ]
    },
    {
     "ename": "KeyboardInterrupt",
     "evalue": "",
     "output_type": "error",
     "traceback": [
      "\u001b[0;31m---------------------------------------------------------------------------\u001b[0m",
      "\u001b[0;31mKeyboardInterrupt\u001b[0m                         Traceback (most recent call last)",
      "Cell \u001b[0;32mIn[1], line 11\u001b[0m\n\u001b[1;32m      8\u001b[0m catalog_path \u001b[38;5;241m=\u001b[39m \u001b[38;5;124mf\u001b[39m\u001b[38;5;124m'\u001b[39m\u001b[38;5;124mdata/catalog/source_cnil_catalog_\u001b[39m\u001b[38;5;132;01m{\u001b[39;00mtoday\u001b[38;5;132;01m}\u001b[39;00m\u001b[38;5;124m.csv\u001b[39m\u001b[38;5;124m'\u001b[39m\n\u001b[1;32m     10\u001b[0m instance3 \u001b[38;5;241m=\u001b[39m DlCatalogContentLocal(catalog_path\u001b[38;5;241m=\u001b[39mcatalog_path)\n\u001b[0;32m---> 11\u001b[0m \u001b[43minstance3\u001b[49m\u001b[38;5;241;43m.\u001b[39;49m\u001b[43mget_tables\u001b[49m\u001b[43m(\u001b[49m\u001b[43m)\u001b[49m\n\u001b[1;32m     12\u001b[0m instance3\u001b[38;5;241m.\u001b[39mzip_files()\n\u001b[1;32m     14\u001b[0m zip_file \u001b[38;5;241m=\u001b[39m \u001b[38;5;124mf\u001b[39m\u001b[38;5;124m'\u001b[39m\u001b[38;5;124mdata/raw_datasets_\u001b[39m\u001b[38;5;132;01m{\u001b[39;00mtoday\u001b[38;5;132;01m}\u001b[39;00m\u001b[38;5;124m.zip\u001b[39m\u001b[38;5;124m'\u001b[39m\n",
      "File \u001b[0;32m~/Documents/projets_persos/Pipeline/classes/download_catalog_content.py:70\u001b[0m, in \u001b[0;36mDlCatalogContentLocal.get_tables\u001b[0;34m(self)\u001b[0m\n\u001b[1;32m     67\u001b[0m     last_date \u001b[38;5;241m=\u001b[39m current_datetime\u001b[38;5;241m.\u001b[39mdate()\n\u001b[1;32m     69\u001b[0m \u001b[38;5;28;01mtry\u001b[39;00m:\n\u001b[0;32m---> 70\u001b[0m     response \u001b[38;5;241m=\u001b[39m \u001b[43mrequests\u001b[49m\u001b[38;5;241;43m.\u001b[39;49m\u001b[43mget\u001b[49m\u001b[43m(\u001b[49m\u001b[43mrow\u001b[49m\u001b[38;5;241;43m.\u001b[39;49m\u001b[43mdownload_URL\u001b[49m\u001b[43m)\u001b[49m\n\u001b[1;32m     71\u001b[0m     new_file_name \u001b[38;5;241m=\u001b[39m \u001b[38;5;28mself\u001b[39m\u001b[38;5;241m.\u001b[39mreorganize_file_name(row\u001b[38;5;241m.\u001b[39mtable_name, last_date)\n\u001b[1;32m     73\u001b[0m     \u001b[38;5;28;01mwith\u001b[39;00m \u001b[38;5;28mopen\u001b[39m(\u001b[38;5;124mf\u001b[39m\u001b[38;5;124m'\u001b[39m\u001b[38;5;132;01m{\u001b[39;00mdest_folder\u001b[38;5;132;01m}\u001b[39;00m\u001b[38;5;124m/\u001b[39m\u001b[38;5;132;01m{\u001b[39;00mnew_file_name\u001b[38;5;132;01m}\u001b[39;00m\u001b[38;5;124m'\u001b[39m, \u001b[38;5;124m'\u001b[39m\u001b[38;5;124mwb\u001b[39m\u001b[38;5;124m'\u001b[39m) \u001b[38;5;28;01mas\u001b[39;00m f:\n",
      "File \u001b[0;32m~/anaconda3/lib/python3.10/site-packages/requests/api.py:73\u001b[0m, in \u001b[0;36mget\u001b[0;34m(url, params, **kwargs)\u001b[0m\n\u001b[1;32m     62\u001b[0m \u001b[38;5;28;01mdef\u001b[39;00m \u001b[38;5;21mget\u001b[39m(url, params\u001b[38;5;241m=\u001b[39m\u001b[38;5;28;01mNone\u001b[39;00m, \u001b[38;5;241m*\u001b[39m\u001b[38;5;241m*\u001b[39mkwargs):\n\u001b[1;32m     63\u001b[0m \u001b[38;5;250m    \u001b[39m\u001b[38;5;124mr\u001b[39m\u001b[38;5;124;03m\"\"\"Sends a GET request.\u001b[39;00m\n\u001b[1;32m     64\u001b[0m \n\u001b[1;32m     65\u001b[0m \u001b[38;5;124;03m    :param url: URL for the new :class:`Request` object.\u001b[39;00m\n\u001b[0;32m   (...)\u001b[0m\n\u001b[1;32m     70\u001b[0m \u001b[38;5;124;03m    :rtype: requests.Response\u001b[39;00m\n\u001b[1;32m     71\u001b[0m \u001b[38;5;124;03m    \"\"\"\u001b[39;00m\n\u001b[0;32m---> 73\u001b[0m     \u001b[38;5;28;01mreturn\u001b[39;00m \u001b[43mrequest\u001b[49m\u001b[43m(\u001b[49m\u001b[38;5;124;43m\"\u001b[39;49m\u001b[38;5;124;43mget\u001b[39;49m\u001b[38;5;124;43m\"\u001b[39;49m\u001b[43m,\u001b[49m\u001b[43m \u001b[49m\u001b[43murl\u001b[49m\u001b[43m,\u001b[49m\u001b[43m \u001b[49m\u001b[43mparams\u001b[49m\u001b[38;5;241;43m=\u001b[39;49m\u001b[43mparams\u001b[49m\u001b[43m,\u001b[49m\u001b[43m \u001b[49m\u001b[38;5;241;43m*\u001b[39;49m\u001b[38;5;241;43m*\u001b[39;49m\u001b[43mkwargs\u001b[49m\u001b[43m)\u001b[49m\n",
      "File \u001b[0;32m~/anaconda3/lib/python3.10/site-packages/requests/api.py:59\u001b[0m, in \u001b[0;36mrequest\u001b[0;34m(method, url, **kwargs)\u001b[0m\n\u001b[1;32m     55\u001b[0m \u001b[38;5;66;03m# By using the 'with' statement we are sure the session is closed, thus we\u001b[39;00m\n\u001b[1;32m     56\u001b[0m \u001b[38;5;66;03m# avoid leaving sockets open which can trigger a ResourceWarning in some\u001b[39;00m\n\u001b[1;32m     57\u001b[0m \u001b[38;5;66;03m# cases, and look like a memory leak in others.\u001b[39;00m\n\u001b[1;32m     58\u001b[0m \u001b[38;5;28;01mwith\u001b[39;00m sessions\u001b[38;5;241m.\u001b[39mSession() \u001b[38;5;28;01mas\u001b[39;00m session:\n\u001b[0;32m---> 59\u001b[0m     \u001b[38;5;28;01mreturn\u001b[39;00m \u001b[43msession\u001b[49m\u001b[38;5;241;43m.\u001b[39;49m\u001b[43mrequest\u001b[49m\u001b[43m(\u001b[49m\u001b[43mmethod\u001b[49m\u001b[38;5;241;43m=\u001b[39;49m\u001b[43mmethod\u001b[49m\u001b[43m,\u001b[49m\u001b[43m \u001b[49m\u001b[43murl\u001b[49m\u001b[38;5;241;43m=\u001b[39;49m\u001b[43murl\u001b[49m\u001b[43m,\u001b[49m\u001b[43m \u001b[49m\u001b[38;5;241;43m*\u001b[39;49m\u001b[38;5;241;43m*\u001b[39;49m\u001b[43mkwargs\u001b[49m\u001b[43m)\u001b[49m\n",
      "File \u001b[0;32m~/anaconda3/lib/python3.10/site-packages/requests/sessions.py:587\u001b[0m, in \u001b[0;36mSession.request\u001b[0;34m(self, method, url, params, data, headers, cookies, files, auth, timeout, allow_redirects, proxies, hooks, stream, verify, cert, json)\u001b[0m\n\u001b[1;32m    582\u001b[0m send_kwargs \u001b[38;5;241m=\u001b[39m {\n\u001b[1;32m    583\u001b[0m     \u001b[38;5;124m\"\u001b[39m\u001b[38;5;124mtimeout\u001b[39m\u001b[38;5;124m\"\u001b[39m: timeout,\n\u001b[1;32m    584\u001b[0m     \u001b[38;5;124m\"\u001b[39m\u001b[38;5;124mallow_redirects\u001b[39m\u001b[38;5;124m\"\u001b[39m: allow_redirects,\n\u001b[1;32m    585\u001b[0m }\n\u001b[1;32m    586\u001b[0m send_kwargs\u001b[38;5;241m.\u001b[39mupdate(settings)\n\u001b[0;32m--> 587\u001b[0m resp \u001b[38;5;241m=\u001b[39m \u001b[38;5;28;43mself\u001b[39;49m\u001b[38;5;241;43m.\u001b[39;49m\u001b[43msend\u001b[49m\u001b[43m(\u001b[49m\u001b[43mprep\u001b[49m\u001b[43m,\u001b[49m\u001b[43m \u001b[49m\u001b[38;5;241;43m*\u001b[39;49m\u001b[38;5;241;43m*\u001b[39;49m\u001b[43msend_kwargs\u001b[49m\u001b[43m)\u001b[49m\n\u001b[1;32m    589\u001b[0m \u001b[38;5;28;01mreturn\u001b[39;00m resp\n",
      "File \u001b[0;32m~/anaconda3/lib/python3.10/site-packages/requests/sessions.py:701\u001b[0m, in \u001b[0;36mSession.send\u001b[0;34m(self, request, **kwargs)\u001b[0m\n\u001b[1;32m    698\u001b[0m start \u001b[38;5;241m=\u001b[39m preferred_clock()\n\u001b[1;32m    700\u001b[0m \u001b[38;5;66;03m# Send the request\u001b[39;00m\n\u001b[0;32m--> 701\u001b[0m r \u001b[38;5;241m=\u001b[39m \u001b[43madapter\u001b[49m\u001b[38;5;241;43m.\u001b[39;49m\u001b[43msend\u001b[49m\u001b[43m(\u001b[49m\u001b[43mrequest\u001b[49m\u001b[43m,\u001b[49m\u001b[43m \u001b[49m\u001b[38;5;241;43m*\u001b[39;49m\u001b[38;5;241;43m*\u001b[39;49m\u001b[43mkwargs\u001b[49m\u001b[43m)\u001b[49m\n\u001b[1;32m    703\u001b[0m \u001b[38;5;66;03m# Total elapsed time of the request (approximately)\u001b[39;00m\n\u001b[1;32m    704\u001b[0m elapsed \u001b[38;5;241m=\u001b[39m preferred_clock() \u001b[38;5;241m-\u001b[39m start\n",
      "File \u001b[0;32m~/anaconda3/lib/python3.10/site-packages/requests/adapters.py:489\u001b[0m, in \u001b[0;36mHTTPAdapter.send\u001b[0;34m(self, request, stream, timeout, verify, cert, proxies)\u001b[0m\n\u001b[1;32m    487\u001b[0m \u001b[38;5;28;01mtry\u001b[39;00m:\n\u001b[1;32m    488\u001b[0m     \u001b[38;5;28;01mif\u001b[39;00m \u001b[38;5;129;01mnot\u001b[39;00m chunked:\n\u001b[0;32m--> 489\u001b[0m         resp \u001b[38;5;241m=\u001b[39m \u001b[43mconn\u001b[49m\u001b[38;5;241;43m.\u001b[39;49m\u001b[43murlopen\u001b[49m\u001b[43m(\u001b[49m\n\u001b[1;32m    490\u001b[0m \u001b[43m            \u001b[49m\u001b[43mmethod\u001b[49m\u001b[38;5;241;43m=\u001b[39;49m\u001b[43mrequest\u001b[49m\u001b[38;5;241;43m.\u001b[39;49m\u001b[43mmethod\u001b[49m\u001b[43m,\u001b[49m\n\u001b[1;32m    491\u001b[0m \u001b[43m            \u001b[49m\u001b[43murl\u001b[49m\u001b[38;5;241;43m=\u001b[39;49m\u001b[43murl\u001b[49m\u001b[43m,\u001b[49m\n\u001b[1;32m    492\u001b[0m \u001b[43m            \u001b[49m\u001b[43mbody\u001b[49m\u001b[38;5;241;43m=\u001b[39;49m\u001b[43mrequest\u001b[49m\u001b[38;5;241;43m.\u001b[39;49m\u001b[43mbody\u001b[49m\u001b[43m,\u001b[49m\n\u001b[1;32m    493\u001b[0m \u001b[43m            \u001b[49m\u001b[43mheaders\u001b[49m\u001b[38;5;241;43m=\u001b[39;49m\u001b[43mrequest\u001b[49m\u001b[38;5;241;43m.\u001b[39;49m\u001b[43mheaders\u001b[49m\u001b[43m,\u001b[49m\n\u001b[1;32m    494\u001b[0m \u001b[43m            \u001b[49m\u001b[43mredirect\u001b[49m\u001b[38;5;241;43m=\u001b[39;49m\u001b[38;5;28;43;01mFalse\u001b[39;49;00m\u001b[43m,\u001b[49m\n\u001b[1;32m    495\u001b[0m \u001b[43m            \u001b[49m\u001b[43massert_same_host\u001b[49m\u001b[38;5;241;43m=\u001b[39;49m\u001b[38;5;28;43;01mFalse\u001b[39;49;00m\u001b[43m,\u001b[49m\n\u001b[1;32m    496\u001b[0m \u001b[43m            \u001b[49m\u001b[43mpreload_content\u001b[49m\u001b[38;5;241;43m=\u001b[39;49m\u001b[38;5;28;43;01mFalse\u001b[39;49;00m\u001b[43m,\u001b[49m\n\u001b[1;32m    497\u001b[0m \u001b[43m            \u001b[49m\u001b[43mdecode_content\u001b[49m\u001b[38;5;241;43m=\u001b[39;49m\u001b[38;5;28;43;01mFalse\u001b[39;49;00m\u001b[43m,\u001b[49m\n\u001b[1;32m    498\u001b[0m \u001b[43m            \u001b[49m\u001b[43mretries\u001b[49m\u001b[38;5;241;43m=\u001b[39;49m\u001b[38;5;28;43mself\u001b[39;49m\u001b[38;5;241;43m.\u001b[39;49m\u001b[43mmax_retries\u001b[49m\u001b[43m,\u001b[49m\n\u001b[1;32m    499\u001b[0m \u001b[43m            \u001b[49m\u001b[43mtimeout\u001b[49m\u001b[38;5;241;43m=\u001b[39;49m\u001b[43mtimeout\u001b[49m\u001b[43m,\u001b[49m\n\u001b[1;32m    500\u001b[0m \u001b[43m        \u001b[49m\u001b[43m)\u001b[49m\n\u001b[1;32m    502\u001b[0m     \u001b[38;5;66;03m# Send the request.\u001b[39;00m\n\u001b[1;32m    503\u001b[0m     \u001b[38;5;28;01melse\u001b[39;00m:\n\u001b[1;32m    504\u001b[0m         \u001b[38;5;28;01mif\u001b[39;00m \u001b[38;5;28mhasattr\u001b[39m(conn, \u001b[38;5;124m\"\u001b[39m\u001b[38;5;124mproxy_pool\u001b[39m\u001b[38;5;124m\"\u001b[39m):\n",
      "File \u001b[0;32m~/anaconda3/lib/python3.10/site-packages/urllib3/connectionpool.py:714\u001b[0m, in \u001b[0;36mHTTPConnectionPool.urlopen\u001b[0;34m(self, method, url, body, headers, retries, redirect, assert_same_host, timeout, pool_timeout, release_conn, chunked, body_pos, **response_kw)\u001b[0m\n\u001b[1;32m    711\u001b[0m     \u001b[38;5;28mself\u001b[39m\u001b[38;5;241m.\u001b[39m_prepare_proxy(conn)\n\u001b[1;32m    713\u001b[0m \u001b[38;5;66;03m# Make the request on the httplib connection object.\u001b[39;00m\n\u001b[0;32m--> 714\u001b[0m httplib_response \u001b[38;5;241m=\u001b[39m \u001b[38;5;28;43mself\u001b[39;49m\u001b[38;5;241;43m.\u001b[39;49m\u001b[43m_make_request\u001b[49m\u001b[43m(\u001b[49m\n\u001b[1;32m    715\u001b[0m \u001b[43m    \u001b[49m\u001b[43mconn\u001b[49m\u001b[43m,\u001b[49m\n\u001b[1;32m    716\u001b[0m \u001b[43m    \u001b[49m\u001b[43mmethod\u001b[49m\u001b[43m,\u001b[49m\n\u001b[1;32m    717\u001b[0m \u001b[43m    \u001b[49m\u001b[43murl\u001b[49m\u001b[43m,\u001b[49m\n\u001b[1;32m    718\u001b[0m \u001b[43m    \u001b[49m\u001b[43mtimeout\u001b[49m\u001b[38;5;241;43m=\u001b[39;49m\u001b[43mtimeout_obj\u001b[49m\u001b[43m,\u001b[49m\n\u001b[1;32m    719\u001b[0m \u001b[43m    \u001b[49m\u001b[43mbody\u001b[49m\u001b[38;5;241;43m=\u001b[39;49m\u001b[43mbody\u001b[49m\u001b[43m,\u001b[49m\n\u001b[1;32m    720\u001b[0m \u001b[43m    \u001b[49m\u001b[43mheaders\u001b[49m\u001b[38;5;241;43m=\u001b[39;49m\u001b[43mheaders\u001b[49m\u001b[43m,\u001b[49m\n\u001b[1;32m    721\u001b[0m \u001b[43m    \u001b[49m\u001b[43mchunked\u001b[49m\u001b[38;5;241;43m=\u001b[39;49m\u001b[43mchunked\u001b[49m\u001b[43m,\u001b[49m\n\u001b[1;32m    722\u001b[0m \u001b[43m\u001b[49m\u001b[43m)\u001b[49m\n\u001b[1;32m    724\u001b[0m \u001b[38;5;66;03m# If we're going to release the connection in ``finally:``, then\u001b[39;00m\n\u001b[1;32m    725\u001b[0m \u001b[38;5;66;03m# the response doesn't need to know about the connection. Otherwise\u001b[39;00m\n\u001b[1;32m    726\u001b[0m \u001b[38;5;66;03m# it will also try to release it and we'll have a double-release\u001b[39;00m\n\u001b[1;32m    727\u001b[0m \u001b[38;5;66;03m# mess.\u001b[39;00m\n\u001b[1;32m    728\u001b[0m response_conn \u001b[38;5;241m=\u001b[39m conn \u001b[38;5;28;01mif\u001b[39;00m \u001b[38;5;129;01mnot\u001b[39;00m release_conn \u001b[38;5;28;01melse\u001b[39;00m \u001b[38;5;28;01mNone\u001b[39;00m\n",
      "File \u001b[0;32m~/anaconda3/lib/python3.10/site-packages/urllib3/connectionpool.py:403\u001b[0m, in \u001b[0;36mHTTPConnectionPool._make_request\u001b[0;34m(self, conn, method, url, timeout, chunked, **httplib_request_kw)\u001b[0m\n\u001b[1;32m    401\u001b[0m \u001b[38;5;66;03m# Trigger any extra validation we need to do.\u001b[39;00m\n\u001b[1;32m    402\u001b[0m \u001b[38;5;28;01mtry\u001b[39;00m:\n\u001b[0;32m--> 403\u001b[0m     \u001b[38;5;28;43mself\u001b[39;49m\u001b[38;5;241;43m.\u001b[39;49m\u001b[43m_validate_conn\u001b[49m\u001b[43m(\u001b[49m\u001b[43mconn\u001b[49m\u001b[43m)\u001b[49m\n\u001b[1;32m    404\u001b[0m \u001b[38;5;28;01mexcept\u001b[39;00m (SocketTimeout, BaseSSLError) \u001b[38;5;28;01mas\u001b[39;00m e:\n\u001b[1;32m    405\u001b[0m     \u001b[38;5;66;03m# Py2 raises this as a BaseSSLError, Py3 raises it as socket timeout.\u001b[39;00m\n\u001b[1;32m    406\u001b[0m     \u001b[38;5;28mself\u001b[39m\u001b[38;5;241m.\u001b[39m_raise_timeout(err\u001b[38;5;241m=\u001b[39me, url\u001b[38;5;241m=\u001b[39murl, timeout_value\u001b[38;5;241m=\u001b[39mconn\u001b[38;5;241m.\u001b[39mtimeout)\n",
      "File \u001b[0;32m~/anaconda3/lib/python3.10/site-packages/urllib3/connectionpool.py:1053\u001b[0m, in \u001b[0;36mHTTPSConnectionPool._validate_conn\u001b[0;34m(self, conn)\u001b[0m\n\u001b[1;32m   1051\u001b[0m \u001b[38;5;66;03m# Force connect early to allow us to validate the connection.\u001b[39;00m\n\u001b[1;32m   1052\u001b[0m \u001b[38;5;28;01mif\u001b[39;00m \u001b[38;5;129;01mnot\u001b[39;00m \u001b[38;5;28mgetattr\u001b[39m(conn, \u001b[38;5;124m\"\u001b[39m\u001b[38;5;124msock\u001b[39m\u001b[38;5;124m\"\u001b[39m, \u001b[38;5;28;01mNone\u001b[39;00m):  \u001b[38;5;66;03m# AppEngine might not have  `.sock`\u001b[39;00m\n\u001b[0;32m-> 1053\u001b[0m     \u001b[43mconn\u001b[49m\u001b[38;5;241;43m.\u001b[39;49m\u001b[43mconnect\u001b[49m\u001b[43m(\u001b[49m\u001b[43m)\u001b[49m\n\u001b[1;32m   1055\u001b[0m \u001b[38;5;28;01mif\u001b[39;00m \u001b[38;5;129;01mnot\u001b[39;00m conn\u001b[38;5;241m.\u001b[39mis_verified:\n\u001b[1;32m   1056\u001b[0m     warnings\u001b[38;5;241m.\u001b[39mwarn(\n\u001b[1;32m   1057\u001b[0m         (\n\u001b[1;32m   1058\u001b[0m             \u001b[38;5;124m\"\u001b[39m\u001b[38;5;124mUnverified HTTPS request is being made to host \u001b[39m\u001b[38;5;124m'\u001b[39m\u001b[38;5;132;01m%s\u001b[39;00m\u001b[38;5;124m'\u001b[39m\u001b[38;5;124m. \u001b[39m\u001b[38;5;124m\"\u001b[39m\n\u001b[0;32m   (...)\u001b[0m\n\u001b[1;32m   1063\u001b[0m         InsecureRequestWarning,\n\u001b[1;32m   1064\u001b[0m     )\n",
      "File \u001b[0;32m~/anaconda3/lib/python3.10/site-packages/urllib3/connection.py:363\u001b[0m, in \u001b[0;36mHTTPSConnection.connect\u001b[0;34m(self)\u001b[0m\n\u001b[1;32m    361\u001b[0m \u001b[38;5;28;01mdef\u001b[39;00m \u001b[38;5;21mconnect\u001b[39m(\u001b[38;5;28mself\u001b[39m):\n\u001b[1;32m    362\u001b[0m     \u001b[38;5;66;03m# Add certificate verification\u001b[39;00m\n\u001b[0;32m--> 363\u001b[0m     \u001b[38;5;28mself\u001b[39m\u001b[38;5;241m.\u001b[39msock \u001b[38;5;241m=\u001b[39m conn \u001b[38;5;241m=\u001b[39m \u001b[38;5;28;43mself\u001b[39;49m\u001b[38;5;241;43m.\u001b[39;49m\u001b[43m_new_conn\u001b[49m\u001b[43m(\u001b[49m\u001b[43m)\u001b[49m\n\u001b[1;32m    364\u001b[0m     hostname \u001b[38;5;241m=\u001b[39m \u001b[38;5;28mself\u001b[39m\u001b[38;5;241m.\u001b[39mhost\n\u001b[1;32m    365\u001b[0m     tls_in_tls \u001b[38;5;241m=\u001b[39m \u001b[38;5;28;01mFalse\u001b[39;00m\n",
      "File \u001b[0;32m~/anaconda3/lib/python3.10/site-packages/urllib3/connection.py:174\u001b[0m, in \u001b[0;36mHTTPConnection._new_conn\u001b[0;34m(self)\u001b[0m\n\u001b[1;32m    171\u001b[0m     extra_kw[\u001b[38;5;124m\"\u001b[39m\u001b[38;5;124msocket_options\u001b[39m\u001b[38;5;124m\"\u001b[39m] \u001b[38;5;241m=\u001b[39m \u001b[38;5;28mself\u001b[39m\u001b[38;5;241m.\u001b[39msocket_options\n\u001b[1;32m    173\u001b[0m \u001b[38;5;28;01mtry\u001b[39;00m:\n\u001b[0;32m--> 174\u001b[0m     conn \u001b[38;5;241m=\u001b[39m \u001b[43mconnection\u001b[49m\u001b[38;5;241;43m.\u001b[39;49m\u001b[43mcreate_connection\u001b[49m\u001b[43m(\u001b[49m\n\u001b[1;32m    175\u001b[0m \u001b[43m        \u001b[49m\u001b[43m(\u001b[49m\u001b[38;5;28;43mself\u001b[39;49m\u001b[38;5;241;43m.\u001b[39;49m\u001b[43m_dns_host\u001b[49m\u001b[43m,\u001b[49m\u001b[43m \u001b[49m\u001b[38;5;28;43mself\u001b[39;49m\u001b[38;5;241;43m.\u001b[39;49m\u001b[43mport\u001b[49m\u001b[43m)\u001b[49m\u001b[43m,\u001b[49m\u001b[43m \u001b[49m\u001b[38;5;28;43mself\u001b[39;49m\u001b[38;5;241;43m.\u001b[39;49m\u001b[43mtimeout\u001b[49m\u001b[43m,\u001b[49m\u001b[43m \u001b[49m\u001b[38;5;241;43m*\u001b[39;49m\u001b[38;5;241;43m*\u001b[39;49m\u001b[43mextra_kw\u001b[49m\n\u001b[1;32m    176\u001b[0m \u001b[43m    \u001b[49m\u001b[43m)\u001b[49m\n\u001b[1;32m    178\u001b[0m \u001b[38;5;28;01mexcept\u001b[39;00m SocketTimeout:\n\u001b[1;32m    179\u001b[0m     \u001b[38;5;28;01mraise\u001b[39;00m ConnectTimeoutError(\n\u001b[1;32m    180\u001b[0m         \u001b[38;5;28mself\u001b[39m,\n\u001b[1;32m    181\u001b[0m         \u001b[38;5;124m\"\u001b[39m\u001b[38;5;124mConnection to \u001b[39m\u001b[38;5;132;01m%s\u001b[39;00m\u001b[38;5;124m timed out. (connect timeout=\u001b[39m\u001b[38;5;132;01m%s\u001b[39;00m\u001b[38;5;124m)\u001b[39m\u001b[38;5;124m\"\u001b[39m\n\u001b[1;32m    182\u001b[0m         \u001b[38;5;241m%\u001b[39m (\u001b[38;5;28mself\u001b[39m\u001b[38;5;241m.\u001b[39mhost, \u001b[38;5;28mself\u001b[39m\u001b[38;5;241m.\u001b[39mtimeout),\n\u001b[1;32m    183\u001b[0m     )\n",
      "File \u001b[0;32m~/anaconda3/lib/python3.10/site-packages/urllib3/util/connection.py:85\u001b[0m, in \u001b[0;36mcreate_connection\u001b[0;34m(address, timeout, source_address, socket_options)\u001b[0m\n\u001b[1;32m     83\u001b[0m     \u001b[38;5;28;01mif\u001b[39;00m source_address:\n\u001b[1;32m     84\u001b[0m         sock\u001b[38;5;241m.\u001b[39mbind(source_address)\n\u001b[0;32m---> 85\u001b[0m     \u001b[43msock\u001b[49m\u001b[38;5;241;43m.\u001b[39;49m\u001b[43mconnect\u001b[49m\u001b[43m(\u001b[49m\u001b[43msa\u001b[49m\u001b[43m)\u001b[49m\n\u001b[1;32m     86\u001b[0m     \u001b[38;5;28;01mreturn\u001b[39;00m sock\n\u001b[1;32m     88\u001b[0m \u001b[38;5;28;01mexcept\u001b[39;00m socket\u001b[38;5;241m.\u001b[39merror \u001b[38;5;28;01mas\u001b[39;00m e:\n",
      "\u001b[0;31mKeyboardInterrupt\u001b[0m: "
     ]
    }
   ],
   "source": [
    "# from a local file to a local file\n",
    "\n",
    "from classes.download_catalog_content import DlCatalogContentLocal\n",
    "from datetime import date\n",
    "from classes.download_catalog_content import GdprSanctionsScrapper\n",
    "\n",
    "today = date.today()\n",
    "catalog_path = f'data/catalog/source_cnil_catalog_{today}.csv'\n",
    "\n",
    "instance3 = DlCatalogContentLocal(catalog_path=catalog_path)\n",
    "instance3.get_tables()\n",
    "instance3.zip_files()\n",
    "\n",
    "zip_file = f'data/raw_datasets_{today}.zip'\n",
    "\n",
    "scrapper = GdprSanctionsScrapper()\n",
    "zip_file = scrapper.add_to_zip(zip_file)"
   ]
  },
  {
   "cell_type": "code",
   "execution_count": 1,
   "metadata": {},
   "outputs": [
    {
     "name": "stdout",
     "output_type": "stream",
     "text": [
      "Current file downloading: les-deliberations-de-la-cnil/CNIL: les délibérations de la Commission nationale de l'informatique et des libertés_2024-04-19.xml\n",
      "Current file downloading: traitements-de-donnees-personnelles-declares-a-la-cnil-avant-le-25-mai-2018/Les traitements de données personnelles déclarés à la CNIL entre 1979 et le 24 mai 2018_2024-04-11.csv\n",
      "File Organismes ayant désigné un(e) délégué(e) à la protection des données (DPD/DPO) does not have a download URL.\n",
      "Current file downloading: organismes-ayant-designe-un-e-delegue-e-a-la-protection-des-donnees-dpd-dpo/opencnil-organismes-avec-dpo.xlsx_2024-04-08.xlsx\n",
      "Current file downloading: organismes-ayant-designe-un-e-delegue-e-a-la-protection-des-donnees-dpd-dpo/opencnil-organismes-avec-dpo.csv_2024-04-08.csv\n",
      "Current file downloading: traitements-de-donnees-personnelles-declares-a-la-cnil-depuis-le-25-mai-2018/Formalités préalables reçues par la CNIL depuis le 25 mai 2018_2024-04-08.csv\n",
      "File Budget de la CNIL does not have a download URL.\n",
      "Current file downloading: budget-de-la-cnil-1/opencnil-budget-depuis-2000-maj-mars-2024.csv_2024-03-29.csv\n",
      "Current file downloading: budget-de-la-cnil-1/opencnil-budget-depuis-2000-maj-mars-2024.xlsx_2024-03-29.xlsx\n",
      "File Notifications à la CNIL de violations de données à caractère personnel does not have a download URL.\n",
      "Current file downloading: notifications-a-la-cnil-de-violations-de-donnees-a-caractere-personnel/opencnil-violationsdcpnotifiees-20231231.xlsx_2024-03-29.xlsx\n",
      "Current file downloading: notifications-a-la-cnil-de-violations-de-donnees-a-caractere-personnel/opencnil-violationsdcpnotifiees-20231231.csv_2024-03-29.csv\n",
      "Current file downloading: traitements-de-donnees-personnelles-declares-a-la-cnil-depuis-le-25-mai-2018/Formalités préalables reçues par la CNIL depuis le 25 mai 2018_2024-03-25.xlsx\n",
      "Current file downloading: sanctions-prononcees-par-la-cnil/opencnil-sanctions-depuis-2019-maj-nov-2023.csv_2023-11-24.csv\n",
      "File Sanctions prononcées par la CNIL does not have a download URL.\n",
      "Current file downloading: sanctions-prononcees-par-la-cnil/opencnil-sanctions-depuis-2019-maj-nov-2023.xlsx_2023-11-24.xlsx\n",
      "File Traitements de données personnelles déclarés à la CNIL depuis le 25 mai 2018 does not have a download URL.\n",
      "Current file downloading: les-deliberations-de-la-cnil/DTD CNIL _2023-11-17.dtd\n",
      "File Protection des données personnelles dans le monde does not have a download URL.\n",
      "Current file downloading: protection-des-donnees-personnelles-dans-le-monde/opencnil-autorites-de-protection-vd-20231010.xlsx_2023-11-09.xlsx\n",
      "Current file downloading: protection-des-donnees-personnelles-dans-le-monde/opencnil-autorites-de-protection-vd-20231010.csv_2023-11-09.csv\n",
      "File Contrôles réalisés par la CNIL does not have a download URL.\n",
      "Current file downloading: controles-realises-par-la-cnil/open-data-controles-cnil-2022-v20231003.csv_2023-10-03.csv\n",
      "Current file downloading: controles-realises-par-la-cnil/open-data-controles-cnil-2022-v20231003.xlsx_2023-10-03.xlsx\n",
      "File Mises en demeure prononcées par la CNIL does not have a download URL.\n",
      "Current file downloading: mises-en-demeure-prononcees-par-la-cnil/open-cnil-volumes-med-depuis-2014-maj-aout-2023.csv_2023-08-25.csv\n",
      "Current file downloading: mises-en-demeure-prononcees-par-la-cnil/open-cnil-volumes-med-depuis-2014-maj-aout-2023.xlsx_2023-08-25.xlsx\n",
      "File Exercice des droits indirect (données générales) does not have a download URL.\n",
      "Current file downloading: exercice-des-droits-indirect-donnees-generales/opencnil-volumes-dai-edi-depuis-1984-maj-juin-2023.csv_2023-06-28.csv\n",
      "Current file downloading: exercice-des-droits-indirect-donnees-generales/opencnil-volumes-dai-edi-depuis-1984-maj-juin-2023.xlsx_2023-06-28.xlsx\n",
      "File Effectifs de la CNIL does not have a download URL.\n",
      "Current file downloading: effectifs-de-la-cnil/opencnil-effectifs-depuis-1980-maj-juin-2023.xlsx_2023-06-28.xlsx\n",
      "Current file downloading: effectifs-de-la-cnil/opencnil-effectifs-depuis-1980-maj-juin-2023.csv_2023-06-28.csv\n",
      "File Plaintes reçues par la CNIL does not have a download URL.\n",
      "Current file downloading: plaintes-recues-par-la-cnil/opencnil-volumes-plaintes-depuis-1981-maj-juin-2023.xlsx_2023-06-28.xlsx\n",
      "Current file downloading: plaintes-recues-par-la-cnil/opencnil-volumes-plaintes-depuis-1981-maj-juin-2023.csv_2023-06-28.csv\n",
      "Current file downloading: controles-realises-par-la-cnil/opencnil-nombre-controles-depuis-1990-maj-juin-2023.csv_2023-06-28.csv\n",
      "Current file downloading: controles-realises-par-la-cnil/opencnil-nombre-controles-depuis-1990-maj-juin-2023.xlsx_2023-06-28.xlsx\n",
      "Current file downloading: controles-realises-par-la-cnil/open-data-controles-2021-v20220921.csv_2022-10-25.csv\n",
      "Current file downloading: controles-realises-par-la-cnil/open-data-controles-2021-v20220921.xlsx_2022-10-25.xlsx\n",
      "Current file downloading: controles-realises-par-la-cnil/open-data-controles-2020-vd-20210603.csv_2021-06-03.csv\n",
      "Current file downloading: controles-realises-par-la-cnil/open-data-controles-2020-vd-20210603.xlsx_2021-06-03.xlsx\n",
      "File Marchés publics de la CNIL  does not have a download URL.\n",
      "Current file downloading: marches-publics-de-la-cnil/opencnil-marches-publics-2014-2020.xlsx_2021-06-02.xlsx\n",
      "File Droit d'accès indirect (TAJ, STIC, JUDEX) does not have a download URL.\n",
      "Current file downloading: controles-realises-par-la-cnil/opencnil-liste-controles-2019.xlsx_2020-11-13.xlsx\n",
      "Current file downloading: controles-realises-par-la-cnil/opencnil-liste-controles-2019.csv_2020-07-03.csv\n",
      "Current file downloading: controles-realises-par-la-cnil/opencnil-liste-controles-2018.csv_2019-05-16.csv\n",
      "Current file downloading: controles-realises-par-la-cnil/opencnil-liste-controles-2018.xlsx_2019-05-16.xlsx\n",
      "Current file downloading: sanctions-prononcees-par-la-cnil/open-cnil-ventilation-sanctions-depuis-2014-vd.csv_2019-05-14.csv\n",
      "Current file downloading: sanctions-prononcees-par-la-cnil/open-cnil-ventilation-sanctions-depuis-2014-vd.xlsx_2019-05-14.xlsx\n",
      "Current file downloading: droit-dacces-indirect-taj-stic-judex/opencnil-dai-stic-judex-taj-maj-janvier-2019.xlsx_2019-05-13.xlsx\n",
      "Current file downloading: droit-dacces-indirect-taj-stic-judex/opencnil-dai-stic-judex-taj-maj-janvier-2019.csv_2019-05-13.csv\n",
      "Current file downloading: controles-realises-par-la-cnil/Liste des contrôles réalisés par la CNIL en 2017_2018-06-20.csv\n",
      "Current file downloading: controles-realises-par-la-cnil/Liste des contrôles réalisés par la CNIL en 2017_2018-06-20.xlsx\n",
      "File Traitements de données personnelles déclarés à la CNIL avant le 25 mai 2018 does not have a download URL.\n",
      "File Correspondants Informatique et Libertés (CIL) does not have a download URL.\n",
      "Current file downloading: correspondants-informatique-et-libertes-cil/Organismes_avec_CIL.xlsx_2018-05-24.xlsx\n",
      "Current file downloading: correspondants-informatique-et-libertes-cil/Organismes_avec_CIL.csv_2018-05-24.csv\n",
      "File Les délibérations de la CNIL does not have a download URL.\n",
      "Current file downloading: controles-realises-par-la-cnil/Liste des contrôles réalisés par la CNIL en 2016_2017-03-30.csv\n",
      "Current file downloading: controles-realises-par-la-cnil/Liste des contrôles réalisés par la CNIL en 2016_2017-03-30.xlsx\n",
      "Current file downloading: controles-realises-par-la-cnil/Liste des contrôles réalisés par la CNIL en 2015_2016-05-03.csv\n",
      "Current file downloading: controles-realises-par-la-cnil/Liste des contrôles réalisés par la CNIL en 2015_2016-05-03.xlsx\n",
      "Current file downloading: controles-realises-par-la-cnil/Liste des contrôles réalisés par la CNIL en 2014_2015-06-15.csv\n",
      "Current file downloading: controles-realises-par-la-cnil/Liste des contrôles réalisés par la CNIL en 2014_2015-06-15.xlsx\n",
      "Current file: les-deliberations-de-la-cnil/CNIL: les délibérations de la Commission nationale de l'informatique et des libertés_2024-04-19.xml\n",
      "Current file: traitements-de-donnees-personnelles-declares-a-la-cnil-avant-le-25-mai-2018/Les traitements de données personnelles déclarés à la CNIL entre 1979 et le 24 mai 2018_2024-04-11.csv\n",
      "Current file: organismes-ayant-designe-un-e-delegue-e-a-la-protection-des-donnees-dpd-dpo/opencnil-organismes-avec-dpo.xlsx_2024-04-08.xlsx\n",
      "Current file: organismes-ayant-designe-un-e-delegue-e-a-la-protection-des-donnees-dpd-dpo/opencnil-organismes-avec-dpo.csv_2024-04-08.csv\n",
      "Current file: traitements-de-donnees-personnelles-declares-a-la-cnil-depuis-le-25-mai-2018/Formalités préalables reçues par la CNIL depuis le 25 mai 2018_2024-04-08.csv\n",
      "Current file: budget-de-la-cnil-1/opencnil-budget-depuis-2000-maj-mars-2024.csv_2024-03-29.csv\n",
      "Current file: budget-de-la-cnil-1/opencnil-budget-depuis-2000-maj-mars-2024.xlsx_2024-03-29.xlsx\n",
      "Current file: notifications-a-la-cnil-de-violations-de-donnees-a-caractere-personnel/opencnil-violationsdcpnotifiees-20231231.xlsx_2024-03-29.xlsx\n",
      "Current file: notifications-a-la-cnil-de-violations-de-donnees-a-caractere-personnel/opencnil-violationsdcpnotifiees-20231231.csv_2024-03-29.csv\n",
      "Current file: traitements-de-donnees-personnelles-declares-a-la-cnil-depuis-le-25-mai-2018/Formalités préalables reçues par la CNIL depuis le 25 mai 2018_2024-03-25.xlsx\n",
      "Current file: sanctions-prononcees-par-la-cnil/opencnil-sanctions-depuis-2019-maj-nov-2023.csv_2023-11-24.csv\n",
      "Current file: sanctions-prononcees-par-la-cnil/opencnil-sanctions-depuis-2019-maj-nov-2023.xlsx_2023-11-24.xlsx\n",
      "Current file: les-deliberations-de-la-cnil/DTD CNIL _2023-11-17.dtd\n",
      "Current file: protection-des-donnees-personnelles-dans-le-monde/opencnil-autorites-de-protection-vd-20231010.xlsx_2023-11-09.xlsx\n",
      "Current file: protection-des-donnees-personnelles-dans-le-monde/opencnil-autorites-de-protection-vd-20231010.csv_2023-11-09.csv\n",
      "Current file: controles-realises-par-la-cnil/open-data-controles-cnil-2022-v20231003.csv_2023-10-03.csv\n",
      "Current file: controles-realises-par-la-cnil/open-data-controles-cnil-2022-v20231003.xlsx_2023-10-03.xlsx\n",
      "Current file: mises-en-demeure-prononcees-par-la-cnil/open-cnil-volumes-med-depuis-2014-maj-aout-2023.csv_2023-08-25.csv\n",
      "Current file: mises-en-demeure-prononcees-par-la-cnil/open-cnil-volumes-med-depuis-2014-maj-aout-2023.xlsx_2023-08-25.xlsx\n",
      "Current file: exercice-des-droits-indirect-donnees-generales/opencnil-volumes-dai-edi-depuis-1984-maj-juin-2023.csv_2023-06-28.csv\n",
      "Current file: exercice-des-droits-indirect-donnees-generales/opencnil-volumes-dai-edi-depuis-1984-maj-juin-2023.xlsx_2023-06-28.xlsx\n",
      "Current file: effectifs-de-la-cnil/opencnil-effectifs-depuis-1980-maj-juin-2023.xlsx_2023-06-28.xlsx\n",
      "Current file: effectifs-de-la-cnil/opencnil-effectifs-depuis-1980-maj-juin-2023.csv_2023-06-28.csv\n",
      "Current file: plaintes-recues-par-la-cnil/opencnil-volumes-plaintes-depuis-1981-maj-juin-2023.xlsx_2023-06-28.xlsx\n",
      "Current file: plaintes-recues-par-la-cnil/opencnil-volumes-plaintes-depuis-1981-maj-juin-2023.csv_2023-06-28.csv\n",
      "Current file: controles-realises-par-la-cnil/opencnil-nombre-controles-depuis-1990-maj-juin-2023.csv_2023-06-28.csv\n",
      "Current file: controles-realises-par-la-cnil/opencnil-nombre-controles-depuis-1990-maj-juin-2023.xlsx_2023-06-28.xlsx\n",
      "Current file: controles-realises-par-la-cnil/open-data-controles-2021-v20220921.csv_2022-10-25.csv\n",
      "Current file: controles-realises-par-la-cnil/open-data-controles-2021-v20220921.xlsx_2022-10-25.xlsx\n",
      "Current file: controles-realises-par-la-cnil/open-data-controles-2020-vd-20210603.csv_2021-06-03.csv\n",
      "Current file: controles-realises-par-la-cnil/open-data-controles-2020-vd-20210603.xlsx_2021-06-03.xlsx\n",
      "Current file: marches-publics-de-la-cnil/opencnil-marches-publics-2014-2020.xlsx_2021-06-02.xlsx\n",
      "Current file: controles-realises-par-la-cnil/opencnil-liste-controles-2019.xlsx_2020-11-13.xlsx\n",
      "Current file: controles-realises-par-la-cnil/opencnil-liste-controles-2019.csv_2020-07-03.csv\n",
      "Current file: controles-realises-par-la-cnil/opencnil-liste-controles-2018.csv_2019-05-16.csv\n",
      "Current file: controles-realises-par-la-cnil/opencnil-liste-controles-2018.xlsx_2019-05-16.xlsx\n",
      "Current file: sanctions-prononcees-par-la-cnil/open-cnil-ventilation-sanctions-depuis-2014-vd.csv_2019-05-14.csv\n",
      "Current file: sanctions-prononcees-par-la-cnil/open-cnil-ventilation-sanctions-depuis-2014-vd.xlsx_2019-05-14.xlsx\n",
      "Current file: droit-dacces-indirect-taj-stic-judex/opencnil-dai-stic-judex-taj-maj-janvier-2019.xlsx_2019-05-13.xlsx\n",
      "Current file: droit-dacces-indirect-taj-stic-judex/opencnil-dai-stic-judex-taj-maj-janvier-2019.csv_2019-05-13.csv\n",
      "Current file: controles-realises-par-la-cnil/Liste des contrôles réalisés par la CNIL en 2017_2018-06-20.csv\n",
      "Current file: controles-realises-par-la-cnil/Liste des contrôles réalisés par la CNIL en 2017_2018-06-20.xlsx\n",
      "Current file: correspondants-informatique-et-libertes-cil/Organismes_avec_CIL.xlsx_2018-05-24.xlsx\n",
      "Current file: correspondants-informatique-et-libertes-cil/Organismes_avec_CIL.csv_2018-05-24.csv\n",
      "Current file: controles-realises-par-la-cnil/Liste des contrôles réalisés par la CNIL en 2016_2017-03-30.csv\n",
      "Current file: controles-realises-par-la-cnil/Liste des contrôles réalisés par la CNIL en 2016_2017-03-30.xlsx\n",
      "Current file: controles-realises-par-la-cnil/Liste des contrôles réalisés par la CNIL en 2015_2016-05-03.csv\n",
      "Current file: controles-realises-par-la-cnil/Liste des contrôles réalisés par la CNIL en 2015_2016-05-03.xlsx\n",
      "Current file: controles-realises-par-la-cnil/Liste des contrôles réalisés par la CNIL en 2014_2015-06-15.csv\n",
      "Current file: controles-realises-par-la-cnil/Liste des contrôles réalisés par la CNIL en 2014_2015-06-15.xlsx\n"
     ]
    },
    {
     "name": "stderr",
     "output_type": "stream",
     "text": [
      "/Users/benjamindupaquier/Documents/projets_persos/Pipeline/classes/download_catalog_content.py:206: GuessedAtParserWarning: No parser was explicitly specified, so I'm using the best available HTML parser for this system (\"lxml\"). This usually isn't a problem, but if you run this code on another system, or in a different virtual environment, it may use a different parser and behave differently.\n",
      "\n",
      "The code that caused this warning is on line 206 of the file /Users/benjamindupaquier/Documents/projets_persos/Pipeline/classes/download_catalog_content.py. To get rid of this warning, pass the additional argument 'features=\"lxml\"' to the BeautifulSoup constructor.\n",
      "\n",
      "  soup = BeautifulSoup(url_content)\n"
     ]
    },
    {
     "name": "stdout",
     "output_type": "stream",
     "text": [
      "\u001b[32m file 2024-04-19/raw/raw_datasets.zip uploaded to GCS successfully to 2024-04-19/raw/raw_datasets.zip.\u001b[0m\n"
     ]
    }
   ],
   "source": [
    "# In a IO object\n",
    "\n",
    "from classes.gcs_processor import GCSProcessor\n",
    "from datetime import date\n",
    "import pandas as pd\n",
    "import os\n",
    "from classes.download_catalog_content import GdprSanctionsScrapper\n",
    "\n",
    "today = date.today()\n",
    "\n",
    "gcs_bucket_name = 'cnil_csv'\n",
    "credentials_path = 'cred/service_account_local_py.json'\n",
    "blob_catalog = f\"{today}/raw/source_cnil_catalog_{today}.csv\"\n",
    "\n",
    "instance1 = GCSProcessor(bucket_name=gcs_bucket_name, credentials_path=credentials_path)\n",
    "files = instance1.download_files_from_catalog(catalog_path=blob_catalog)\n",
    "zip_file = instance1.create_zip_from_files(files)\n",
    "\n",
    "scrapper = GdprSanctionsScrapper()\n",
    "zip_file = scrapper.add_to_zip(zip_file)\n",
    "\n",
    "file_paths = [zip_file]\n",
    "dest_folder = 'raw'\n",
    "dest_blobs = ['raw_datasets.zip']\n",
    "instance1.upload_local_to_gcs(file_paths=file_paths, dest_folder=dest_folder, dest_blobs=dest_blobs, date=today)"
   ]
  },
  {
   "cell_type": "markdown",
   "metadata": {},
   "source": [
    "# Prep data to upload to BQ"
   ]
  },
  {
   "cell_type": "code",
   "execution_count": 12,
   "metadata": {},
   "outputs": [],
   "source": [
    "from classes.gcs_processor import GCSProcessor\n",
    "from datetime import date\n",
    "\n",
    "today = date.today()\n",
    "\n",
    "gcs_bucket_name = 'cnil_csv'\n",
    "credentials_path = 'cred/service_account_local_py.json'\n",
    "\n",
    "instance1 = GCSProcessor(bucket_name=gcs_bucket_name, credentials_path=credentials_path)\n",
    "blob_name_zip = f'{today}/raw/raw_datasets.zip'\n",
    "zip_file = instance1.get_zip_file_object(blob_name_zip)"
   ]
  },
  {
   "cell_type": "code",
   "execution_count": 13,
   "metadata": {},
   "outputs": [
    {
     "name": "stdout",
     "output_type": "stream",
     "text": [
      "\u001b[32mcurrent: les-deliberations-de-la-cnil/CNIL: les délibérations de la Commission nationale de l'informatique et des libertés_2024-04-19.xml\u001b[0m\n",
      "---------------------------------------------------\n",
      "\u001b[32mles-deliberations-de-la-cnil/CNIL: les délibérations de la Commission nationale de l'informatique et des libertés_2024-04-19.xml\u001b[0m\n",
      "<zipfile.ZipExtFile name=\"les-deliberations-de-la-cnil/CNIL: les délibérations de la Commission nationale de l'informatique et des libertés_2024-04-19.xml\" mode='r' compress_type=deflate>\n",
      "les-deliberations-de-la-cnil/CNIL: les délibérations de la Commission nationale de l'informatique et des libertés_2024-04-19.xml\n",
      "opened df, return from open_df\n",
      "\u001b[31mles-deliberations-de-la-cnil/CNIL: les délibérations de la Commission nationale de l'informatique et des libertés_2024-04-19.xml not processed!\u001b[0m\n",
      "---------------------------------------------------\n",
      "\u001b[32mcurrent: traitements-de-donnees-personnelles-declares-a-la-cnil-avant-le-25-mai-2018/Les traitements de données personnelles déclarés à la CNIL entre 1979 et le 24 mai 2018_2024-04-11.csv\u001b[0m\n",
      "---------------------------------------------------\n",
      "\u001b[32mtraitements-de-donnees-personnelles-declares-a-la-cnil-avant-le-25-mai-2018/Les traitements de données personnelles déclarés à la CNIL entre 1979 et le 24 mai 2018_2024-04-11.csv\u001b[0m\n",
      "<zipfile.ZipExtFile name='traitements-de-donnees-personnelles-declares-a-la-cnil-avant-le-25-mai-2018/Les traitements de données personnelles déclarés à la CNIL entre 1979 et le 24 mai 2018_2024-04-11.csv' mode='r' compress_type=deflate>\n",
      "traitements-de-donnees-personnelles-declares-a-la-cnil-avant-le-25-mai-2018/Les traitements de données personnelles déclarés à la CNIL entre 1979 et le 24 mai 2018_2024-04-11.csv\n",
      ".csv found\n",
      "file: <zipfile.ZipExtFile name='traitements-de-donnees-personnelles-declares-a-la-cnil-avant-le-25-mai-2018/Les traitements de données personnelles déclarés à la CNIL entre 1979 et le 24 mai 2018_2024-04-11.csv' mode='r' compress_type=deflate>\n",
      "\u001b[31mException type (first attempt): ParserError\u001b[0m\n",
      "Error tokenizing data. C error: Expected 1 fields in line 4, saw 2\n",
      "\n",
      "trying to open csv with sep = \";\"\n",
      "\u001b[31mException type (second attempt): EmptyDataError\u001b[0m\n",
      "\u001b[31mException: No columns to parse from file\u001b[0m\n",
      "Unable to open CSV file\n",
      "opened df, return from open_df\n",
      "\u001b[31mtraitements-de-donnees-personnelles-declares-a-la-cnil-avant-le-25-mai-2018/Les traitements de données personnelles déclarés à la CNIL entre 1979 et le 24 mai 2018_2024-04-11.csv not processed!\u001b[0m\n",
      "---------------------------------------------------\n",
      "\u001b[32mcurrent: organismes-ayant-designe-un-e-delegue-e-a-la-protection-des-donnees-dpd-dpo/opencnil-organismes-avec-dpo.xlsx_2024-04-08.xlsx\u001b[0m\n",
      "---------------------------------------------------\n",
      "\u001b[32morganismes-ayant-designe-un-e-delegue-e-a-la-protection-des-donnees-dpd-dpo/opencnil-organismes-avec-dpo.xlsx_2024-04-08.xlsx\u001b[0m\n",
      "<zipfile.ZipExtFile name='organismes-ayant-designe-un-e-delegue-e-a-la-protection-des-donnees-dpd-dpo/opencnil-organismes-avec-dpo.xlsx_2024-04-08.xlsx' mode='r' compress_type=deflate>\n",
      "organismes-ayant-designe-un-e-delegue-e-a-la-protection-des-donnees-dpd-dpo/opencnil-organismes-avec-dpo.xlsx_2024-04-08.xlsx\n",
      ".xsxl found\n"
     ]
    },
    {
     "name": "stderr",
     "output_type": "stream",
     "text": [
      "/Users/benjamindupaquier/anaconda3/lib/python3.10/site-packages/openpyxl/styles/stylesheet.py:226: UserWarning: Workbook contains no default style, apply openpyxl's default\n",
      "  warn(\"Workbook contains no default style, apply openpyxl's default\")\n"
     ]
    },
    {
     "name": "stdout",
     "output_type": "stream",
     "text": [
      "(98227, 26)\n",
      "opened df, return from open_df\n",
      "More rows than columns, no need to transpose\n",
      "Re-execution completed.\n",
      "The column_formatter method worked perfectly.\n",
      "\u001b[32morganismes-ayant-designe-un-e-delegue-e-a-la-protection-des-donnees-dpd-dpo/opencnil-organismes-avec-dpo.xlsx_2024-04-08.xlsx processed successfully!\u001b[0m\n",
      "---------------------------------------------------\n",
      "\u001b[32mcurrent: organismes-ayant-designe-un-e-delegue-e-a-la-protection-des-donnees-dpd-dpo/opencnil-organismes-avec-dpo.csv_2024-04-08.csv\u001b[0m\n",
      "---------------------------------------------------\n",
      "\u001b[32morganismes-ayant-designe-un-e-delegue-e-a-la-protection-des-donnees-dpd-dpo/opencnil-organismes-avec-dpo.csv_2024-04-08.csv\u001b[0m\n",
      "<zipfile.ZipExtFile name='organismes-ayant-designe-un-e-delegue-e-a-la-protection-des-donnees-dpd-dpo/opencnil-organismes-avec-dpo.csv_2024-04-08.csv' mode='r' compress_type=deflate>\n",
      "organismes-ayant-designe-un-e-delegue-e-a-la-protection-des-donnees-dpd-dpo/opencnil-organismes-avec-dpo.csv_2024-04-08.csv\n",
      ".csv found\n",
      "file: <zipfile.ZipExtFile name='organismes-ayant-designe-un-e-delegue-e-a-la-protection-des-donnees-dpd-dpo/opencnil-organismes-avec-dpo.csv_2024-04-08.csv' mode='r' compress_type=deflate>\n",
      "\u001b[31mException type (first attempt): ParserError\u001b[0m\n",
      "Error tokenizing data. C error: Expected 1 fields in line 3, saw 2\n",
      "\n",
      "trying to open csv with sep = \";\"\n",
      "\u001b[31mException type (second attempt): ParserError\u001b[0m\n",
      "\u001b[31mException: Error tokenizing data. C error: Expected 26 fields in line 8766, saw 27\n",
      "\u001b[0m\n",
      "Unable to open CSV file\n",
      "opened df, return from open_df\n",
      "\u001b[31morganismes-ayant-designe-un-e-delegue-e-a-la-protection-des-donnees-dpd-dpo/opencnil-organismes-avec-dpo.csv_2024-04-08.csv not processed!\u001b[0m\n",
      "---------------------------------------------------\n",
      "\u001b[32mcurrent: traitements-de-donnees-personnelles-declares-a-la-cnil-depuis-le-25-mai-2018/Formalités préalables reçues par la CNIL depuis le 25 mai 2018_2024-04-08.csv\u001b[0m\n",
      "---------------------------------------------------\n",
      "\u001b[32mtraitements-de-donnees-personnelles-declares-a-la-cnil-depuis-le-25-mai-2018/Formalités préalables reçues par la CNIL depuis le 25 mai 2018_2024-04-08.csv\u001b[0m\n",
      "<zipfile.ZipExtFile name='traitements-de-donnees-personnelles-declares-a-la-cnil-depuis-le-25-mai-2018/Formalités préalables reçues par la CNIL depuis le 25 mai 2018_2024-04-08.csv' mode='r' compress_type=deflate>\n",
      "traitements-de-donnees-personnelles-declares-a-la-cnil-depuis-le-25-mai-2018/Formalités préalables reçues par la CNIL depuis le 25 mai 2018_2024-04-08.csv\n",
      ".csv found\n",
      "file: <zipfile.ZipExtFile name='traitements-de-donnees-personnelles-declares-a-la-cnil-depuis-le-25-mai-2018/Formalités préalables reçues par la CNIL depuis le 25 mai 2018_2024-04-08.csv' mode='r' compress_type=deflate>\n",
      "\u001b[31mException type (first attempt): ParserError\u001b[0m\n",
      "Error tokenizing data. C error: Expected 7 fields in line 3, saw 17\n",
      "\n",
      "trying to open csv with sep = \";\"\n",
      "opened df, return from open_df\n",
      "More rows than columns, no need to transpose\n",
      "The column_formatter method didn't work perfectly. Executing again the method...\n",
      "Re-execution completed.\n",
      "The column_formatter method worked perfectly.\n",
      "\u001b[32mtraitements-de-donnees-personnelles-declares-a-la-cnil-depuis-le-25-mai-2018/Formalités préalables reçues par la CNIL depuis le 25 mai 2018_2024-04-08.csv processed successfully!\u001b[0m\n",
      "---------------------------------------------------\n",
      "\u001b[32mcurrent: budget-de-la-cnil-1/opencnil-budget-depuis-2000-maj-mars-2024.csv_2024-03-29.csv\u001b[0m\n",
      "---------------------------------------------------\n",
      "\u001b[32mbudget-de-la-cnil-1/opencnil-budget-depuis-2000-maj-mars-2024.csv_2024-03-29.csv\u001b[0m\n",
      "<zipfile.ZipExtFile name='budget-de-la-cnil-1/opencnil-budget-depuis-2000-maj-mars-2024.csv_2024-03-29.csv' mode='r' compress_type=deflate>\n",
      "budget-de-la-cnil-1/opencnil-budget-depuis-2000-maj-mars-2024.csv_2024-03-29.csv\n",
      ".csv found\n",
      "file: <zipfile.ZipExtFile name='budget-de-la-cnil-1/opencnil-budget-depuis-2000-maj-mars-2024.csv_2024-03-29.csv' mode='r' compress_type=deflate>\n",
      "opened df, return from open_df\n",
      "Re-execution completed.\n",
      "The column_formatter method worked perfectly.\n",
      "\u001b[32mbudget-de-la-cnil-1/opencnil-budget-depuis-2000-maj-mars-2024.csv_2024-03-29.csv processed successfully!\u001b[0m\n",
      "---------------------------------------------------\n",
      "\u001b[32mcurrent: budget-de-la-cnil-1/opencnil-budget-depuis-2000-maj-mars-2024.xlsx_2024-03-29.xlsx\u001b[0m\n",
      "---------------------------------------------------\n",
      "\u001b[32mbudget-de-la-cnil-1/opencnil-budget-depuis-2000-maj-mars-2024.xlsx_2024-03-29.xlsx\u001b[0m\n",
      "<zipfile.ZipExtFile name='budget-de-la-cnil-1/opencnil-budget-depuis-2000-maj-mars-2024.xlsx_2024-03-29.xlsx' mode='r' compress_type=deflate>\n",
      "budget-de-la-cnil-1/opencnil-budget-depuis-2000-maj-mars-2024.xlsx_2024-03-29.xlsx\n",
      ".xsxl found\n",
      "(3, 26)\n",
      "opened df, return from open_df\n",
      "Re-execution completed.\n",
      "The column_formatter method worked perfectly.\n",
      "\u001b[32mbudget-de-la-cnil-1/opencnil-budget-depuis-2000-maj-mars-2024.xlsx_2024-03-29.xlsx processed successfully!\u001b[0m\n",
      "---------------------------------------------------\n",
      "\u001b[32mcurrent: notifications-a-la-cnil-de-violations-de-donnees-a-caractere-personnel/opencnil-violationsdcpnotifiees-20231231.xlsx_2024-03-29.xlsx\u001b[0m\n",
      "---------------------------------------------------\n",
      "\u001b[32mnotifications-a-la-cnil-de-violations-de-donnees-a-caractere-personnel/opencnil-violationsdcpnotifiees-20231231.xlsx_2024-03-29.xlsx\u001b[0m\n",
      "<zipfile.ZipExtFile name='notifications-a-la-cnil-de-violations-de-donnees-a-caractere-personnel/opencnil-violationsdcpnotifiees-20231231.xlsx_2024-03-29.xlsx' mode='r' compress_type=deflate>\n",
      "notifications-a-la-cnil-de-violations-de-donnees-a-caractere-personnel/opencnil-violationsdcpnotifiees-20231231.xlsx_2024-03-29.xlsx\n",
      ".xsxl found\n",
      "(20069, 9)\n",
      "opened df, return from open_df\n",
      "More rows than columns, no need to transpose\n",
      "Re-execution completed.\n",
      "The column_formatter method worked perfectly.\n",
      "\u001b[32mnotifications-a-la-cnil-de-violations-de-donnees-a-caractere-personnel/opencnil-violationsdcpnotifiees-20231231.xlsx_2024-03-29.xlsx processed successfully!\u001b[0m\n",
      "---------------------------------------------------\n",
      "\u001b[32mcurrent: notifications-a-la-cnil-de-violations-de-donnees-a-caractere-personnel/opencnil-violationsdcpnotifiees-20231231.csv_2024-03-29.csv\u001b[0m\n",
      "---------------------------------------------------\n",
      "\u001b[32mnotifications-a-la-cnil-de-violations-de-donnees-a-caractere-personnel/opencnil-violationsdcpnotifiees-20231231.csv_2024-03-29.csv\u001b[0m\n",
      "<zipfile.ZipExtFile name='notifications-a-la-cnil-de-violations-de-donnees-a-caractere-personnel/opencnil-violationsdcpnotifiees-20231231.csv_2024-03-29.csv' mode='r' compress_type=deflate>\n",
      "notifications-a-la-cnil-de-violations-de-donnees-a-caractere-personnel/opencnil-violationsdcpnotifiees-20231231.csv_2024-03-29.csv\n",
      ".csv found\n",
      "file: <zipfile.ZipExtFile name='notifications-a-la-cnil-de-violations-de-donnees-a-caractere-personnel/opencnil-violationsdcpnotifiees-20231231.csv_2024-03-29.csv' mode='r' compress_type=deflate>\n",
      "\u001b[31mException type (first attempt): ParserError\u001b[0m\n",
      "Error tokenizing data. C error: Expected 1 fields in line 3, saw 3\n",
      "\n",
      "trying to open csv with sep = \";\"\n",
      "opened df, return from open_df\n",
      "More rows than columns, no need to transpose\n",
      "The column_formatter method didn't work perfectly. Executing again the method...\n",
      "Re-execution completed.\n",
      "The column_formatter method worked perfectly.\n",
      "\u001b[32mnotifications-a-la-cnil-de-violations-de-donnees-a-caractere-personnel/opencnil-violationsdcpnotifiees-20231231.csv_2024-03-29.csv processed successfully!\u001b[0m\n",
      "---------------------------------------------------\n",
      "\u001b[32mcurrent: traitements-de-donnees-personnelles-declares-a-la-cnil-depuis-le-25-mai-2018/Formalités préalables reçues par la CNIL depuis le 25 mai 2018_2024-03-25.xlsx\u001b[0m\n",
      "---------------------------------------------------\n",
      "\u001b[32mtraitements-de-donnees-personnelles-declares-a-la-cnil-depuis-le-25-mai-2018/Formalités préalables reçues par la CNIL depuis le 25 mai 2018_2024-03-25.xlsx\u001b[0m\n",
      "<zipfile.ZipExtFile name='traitements-de-donnees-personnelles-declares-a-la-cnil-depuis-le-25-mai-2018/Formalités préalables reçues par la CNIL depuis le 25 mai 2018_2024-03-25.xlsx' mode='r' compress_type=deflate>\n",
      "traitements-de-donnees-personnelles-declares-a-la-cnil-depuis-le-25-mai-2018/Formalités préalables reçues par la CNIL depuis le 25 mai 2018_2024-03-25.xlsx\n",
      ".xsxl found\n"
     ]
    },
    {
     "name": "stderr",
     "output_type": "stream",
     "text": [
      "/Users/benjamindupaquier/anaconda3/lib/python3.10/site-packages/openpyxl/styles/stylesheet.py:226: UserWarning: Workbook contains no default style, apply openpyxl's default\n",
      "  warn(\"Workbook contains no default style, apply openpyxl's default\")\n"
     ]
    },
    {
     "name": "stdout",
     "output_type": "stream",
     "text": [
      "(18907, 12)\n",
      "opened df, return from open_df\n",
      "More rows than columns, no need to transpose\n",
      "Re-execution completed.\n",
      "The column_formatter method worked perfectly.\n",
      "\u001b[32mtraitements-de-donnees-personnelles-declares-a-la-cnil-depuis-le-25-mai-2018/Formalités préalables reçues par la CNIL depuis le 25 mai 2018_2024-03-25.xlsx processed successfully!\u001b[0m\n",
      "---------------------------------------------------\n",
      "\u001b[32mcurrent: sanctions-prononcees-par-la-cnil/opencnil-sanctions-depuis-2019-maj-nov-2023.csv_2023-11-24.csv\u001b[0m\n",
      "---------------------------------------------------\n",
      "\u001b[32msanctions-prononcees-par-la-cnil/opencnil-sanctions-depuis-2019-maj-nov-2023.csv_2023-11-24.csv\u001b[0m\n",
      "<zipfile.ZipExtFile name='sanctions-prononcees-par-la-cnil/opencnil-sanctions-depuis-2019-maj-nov-2023.csv_2023-11-24.csv' mode='r' compress_type=deflate>\n",
      "sanctions-prononcees-par-la-cnil/opencnil-sanctions-depuis-2019-maj-nov-2023.csv_2023-11-24.csv\n",
      ".csv found\n",
      "file: <zipfile.ZipExtFile name='sanctions-prononcees-par-la-cnil/opencnil-sanctions-depuis-2019-maj-nov-2023.csv_2023-11-24.csv' mode='r' compress_type=deflate>\n",
      "opened df, return from open_df\n",
      "Re-execution completed.\n",
      "The column_formatter method worked perfectly.\n",
      "\u001b[32msanctions-prononcees-par-la-cnil/opencnil-sanctions-depuis-2019-maj-nov-2023.csv_2023-11-24.csv processed successfully!\u001b[0m\n",
      "---------------------------------------------------\n",
      "\u001b[32mcurrent: sanctions-prononcees-par-la-cnil/opencnil-sanctions-depuis-2019-maj-nov-2023.xlsx_2023-11-24.xlsx\u001b[0m\n",
      "---------------------------------------------------\n",
      "\u001b[32msanctions-prononcees-par-la-cnil/opencnil-sanctions-depuis-2019-maj-nov-2023.xlsx_2023-11-24.xlsx\u001b[0m\n",
      "<zipfile.ZipExtFile name='sanctions-prononcees-par-la-cnil/opencnil-sanctions-depuis-2019-maj-nov-2023.xlsx_2023-11-24.xlsx' mode='r' compress_type=deflate>\n",
      "sanctions-prononcees-par-la-cnil/opencnil-sanctions-depuis-2019-maj-nov-2023.xlsx_2023-11-24.xlsx\n",
      ".xsxl found\n",
      "(18, 5)\n",
      "opened df, return from open_df\n",
      "Re-execution completed.\n",
      "The column_formatter method worked perfectly.\n",
      "\u001b[32msanctions-prononcees-par-la-cnil/opencnil-sanctions-depuis-2019-maj-nov-2023.xlsx_2023-11-24.xlsx processed successfully!\u001b[0m\n",
      "---------------------------------------------------\n",
      "\u001b[32mcurrent: les-deliberations-de-la-cnil/DTD CNIL _2023-11-17.dtd\u001b[0m\n",
      "---------------------------------------------------\n",
      "\u001b[32mles-deliberations-de-la-cnil/DTD CNIL _2023-11-17.dtd\u001b[0m\n",
      "<zipfile.ZipExtFile name='les-deliberations-de-la-cnil/DTD CNIL _2023-11-17.dtd' mode='r' compress_type=deflate>\n",
      "les-deliberations-de-la-cnil/DTD CNIL _2023-11-17.dtd\n",
      "opened df, return from open_df\n",
      "\u001b[31mles-deliberations-de-la-cnil/DTD CNIL _2023-11-17.dtd not processed!\u001b[0m\n",
      "---------------------------------------------------\n",
      "\u001b[32mcurrent: protection-des-donnees-personnelles-dans-le-monde/opencnil-autorites-de-protection-vd-20231010.xlsx_2023-11-09.xlsx\u001b[0m\n",
      "---------------------------------------------------\n",
      "\u001b[32mprotection-des-donnees-personnelles-dans-le-monde/opencnil-autorites-de-protection-vd-20231010.xlsx_2023-11-09.xlsx\u001b[0m\n",
      "<zipfile.ZipExtFile name='protection-des-donnees-personnelles-dans-le-monde/opencnil-autorites-de-protection-vd-20231010.xlsx_2023-11-09.xlsx' mode='r' compress_type=deflate>\n",
      "protection-des-donnees-personnelles-dans-le-monde/opencnil-autorites-de-protection-vd-20231010.xlsx_2023-11-09.xlsx\n",
      ".xsxl found\n",
      "(218, 11)\n",
      "opened df, return from open_df\n",
      "More rows than columns, no need to transpose\n",
      "Re-execution completed.\n",
      "The column_formatter method worked perfectly.\n",
      "\u001b[32mprotection-des-donnees-personnelles-dans-le-monde/opencnil-autorites-de-protection-vd-20231010.xlsx_2023-11-09.xlsx processed successfully!\u001b[0m\n",
      "---------------------------------------------------\n",
      "\u001b[32mcurrent: protection-des-donnees-personnelles-dans-le-monde/opencnil-autorites-de-protection-vd-20231010.csv_2023-11-09.csv\u001b[0m\n",
      "---------------------------------------------------\n",
      "\u001b[32mprotection-des-donnees-personnelles-dans-le-monde/opencnil-autorites-de-protection-vd-20231010.csv_2023-11-09.csv\u001b[0m\n",
      "<zipfile.ZipExtFile name='protection-des-donnees-personnelles-dans-le-monde/opencnil-autorites-de-protection-vd-20231010.csv_2023-11-09.csv' mode='r' compress_type=deflate>\n",
      "protection-des-donnees-personnelles-dans-le-monde/opencnil-autorites-de-protection-vd-20231010.csv_2023-11-09.csv\n",
      ".csv found\n",
      "file: <zipfile.ZipExtFile name='protection-des-donnees-personnelles-dans-le-monde/opencnil-autorites-de-protection-vd-20231010.csv_2023-11-09.csv' mode='r' compress_type=deflate>\n",
      "\u001b[31mException type (first attempt): ParserError\u001b[0m\n",
      "Error tokenizing data. C error: Expected 1 fields in line 6, saw 2\n",
      "\n",
      "trying to open csv with sep = \";\"\n",
      "\u001b[31mException type (second attempt): EmptyDataError\u001b[0m\n",
      "\u001b[31mException: No columns to parse from file\u001b[0m\n",
      "Unable to open CSV file\n",
      "opened df, return from open_df\n",
      "\u001b[31mprotection-des-donnees-personnelles-dans-le-monde/opencnil-autorites-de-protection-vd-20231010.csv_2023-11-09.csv not processed!\u001b[0m\n",
      "---------------------------------------------------\n",
      "\u001b[32mcurrent: controles-realises-par-la-cnil/open-data-controles-cnil-2022-v20231003.csv_2023-10-03.csv\u001b[0m\n",
      "---------------------------------------------------\n",
      "\u001b[32mcontroles-realises-par-la-cnil/open-data-controles-cnil-2022-v20231003.csv_2023-10-03.csv\u001b[0m\n",
      "<zipfile.ZipExtFile name='controles-realises-par-la-cnil/open-data-controles-cnil-2022-v20231003.csv_2023-10-03.csv' mode='r' compress_type=deflate>\n",
      "controles-realises-par-la-cnil/open-data-controles-cnil-2022-v20231003.csv_2023-10-03.csv\n",
      ".csv found\n",
      "file: <zipfile.ZipExtFile name='controles-realises-par-la-cnil/open-data-controles-cnil-2022-v20231003.csv_2023-10-03.csv' mode='r' compress_type=deflate>\n",
      "\u001b[31mException type (first attempt): ParserError\u001b[0m\n",
      "Error tokenizing data. C error: Expected 1 fields in line 141, saw 2\n",
      "\n",
      "trying to open csv with sep = \";\"\n",
      "\u001b[31mException type (second attempt): EmptyDataError\u001b[0m\n",
      "\u001b[31mException: No columns to parse from file\u001b[0m\n",
      "Unable to open CSV file\n",
      "opened df, return from open_df\n",
      "\u001b[31mcontroles-realises-par-la-cnil/open-data-controles-cnil-2022-v20231003.csv_2023-10-03.csv not processed!\u001b[0m\n",
      "---------------------------------------------------\n",
      "\u001b[32mcurrent: controles-realises-par-la-cnil/open-data-controles-cnil-2022-v20231003.xlsx_2023-10-03.xlsx\u001b[0m\n",
      "---------------------------------------------------\n",
      "\u001b[32mcontroles-realises-par-la-cnil/open-data-controles-cnil-2022-v20231003.xlsx_2023-10-03.xlsx\u001b[0m\n",
      "<zipfile.ZipExtFile name='controles-realises-par-la-cnil/open-data-controles-cnil-2022-v20231003.xlsx_2023-10-03.xlsx' mode='r' compress_type=deflate>\n",
      "controles-realises-par-la-cnil/open-data-controles-cnil-2022-v20231003.xlsx_2023-10-03.xlsx\n",
      ".xsxl found\n",
      "(345, 7)\n",
      "opened df, return from open_df\n",
      "More rows than columns, no need to transpose\n",
      "Re-execution completed.\n",
      "The column_formatter method worked perfectly.\n",
      "\u001b[32mcontroles-realises-par-la-cnil/open-data-controles-cnil-2022-v20231003.xlsx_2023-10-03.xlsx processed successfully!\u001b[0m\n",
      "---------------------------------------------------\n",
      "\u001b[32mcurrent: mises-en-demeure-prononcees-par-la-cnil/open-cnil-volumes-med-depuis-2014-maj-aout-2023.csv_2023-08-25.csv\u001b[0m\n",
      "---------------------------------------------------\n",
      "\u001b[32mmises-en-demeure-prononcees-par-la-cnil/open-cnil-volumes-med-depuis-2014-maj-aout-2023.csv_2023-08-25.csv\u001b[0m\n",
      "<zipfile.ZipExtFile name='mises-en-demeure-prononcees-par-la-cnil/open-cnil-volumes-med-depuis-2014-maj-aout-2023.csv_2023-08-25.csv' mode='r' compress_type=deflate>\n",
      "mises-en-demeure-prononcees-par-la-cnil/open-cnil-volumes-med-depuis-2014-maj-aout-2023.csv_2023-08-25.csv\n",
      ".csv found\n",
      "file: <zipfile.ZipExtFile name='mises-en-demeure-prononcees-par-la-cnil/open-cnil-volumes-med-depuis-2014-maj-aout-2023.csv_2023-08-25.csv' mode='r' compress_type=deflate>\n",
      "opened df, return from open_df\n",
      "Re-execution completed.\n",
      "The column_formatter method worked perfectly.\n",
      "\u001b[32mmises-en-demeure-prononcees-par-la-cnil/open-cnil-volumes-med-depuis-2014-maj-aout-2023.csv_2023-08-25.csv processed successfully!\u001b[0m\n",
      "---------------------------------------------------\n",
      "\u001b[32mcurrent: mises-en-demeure-prononcees-par-la-cnil/open-cnil-volumes-med-depuis-2014-maj-aout-2023.xlsx_2023-08-25.xlsx\u001b[0m\n",
      "---------------------------------------------------\n",
      "\u001b[32mmises-en-demeure-prononcees-par-la-cnil/open-cnil-volumes-med-depuis-2014-maj-aout-2023.xlsx_2023-08-25.xlsx\u001b[0m\n",
      "<zipfile.ZipExtFile name='mises-en-demeure-prononcees-par-la-cnil/open-cnil-volumes-med-depuis-2014-maj-aout-2023.xlsx_2023-08-25.xlsx' mode='r' compress_type=deflate>\n",
      "mises-en-demeure-prononcees-par-la-cnil/open-cnil-volumes-med-depuis-2014-maj-aout-2023.xlsx_2023-08-25.xlsx\n",
      ".xsxl found\n",
      "(3, 10)\n",
      "opened df, return from open_df\n",
      "Re-execution completed.\n",
      "The column_formatter method worked perfectly.\n",
      "\u001b[32mmises-en-demeure-prononcees-par-la-cnil/open-cnil-volumes-med-depuis-2014-maj-aout-2023.xlsx_2023-08-25.xlsx processed successfully!\u001b[0m\n",
      "---------------------------------------------------\n",
      "\u001b[32mcurrent: exercice-des-droits-indirect-donnees-generales/opencnil-volumes-dai-edi-depuis-1984-maj-juin-2023.csv_2023-06-28.csv\u001b[0m\n",
      "---------------------------------------------------\n",
      "\u001b[32mexercice-des-droits-indirect-donnees-generales/opencnil-volumes-dai-edi-depuis-1984-maj-juin-2023.csv_2023-06-28.csv\u001b[0m\n",
      "<zipfile.ZipExtFile name='exercice-des-droits-indirect-donnees-generales/opencnil-volumes-dai-edi-depuis-1984-maj-juin-2023.csv_2023-06-28.csv' mode='r' compress_type=deflate>\n",
      "exercice-des-droits-indirect-donnees-generales/opencnil-volumes-dai-edi-depuis-1984-maj-juin-2023.csv_2023-06-28.csv\n",
      ".csv found\n",
      "file: <zipfile.ZipExtFile name='exercice-des-droits-indirect-donnees-generales/opencnil-volumes-dai-edi-depuis-1984-maj-juin-2023.csv_2023-06-28.csv' mode='r' compress_type=deflate>\n",
      "opened df, return from open_df\n",
      "The column_formatter method didn't work perfectly. Executing again the method...\n",
      "Re-execution completed.\n",
      "The column_formatter method worked perfectly.\n",
      "\u001b[32mexercice-des-droits-indirect-donnees-generales/opencnil-volumes-dai-edi-depuis-1984-maj-juin-2023.csv_2023-06-28.csv processed successfully!\u001b[0m\n",
      "---------------------------------------------------\n",
      "\u001b[32mcurrent: exercice-des-droits-indirect-donnees-generales/opencnil-volumes-dai-edi-depuis-1984-maj-juin-2023.xlsx_2023-06-28.xlsx\u001b[0m\n",
      "---------------------------------------------------\n",
      "\u001b[32mexercice-des-droits-indirect-donnees-generales/opencnil-volumes-dai-edi-depuis-1984-maj-juin-2023.xlsx_2023-06-28.xlsx\u001b[0m\n",
      "<zipfile.ZipExtFile name='exercice-des-droits-indirect-donnees-generales/opencnil-volumes-dai-edi-depuis-1984-maj-juin-2023.xlsx_2023-06-28.xlsx' mode='r' compress_type=deflate>\n",
      "exercice-des-droits-indirect-donnees-generales/opencnil-volumes-dai-edi-depuis-1984-maj-juin-2023.xlsx_2023-06-28.xlsx\n",
      ".xsxl found\n",
      "(2, 40)\n",
      "opened df, return from open_df\n",
      "Re-execution completed.\n",
      "The column_formatter method worked perfectly.\n",
      "\u001b[32mexercice-des-droits-indirect-donnees-generales/opencnil-volumes-dai-edi-depuis-1984-maj-juin-2023.xlsx_2023-06-28.xlsx processed successfully!\u001b[0m\n",
      "---------------------------------------------------\n",
      "\u001b[32mcurrent: effectifs-de-la-cnil/opencnil-effectifs-depuis-1980-maj-juin-2023.xlsx_2023-06-28.xlsx\u001b[0m\n",
      "---------------------------------------------------\n",
      "\u001b[32meffectifs-de-la-cnil/opencnil-effectifs-depuis-1980-maj-juin-2023.xlsx_2023-06-28.xlsx\u001b[0m\n",
      "<zipfile.ZipExtFile name='effectifs-de-la-cnil/opencnil-effectifs-depuis-1980-maj-juin-2023.xlsx_2023-06-28.xlsx' mode='r' compress_type=deflate>\n",
      "effectifs-de-la-cnil/opencnil-effectifs-depuis-1980-maj-juin-2023.xlsx_2023-06-28.xlsx\n",
      ".xsxl found\n",
      "(2, 45)\n",
      "opened df, return from open_df\n",
      "Re-execution completed.\n",
      "The column_formatter method worked perfectly.\n",
      "\u001b[32meffectifs-de-la-cnil/opencnil-effectifs-depuis-1980-maj-juin-2023.xlsx_2023-06-28.xlsx processed successfully!\u001b[0m\n",
      "---------------------------------------------------\n",
      "\u001b[32mcurrent: effectifs-de-la-cnil/opencnil-effectifs-depuis-1980-maj-juin-2023.csv_2023-06-28.csv\u001b[0m\n",
      "---------------------------------------------------\n",
      "\u001b[32meffectifs-de-la-cnil/opencnil-effectifs-depuis-1980-maj-juin-2023.csv_2023-06-28.csv\u001b[0m\n",
      "<zipfile.ZipExtFile name='effectifs-de-la-cnil/opencnil-effectifs-depuis-1980-maj-juin-2023.csv_2023-06-28.csv' mode='r' compress_type=deflate>\n",
      "effectifs-de-la-cnil/opencnil-effectifs-depuis-1980-maj-juin-2023.csv_2023-06-28.csv\n",
      ".csv found\n",
      "file: <zipfile.ZipExtFile name='effectifs-de-la-cnil/opencnil-effectifs-depuis-1980-maj-juin-2023.csv_2023-06-28.csv' mode='r' compress_type=deflate>\n",
      "opened df, return from open_df\n",
      "Re-execution completed.\n",
      "The column_formatter method worked perfectly.\n",
      "\u001b[32meffectifs-de-la-cnil/opencnil-effectifs-depuis-1980-maj-juin-2023.csv_2023-06-28.csv processed successfully!\u001b[0m\n",
      "---------------------------------------------------\n",
      "\u001b[32mcurrent: plaintes-recues-par-la-cnil/opencnil-volumes-plaintes-depuis-1981-maj-juin-2023.xlsx_2023-06-28.xlsx\u001b[0m\n",
      "---------------------------------------------------\n",
      "\u001b[32mplaintes-recues-par-la-cnil/opencnil-volumes-plaintes-depuis-1981-maj-juin-2023.xlsx_2023-06-28.xlsx\u001b[0m\n",
      "<zipfile.ZipExtFile name='plaintes-recues-par-la-cnil/opencnil-volumes-plaintes-depuis-1981-maj-juin-2023.xlsx_2023-06-28.xlsx' mode='r' compress_type=deflate>\n",
      "plaintes-recues-par-la-cnil/opencnil-volumes-plaintes-depuis-1981-maj-juin-2023.xlsx_2023-06-28.xlsx\n",
      ".xsxl found\n",
      "(1, 43)\n",
      "opened df, return from open_df\n",
      "Re-execution completed.\n",
      "The column_formatter method worked perfectly.\n",
      "\u001b[32mplaintes-recues-par-la-cnil/opencnil-volumes-plaintes-depuis-1981-maj-juin-2023.xlsx_2023-06-28.xlsx processed successfully!\u001b[0m\n",
      "---------------------------------------------------\n",
      "\u001b[32mcurrent: plaintes-recues-par-la-cnil/opencnil-volumes-plaintes-depuis-1981-maj-juin-2023.csv_2023-06-28.csv\u001b[0m\n",
      "---------------------------------------------------\n",
      "\u001b[32mplaintes-recues-par-la-cnil/opencnil-volumes-plaintes-depuis-1981-maj-juin-2023.csv_2023-06-28.csv\u001b[0m\n",
      "<zipfile.ZipExtFile name='plaintes-recues-par-la-cnil/opencnil-volumes-plaintes-depuis-1981-maj-juin-2023.csv_2023-06-28.csv' mode='r' compress_type=deflate>\n",
      "plaintes-recues-par-la-cnil/opencnil-volumes-plaintes-depuis-1981-maj-juin-2023.csv_2023-06-28.csv\n",
      ".csv found\n",
      "file: <zipfile.ZipExtFile name='plaintes-recues-par-la-cnil/opencnil-volumes-plaintes-depuis-1981-maj-juin-2023.csv_2023-06-28.csv' mode='r' compress_type=deflate>\n",
      "opened df, return from open_df\n",
      "Re-execution completed.\n",
      "The column_formatter method worked perfectly.\n",
      "\u001b[32mplaintes-recues-par-la-cnil/opencnil-volumes-plaintes-depuis-1981-maj-juin-2023.csv_2023-06-28.csv processed successfully!\u001b[0m\n",
      "---------------------------------------------------\n",
      "\u001b[32mcurrent: controles-realises-par-la-cnil/opencnil-nombre-controles-depuis-1990-maj-juin-2023.csv_2023-06-28.csv\u001b[0m\n",
      "---------------------------------------------------\n",
      "\u001b[32mcontroles-realises-par-la-cnil/opencnil-nombre-controles-depuis-1990-maj-juin-2023.csv_2023-06-28.csv\u001b[0m\n",
      "<zipfile.ZipExtFile name='controles-realises-par-la-cnil/opencnil-nombre-controles-depuis-1990-maj-juin-2023.csv_2023-06-28.csv' mode='r' compress_type=deflate>\n",
      "controles-realises-par-la-cnil/opencnil-nombre-controles-depuis-1990-maj-juin-2023.csv_2023-06-28.csv\n",
      ".csv found\n",
      "file: <zipfile.ZipExtFile name='controles-realises-par-la-cnil/opencnil-nombre-controles-depuis-1990-maj-juin-2023.csv_2023-06-28.csv' mode='r' compress_type=deflate>\n",
      "opened df, return from open_df\n",
      "Re-execution completed.\n",
      "The column_formatter method worked perfectly.\n",
      "\u001b[32mcontroles-realises-par-la-cnil/opencnil-nombre-controles-depuis-1990-maj-juin-2023.csv_2023-06-28.csv processed successfully!\u001b[0m\n",
      "---------------------------------------------------\n",
      "\u001b[32mcurrent: controles-realises-par-la-cnil/opencnil-nombre-controles-depuis-1990-maj-juin-2023.xlsx_2023-06-28.xlsx\u001b[0m\n",
      "---------------------------------------------------\n",
      "\u001b[32mcontroles-realises-par-la-cnil/opencnil-nombre-controles-depuis-1990-maj-juin-2023.xlsx_2023-06-28.xlsx\u001b[0m\n",
      "<zipfile.ZipExtFile name='controles-realises-par-la-cnil/opencnil-nombre-controles-depuis-1990-maj-juin-2023.xlsx_2023-06-28.xlsx' mode='r' compress_type=deflate>\n",
      "controles-realises-par-la-cnil/opencnil-nombre-controles-depuis-1990-maj-juin-2023.xlsx_2023-06-28.xlsx\n",
      ".xsxl found\n",
      "(4, 34)\n",
      "opened df, return from open_df\n",
      "Re-execution completed.\n",
      "The column_formatter method worked perfectly.\n",
      "\u001b[32mcontroles-realises-par-la-cnil/opencnil-nombre-controles-depuis-1990-maj-juin-2023.xlsx_2023-06-28.xlsx processed successfully!\u001b[0m\n",
      "---------------------------------------------------\n",
      "\u001b[32mcurrent: controles-realises-par-la-cnil/open-data-controles-2021-v20220921.csv_2022-10-25.csv\u001b[0m\n",
      "---------------------------------------------------\n",
      "\u001b[32mcontroles-realises-par-la-cnil/open-data-controles-2021-v20220921.csv_2022-10-25.csv\u001b[0m\n",
      "<zipfile.ZipExtFile name='controles-realises-par-la-cnil/open-data-controles-2021-v20220921.csv_2022-10-25.csv' mode='r' compress_type=deflate>\n",
      "controles-realises-par-la-cnil/open-data-controles-2021-v20220921.csv_2022-10-25.csv\n",
      ".csv found\n",
      "file: <zipfile.ZipExtFile name='controles-realises-par-la-cnil/open-data-controles-2021-v20220921.csv_2022-10-25.csv' mode='r' compress_type=deflate>\n",
      "\u001b[31mException type (first attempt): ParserError\u001b[0m\n",
      "Error tokenizing data. C error: Expected 1 fields in line 113, saw 2\n",
      "\n",
      "trying to open csv with sep = \";\"\n",
      "\u001b[31mException type (second attempt): EmptyDataError\u001b[0m\n",
      "\u001b[31mException: No columns to parse from file\u001b[0m\n",
      "Unable to open CSV file\n",
      "opened df, return from open_df\n",
      "\u001b[31mcontroles-realises-par-la-cnil/open-data-controles-2021-v20220921.csv_2022-10-25.csv not processed!\u001b[0m\n",
      "---------------------------------------------------\n",
      "\u001b[32mcurrent: controles-realises-par-la-cnil/open-data-controles-2021-v20220921.xlsx_2022-10-25.xlsx\u001b[0m\n",
      "---------------------------------------------------\n",
      "\u001b[32mcontroles-realises-par-la-cnil/open-data-controles-2021-v20220921.xlsx_2022-10-25.xlsx\u001b[0m\n",
      "<zipfile.ZipExtFile name='controles-realises-par-la-cnil/open-data-controles-2021-v20220921.xlsx_2022-10-25.xlsx' mode='r' compress_type=deflate>\n",
      "controles-realises-par-la-cnil/open-data-controles-2021-v20220921.xlsx_2022-10-25.xlsx\n",
      ".xsxl found\n",
      "(384, 7)\n",
      "opened df, return from open_df\n",
      "More rows than columns, no need to transpose\n",
      "Re-execution completed.\n",
      "The column_formatter method worked perfectly.\n",
      "\u001b[32mcontroles-realises-par-la-cnil/open-data-controles-2021-v20220921.xlsx_2022-10-25.xlsx processed successfully!\u001b[0m\n",
      "---------------------------------------------------\n",
      "\u001b[32mcurrent: controles-realises-par-la-cnil/open-data-controles-2020-vd-20210603.csv_2021-06-03.csv\u001b[0m\n",
      "---------------------------------------------------\n",
      "\u001b[32mcontroles-realises-par-la-cnil/open-data-controles-2020-vd-20210603.csv_2021-06-03.csv\u001b[0m\n",
      "<zipfile.ZipExtFile name='controles-realises-par-la-cnil/open-data-controles-2020-vd-20210603.csv_2021-06-03.csv' mode='r' compress_type=deflate>\n",
      "controles-realises-par-la-cnil/open-data-controles-2020-vd-20210603.csv_2021-06-03.csv\n",
      ".csv found\n",
      "file: <zipfile.ZipExtFile name='controles-realises-par-la-cnil/open-data-controles-2020-vd-20210603.csv_2021-06-03.csv' mode='r' compress_type=deflate>\n",
      "opened df, return from open_df\n",
      "More rows than columns, no need to transpose\n",
      "Re-execution completed.\n",
      "The column_formatter method worked perfectly.\n",
      "\u001b[32mcontroles-realises-par-la-cnil/open-data-controles-2020-vd-20210603.csv_2021-06-03.csv processed successfully!\u001b[0m\n",
      "---------------------------------------------------\n",
      "\u001b[32mcurrent: controles-realises-par-la-cnil/open-data-controles-2020-vd-20210603.xlsx_2021-06-03.xlsx\u001b[0m\n",
      "---------------------------------------------------\n",
      "\u001b[32mcontroles-realises-par-la-cnil/open-data-controles-2020-vd-20210603.xlsx_2021-06-03.xlsx\u001b[0m\n",
      "<zipfile.ZipExtFile name='controles-realises-par-la-cnil/open-data-controles-2020-vd-20210603.xlsx_2021-06-03.xlsx' mode='r' compress_type=deflate>\n",
      "controles-realises-par-la-cnil/open-data-controles-2020-vd-20210603.xlsx_2021-06-03.xlsx\n",
      ".xsxl found\n",
      "(247, 6)\n",
      "opened df, return from open_df\n",
      "More rows than columns, no need to transpose\n",
      "Re-execution completed.\n",
      "The column_formatter method worked perfectly.\n",
      "\u001b[32mcontroles-realises-par-la-cnil/open-data-controles-2020-vd-20210603.xlsx_2021-06-03.xlsx processed successfully!\u001b[0m\n",
      "---------------------------------------------------\n",
      "\u001b[32mcurrent: marches-publics-de-la-cnil/opencnil-marches-publics-2014-2020.xlsx_2021-06-02.xlsx\u001b[0m\n",
      "---------------------------------------------------\n",
      "\u001b[32mmarches-publics-de-la-cnil/opencnil-marches-publics-2014-2020.xlsx_2021-06-02.xlsx\u001b[0m\n",
      "<zipfile.ZipExtFile name='marches-publics-de-la-cnil/opencnil-marches-publics-2014-2020.xlsx_2021-06-02.xlsx' mode='r' compress_type=deflate>\n",
      "marches-publics-de-la-cnil/opencnil-marches-publics-2014-2020.xlsx_2021-06-02.xlsx\n",
      ".xsxl found\n",
      "(13, 10)\n",
      "opened df, return from open_df\n",
      "More rows than columns, no need to transpose\n",
      "Re-execution completed.\n",
      "The column_formatter method worked perfectly.\n",
      "\u001b[32mmarches-publics-de-la-cnil/opencnil-marches-publics-2014-2020.xlsx_2021-06-02.xlsx processed successfully!\u001b[0m\n",
      "---------------------------------------------------\n",
      "\u001b[32mcurrent: controles-realises-par-la-cnil/opencnil-liste-controles-2019.xlsx_2020-11-13.xlsx\u001b[0m\n",
      "---------------------------------------------------\n",
      "\u001b[32mcontroles-realises-par-la-cnil/opencnil-liste-controles-2019.xlsx_2020-11-13.xlsx\u001b[0m\n",
      "<zipfile.ZipExtFile name='controles-realises-par-la-cnil/opencnil-liste-controles-2019.xlsx_2020-11-13.xlsx' mode='r' compress_type=deflate>\n",
      "controles-realises-par-la-cnil/opencnil-liste-controles-2019.xlsx_2020-11-13.xlsx\n",
      ".xsxl found\n",
      "(303, 6)\n",
      "opened df, return from open_df\n",
      "More rows than columns, no need to transpose\n",
      "Re-execution completed.\n",
      "The column_formatter method worked perfectly.\n",
      "\u001b[32mcontroles-realises-par-la-cnil/opencnil-liste-controles-2019.xlsx_2020-11-13.xlsx processed successfully!\u001b[0m\n",
      "---------------------------------------------------\n",
      "\u001b[32mcurrent: controles-realises-par-la-cnil/opencnil-liste-controles-2019.csv_2020-07-03.csv\u001b[0m\n",
      "---------------------------------------------------\n",
      "\u001b[32mcontroles-realises-par-la-cnil/opencnil-liste-controles-2019.csv_2020-07-03.csv\u001b[0m\n",
      "<zipfile.ZipExtFile name='controles-realises-par-la-cnil/opencnil-liste-controles-2019.csv_2020-07-03.csv' mode='r' compress_type=deflate>\n",
      "controles-realises-par-la-cnil/opencnil-liste-controles-2019.csv_2020-07-03.csv\n",
      ".csv found\n",
      "file: <zipfile.ZipExtFile name='controles-realises-par-la-cnil/opencnil-liste-controles-2019.csv_2020-07-03.csv' mode='r' compress_type=deflate>\n",
      "opened df, return from open_df\n",
      "More rows than columns, no need to transpose\n",
      "Re-execution completed.\n",
      "The column_formatter method worked perfectly.\n",
      "\u001b[32mcontroles-realises-par-la-cnil/opencnil-liste-controles-2019.csv_2020-07-03.csv processed successfully!\u001b[0m\n",
      "---------------------------------------------------\n",
      "\u001b[32mcurrent: controles-realises-par-la-cnil/opencnil-liste-controles-2018.csv_2019-05-16.csv\u001b[0m\n",
      "---------------------------------------------------\n",
      "\u001b[32mcontroles-realises-par-la-cnil/opencnil-liste-controles-2018.csv_2019-05-16.csv\u001b[0m\n",
      "<zipfile.ZipExtFile name='controles-realises-par-la-cnil/opencnil-liste-controles-2018.csv_2019-05-16.csv' mode='r' compress_type=deflate>\n",
      "controles-realises-par-la-cnil/opencnil-liste-controles-2018.csv_2019-05-16.csv\n",
      ".csv found\n",
      "file: <zipfile.ZipExtFile name='controles-realises-par-la-cnil/opencnil-liste-controles-2018.csv_2019-05-16.csv' mode='r' compress_type=deflate>\n",
      "opened df, return from open_df\n",
      "More rows than columns, no need to transpose\n",
      "Re-execution completed.\n",
      "The column_formatter method worked perfectly.\n",
      "\u001b[32mcontroles-realises-par-la-cnil/opencnil-liste-controles-2018.csv_2019-05-16.csv processed successfully!\u001b[0m\n",
      "---------------------------------------------------\n",
      "\u001b[32mcurrent: controles-realises-par-la-cnil/opencnil-liste-controles-2018.xlsx_2019-05-16.xlsx\u001b[0m\n",
      "---------------------------------------------------\n",
      "\u001b[32mcontroles-realises-par-la-cnil/opencnil-liste-controles-2018.xlsx_2019-05-16.xlsx\u001b[0m\n",
      "<zipfile.ZipExtFile name='controles-realises-par-la-cnil/opencnil-liste-controles-2018.xlsx_2019-05-16.xlsx' mode='r' compress_type=deflate>\n",
      "controles-realises-par-la-cnil/opencnil-liste-controles-2018.xlsx_2019-05-16.xlsx\n",
      ".xsxl found\n",
      "(312, 6)\n",
      "opened df, return from open_df\n",
      "More rows than columns, no need to transpose\n",
      "Re-execution completed.\n",
      "The column_formatter method worked perfectly.\n",
      "\u001b[32mcontroles-realises-par-la-cnil/opencnil-liste-controles-2018.xlsx_2019-05-16.xlsx processed successfully!\u001b[0m\n",
      "---------------------------------------------------\n",
      "\u001b[32mcurrent: sanctions-prononcees-par-la-cnil/open-cnil-ventilation-sanctions-depuis-2014-vd.csv_2019-05-14.csv\u001b[0m\n",
      "---------------------------------------------------\n",
      "\u001b[32msanctions-prononcees-par-la-cnil/open-cnil-ventilation-sanctions-depuis-2014-vd.csv_2019-05-14.csv\u001b[0m\n",
      "<zipfile.ZipExtFile name='sanctions-prononcees-par-la-cnil/open-cnil-ventilation-sanctions-depuis-2014-vd.csv_2019-05-14.csv' mode='r' compress_type=deflate>\n",
      "sanctions-prononcees-par-la-cnil/open-cnil-ventilation-sanctions-depuis-2014-vd.csv_2019-05-14.csv\n",
      ".csv found\n",
      "file: <zipfile.ZipExtFile name='sanctions-prononcees-par-la-cnil/open-cnil-ventilation-sanctions-depuis-2014-vd.csv_2019-05-14.csv' mode='r' compress_type=deflate>\n",
      "opened df, return from open_df\n",
      "Re-execution completed.\n",
      "The column_formatter method worked perfectly.\n",
      "\u001b[32msanctions-prononcees-par-la-cnil/open-cnil-ventilation-sanctions-depuis-2014-vd.csv_2019-05-14.csv processed successfully!\u001b[0m\n",
      "---------------------------------------------------\n",
      "\u001b[32mcurrent: sanctions-prononcees-par-la-cnil/open-cnil-ventilation-sanctions-depuis-2014-vd.xlsx_2019-05-14.xlsx\u001b[0m\n",
      "---------------------------------------------------\n",
      "\u001b[32msanctions-prononcees-par-la-cnil/open-cnil-ventilation-sanctions-depuis-2014-vd.xlsx_2019-05-14.xlsx\u001b[0m\n",
      "<zipfile.ZipExtFile name='sanctions-prononcees-par-la-cnil/open-cnil-ventilation-sanctions-depuis-2014-vd.xlsx_2019-05-14.xlsx' mode='r' compress_type=deflate>\n",
      "sanctions-prononcees-par-la-cnil/open-cnil-ventilation-sanctions-depuis-2014-vd.xlsx_2019-05-14.xlsx\n",
      ".xsxl found\n",
      "(6, 6)\n",
      "opened df, return from open_df\n",
      "Re-execution completed.\n",
      "The column_formatter method worked perfectly.\n",
      "\u001b[32msanctions-prononcees-par-la-cnil/open-cnil-ventilation-sanctions-depuis-2014-vd.xlsx_2019-05-14.xlsx processed successfully!\u001b[0m\n",
      "---------------------------------------------------\n",
      "\u001b[32mcurrent: droit-dacces-indirect-taj-stic-judex/opencnil-dai-stic-judex-taj-maj-janvier-2019.xlsx_2019-05-13.xlsx\u001b[0m\n",
      "---------------------------------------------------\n",
      "\u001b[32mdroit-dacces-indirect-taj-stic-judex/opencnil-dai-stic-judex-taj-maj-janvier-2019.xlsx_2019-05-13.xlsx\u001b[0m\n",
      "<zipfile.ZipExtFile name='droit-dacces-indirect-taj-stic-judex/opencnil-dai-stic-judex-taj-maj-janvier-2019.xlsx_2019-05-13.xlsx' mode='r' compress_type=deflate>\n",
      "droit-dacces-indirect-taj-stic-judex/opencnil-dai-stic-judex-taj-maj-janvier-2019.xlsx_2019-05-13.xlsx\n",
      ".xsxl found\n",
      "(17, 8)\n",
      "opened df, return from open_df\n",
      "More rows than columns, no need to transpose\n",
      "Re-execution completed.\n",
      "The column_formatter method worked perfectly.\n",
      "\u001b[32mdroit-dacces-indirect-taj-stic-judex/opencnil-dai-stic-judex-taj-maj-janvier-2019.xlsx_2019-05-13.xlsx processed successfully!\u001b[0m\n",
      "---------------------------------------------------\n",
      "\u001b[32mcurrent: droit-dacces-indirect-taj-stic-judex/opencnil-dai-stic-judex-taj-maj-janvier-2019.csv_2019-05-13.csv\u001b[0m\n",
      "---------------------------------------------------\n",
      "\u001b[32mdroit-dacces-indirect-taj-stic-judex/opencnil-dai-stic-judex-taj-maj-janvier-2019.csv_2019-05-13.csv\u001b[0m\n",
      "<zipfile.ZipExtFile name='droit-dacces-indirect-taj-stic-judex/opencnil-dai-stic-judex-taj-maj-janvier-2019.csv_2019-05-13.csv' mode='r' compress_type=deflate>\n",
      "droit-dacces-indirect-taj-stic-judex/opencnil-dai-stic-judex-taj-maj-janvier-2019.csv_2019-05-13.csv\n",
      ".csv found\n",
      "file: <zipfile.ZipExtFile name='droit-dacces-indirect-taj-stic-judex/opencnil-dai-stic-judex-taj-maj-janvier-2019.csv_2019-05-13.csv' mode='r' compress_type=deflate>\n",
      "\u001b[31mException type (first attempt): ParserError\u001b[0m\n",
      "Error tokenizing data. C error: Expected 1 fields in line 8, saw 2\n",
      "\n",
      "trying to open csv with sep = \";\"\n",
      "\u001b[31mException type (second attempt): EmptyDataError\u001b[0m\n",
      "\u001b[31mException: No columns to parse from file\u001b[0m\n",
      "Unable to open CSV file\n",
      "opened df, return from open_df\n",
      "\u001b[31mdroit-dacces-indirect-taj-stic-judex/opencnil-dai-stic-judex-taj-maj-janvier-2019.csv_2019-05-13.csv not processed!\u001b[0m\n",
      "---------------------------------------------------\n",
      "\u001b[32mcurrent: controles-realises-par-la-cnil/Liste des contrôles réalisés par la CNIL en 2017_2018-06-20.csv\u001b[0m\n",
      "---------------------------------------------------\n",
      "\u001b[32mcontroles-realises-par-la-cnil/Liste des contrôles réalisés par la CNIL en 2017_2018-06-20.csv\u001b[0m\n",
      "<zipfile.ZipExtFile name='controles-realises-par-la-cnil/Liste des contrôles réalisés par la CNIL en 2017_2018-06-20.csv' mode='r' compress_type=deflate>\n",
      "controles-realises-par-la-cnil/Liste des contrôles réalisés par la CNIL en 2017_2018-06-20.csv\n",
      ".csv found\n",
      "file: <zipfile.ZipExtFile name='controles-realises-par-la-cnil/Liste des contrôles réalisés par la CNIL en 2017_2018-06-20.csv' mode='r' compress_type=deflate>\n",
      "opened df, return from open_df\n",
      "More rows than columns, no need to transpose\n",
      "Re-execution completed.\n",
      "The column_formatter method worked perfectly.\n",
      "\u001b[32mcontroles-realises-par-la-cnil/Liste des contrôles réalisés par la CNIL en 2017_2018-06-20.csv processed successfully!\u001b[0m\n",
      "---------------------------------------------------\n",
      "\u001b[32mcurrent: controles-realises-par-la-cnil/Liste des contrôles réalisés par la CNIL en 2017_2018-06-20.xlsx\u001b[0m\n",
      "---------------------------------------------------\n",
      "\u001b[32mcontroles-realises-par-la-cnil/Liste des contrôles réalisés par la CNIL en 2017_2018-06-20.xlsx\u001b[0m\n",
      "<zipfile.ZipExtFile name='controles-realises-par-la-cnil/Liste des contrôles réalisés par la CNIL en 2017_2018-06-20.xlsx' mode='r' compress_type=deflate>\n",
      "controles-realises-par-la-cnil/Liste des contrôles réalisés par la CNIL en 2017_2018-06-20.xlsx\n",
      ".xsxl found\n",
      "(343, 6)\n",
      "opened df, return from open_df\n",
      "More rows than columns, no need to transpose\n",
      "Re-execution completed.\n",
      "The column_formatter method worked perfectly.\n",
      "\u001b[32mcontroles-realises-par-la-cnil/Liste des contrôles réalisés par la CNIL en 2017_2018-06-20.xlsx processed successfully!\u001b[0m\n",
      "---------------------------------------------------\n",
      "\u001b[32mcurrent: correspondants-informatique-et-libertes-cil/Organismes_avec_CIL.xlsx_2018-05-24.xlsx\u001b[0m\n",
      "---------------------------------------------------\n",
      "\u001b[32mcorrespondants-informatique-et-libertes-cil/Organismes_avec_CIL.xlsx_2018-05-24.xlsx\u001b[0m\n",
      "<zipfile.ZipExtFile name='correspondants-informatique-et-libertes-cil/Organismes_avec_CIL.xlsx_2018-05-24.xlsx' mode='r' compress_type=deflate>\n",
      "correspondants-informatique-et-libertes-cil/Organismes_avec_CIL.xlsx_2018-05-24.xlsx\n",
      ".xsxl found\n",
      "(19533, 8)\n",
      "opened df, return from open_df\n",
      "More rows than columns, no need to transpose\n",
      "Re-execution completed.\n",
      "The column_formatter method worked perfectly.\n",
      "\u001b[32mcorrespondants-informatique-et-libertes-cil/Organismes_avec_CIL.xlsx_2018-05-24.xlsx processed successfully!\u001b[0m\n",
      "---------------------------------------------------\n",
      "\u001b[32mcurrent: correspondants-informatique-et-libertes-cil/Organismes_avec_CIL.csv_2018-05-24.csv\u001b[0m\n",
      "---------------------------------------------------\n",
      "\u001b[32mcorrespondants-informatique-et-libertes-cil/Organismes_avec_CIL.csv_2018-05-24.csv\u001b[0m\n",
      "<zipfile.ZipExtFile name='correspondants-informatique-et-libertes-cil/Organismes_avec_CIL.csv_2018-05-24.csv' mode='r' compress_type=deflate>\n",
      "correspondants-informatique-et-libertes-cil/Organismes_avec_CIL.csv_2018-05-24.csv\n",
      ".csv found\n",
      "file: <zipfile.ZipExtFile name='correspondants-informatique-et-libertes-cil/Organismes_avec_CIL.csv_2018-05-24.csv' mode='r' compress_type=deflate>\n",
      "\u001b[31mException type (first attempt): ParserError\u001b[0m\n",
      "Error tokenizing data. C error: Expected 1 fields in line 7, saw 2\n",
      "\n",
      "trying to open csv with sep = \";\"\n",
      "opened df, return from open_df\n",
      "More rows than columns, no need to transpose\n",
      "Re-execution completed.\n",
      "The column_formatter method worked perfectly.\n",
      "\u001b[32mcorrespondants-informatique-et-libertes-cil/Organismes_avec_CIL.csv_2018-05-24.csv processed successfully!\u001b[0m\n",
      "---------------------------------------------------\n",
      "\u001b[32mcurrent: controles-realises-par-la-cnil/Liste des contrôles réalisés par la CNIL en 2016_2017-03-30.csv\u001b[0m\n",
      "---------------------------------------------------\n",
      "\u001b[32mcontroles-realises-par-la-cnil/Liste des contrôles réalisés par la CNIL en 2016_2017-03-30.csv\u001b[0m\n",
      "<zipfile.ZipExtFile name='controles-realises-par-la-cnil/Liste des contrôles réalisés par la CNIL en 2016_2017-03-30.csv' mode='r' compress_type=deflate>\n",
      "controles-realises-par-la-cnil/Liste des contrôles réalisés par la CNIL en 2016_2017-03-30.csv\n",
      ".csv found\n",
      "file: <zipfile.ZipExtFile name='controles-realises-par-la-cnil/Liste des contrôles réalisés par la CNIL en 2016_2017-03-30.csv' mode='r' compress_type=deflate>\n",
      "opened df, return from open_df\n",
      "More rows than columns, no need to transpose\n",
      "Re-execution completed.\n",
      "The column_formatter method worked perfectly.\n",
      "\u001b[32mcontroles-realises-par-la-cnil/Liste des contrôles réalisés par la CNIL en 2016_2017-03-30.csv processed successfully!\u001b[0m\n",
      "---------------------------------------------------\n",
      "\u001b[32mcurrent: controles-realises-par-la-cnil/Liste des contrôles réalisés par la CNIL en 2016_2017-03-30.xlsx\u001b[0m\n",
      "---------------------------------------------------\n",
      "\u001b[32mcontroles-realises-par-la-cnil/Liste des contrôles réalisés par la CNIL en 2016_2017-03-30.xlsx\u001b[0m\n",
      "<zipfile.ZipExtFile name='controles-realises-par-la-cnil/Liste des contrôles réalisés par la CNIL en 2016_2017-03-30.xlsx' mode='r' compress_type=deflate>\n",
      "controles-realises-par-la-cnil/Liste des contrôles réalisés par la CNIL en 2016_2017-03-30.xlsx\n",
      ".xsxl found\n"
     ]
    },
    {
     "name": "stderr",
     "output_type": "stream",
     "text": [
      "/Users/benjamindupaquier/anaconda3/lib/python3.10/site-packages/openpyxl/worksheet/header_footer.py:48: UserWarning: Cannot parse header or footer so it will be ignored\n",
      "  warn(\"\"\"Cannot parse header or footer so it will be ignored\"\"\")\n"
     ]
    },
    {
     "name": "stdout",
     "output_type": "stream",
     "text": [
      "(430, 7)\n",
      "opened df, return from open_df\n",
      "More rows than columns, no need to transpose\n",
      "Re-execution completed.\n",
      "The column_formatter method worked perfectly.\n",
      "\u001b[32mcontroles-realises-par-la-cnil/Liste des contrôles réalisés par la CNIL en 2016_2017-03-30.xlsx processed successfully!\u001b[0m\n",
      "---------------------------------------------------\n",
      "\u001b[32mcurrent: controles-realises-par-la-cnil/Liste des contrôles réalisés par la CNIL en 2015_2016-05-03.csv\u001b[0m\n",
      "---------------------------------------------------\n",
      "\u001b[32mcontroles-realises-par-la-cnil/Liste des contrôles réalisés par la CNIL en 2015_2016-05-03.csv\u001b[0m\n",
      "<zipfile.ZipExtFile name='controles-realises-par-la-cnil/Liste des contrôles réalisés par la CNIL en 2015_2016-05-03.csv' mode='r' compress_type=deflate>\n",
      "controles-realises-par-la-cnil/Liste des contrôles réalisés par la CNIL en 2015_2016-05-03.csv\n",
      ".csv found\n",
      "file: <zipfile.ZipExtFile name='controles-realises-par-la-cnil/Liste des contrôles réalisés par la CNIL en 2015_2016-05-03.csv' mode='r' compress_type=deflate>\n",
      "\u001b[31mException type (first attempt): UnicodeDecodeError\u001b[0m\n",
      "\u001b[31mException: 'utf-8' codec can't decode byte 0xe9 in position 3: invalid continuation byte\u001b[0m\n",
      "opened df, return from open_df\n",
      "More rows than columns, no need to transpose\n",
      "Re-execution completed.\n",
      "The column_formatter method worked perfectly.\n",
      "\u001b[32mcontroles-realises-par-la-cnil/Liste des contrôles réalisés par la CNIL en 2015_2016-05-03.csv processed successfully!\u001b[0m\n",
      "---------------------------------------------------\n",
      "\u001b[32mcurrent: controles-realises-par-la-cnil/Liste des contrôles réalisés par la CNIL en 2015_2016-05-03.xlsx\u001b[0m\n",
      "---------------------------------------------------\n",
      "\u001b[32mcontroles-realises-par-la-cnil/Liste des contrôles réalisés par la CNIL en 2015_2016-05-03.xlsx\u001b[0m\n",
      "<zipfile.ZipExtFile name='controles-realises-par-la-cnil/Liste des contrôles réalisés par la CNIL en 2015_2016-05-03.xlsx' mode='r' compress_type=deflate>\n",
      "controles-realises-par-la-cnil/Liste des contrôles réalisés par la CNIL en 2015_2016-05-03.xlsx\n",
      ".xsxl found\n"
     ]
    },
    {
     "name": "stderr",
     "output_type": "stream",
     "text": [
      "/Users/benjamindupaquier/anaconda3/lib/python3.10/site-packages/openpyxl/worksheet/header_footer.py:48: UserWarning: Cannot parse header or footer so it will be ignored\n",
      "  warn(\"\"\"Cannot parse header or footer so it will be ignored\"\"\")\n"
     ]
    },
    {
     "name": "stdout",
     "output_type": "stream",
     "text": [
      "(496, 6)\n",
      "opened df, return from open_df\n",
      "More rows than columns, no need to transpose\n",
      "Re-execution completed.\n",
      "The column_formatter method worked perfectly.\n",
      "\u001b[32mcontroles-realises-par-la-cnil/Liste des contrôles réalisés par la CNIL en 2015_2016-05-03.xlsx processed successfully!\u001b[0m\n",
      "---------------------------------------------------\n",
      "\u001b[32mcurrent: controles-realises-par-la-cnil/Liste des contrôles réalisés par la CNIL en 2014_2015-06-15.csv\u001b[0m\n",
      "---------------------------------------------------\n",
      "\u001b[32mcontroles-realises-par-la-cnil/Liste des contrôles réalisés par la CNIL en 2014_2015-06-15.csv\u001b[0m\n",
      "<zipfile.ZipExtFile name='controles-realises-par-la-cnil/Liste des contrôles réalisés par la CNIL en 2014_2015-06-15.csv' mode='r' compress_type=deflate>\n",
      "controles-realises-par-la-cnil/Liste des contrôles réalisés par la CNIL en 2014_2015-06-15.csv\n",
      ".csv found\n",
      "file: <zipfile.ZipExtFile name='controles-realises-par-la-cnil/Liste des contrôles réalisés par la CNIL en 2014_2015-06-15.csv' mode='r' compress_type=deflate>\n",
      "\u001b[31mException type (first attempt): ParserError\u001b[0m\n",
      "Error tokenizing data. C error: EOF inside string starting at row 275\n",
      "trying to open csv with sep = \";\"\n",
      "\u001b[31mException type (second attempt): EmptyDataError\u001b[0m\n",
      "\u001b[31mException: No columns to parse from file\u001b[0m\n",
      "Unable to open CSV file\n",
      "opened df, return from open_df\n",
      "\u001b[31mcontroles-realises-par-la-cnil/Liste des contrôles réalisés par la CNIL en 2014_2015-06-15.csv not processed!\u001b[0m\n",
      "---------------------------------------------------\n",
      "\u001b[32mcurrent: controles-realises-par-la-cnil/Liste des contrôles réalisés par la CNIL en 2014_2015-06-15.xlsx\u001b[0m\n",
      "---------------------------------------------------\n",
      "\u001b[32mcontroles-realises-par-la-cnil/Liste des contrôles réalisés par la CNIL en 2014_2015-06-15.xlsx\u001b[0m\n",
      "<zipfile.ZipExtFile name='controles-realises-par-la-cnil/Liste des contrôles réalisés par la CNIL en 2014_2015-06-15.xlsx' mode='r' compress_type=deflate>\n",
      "controles-realises-par-la-cnil/Liste des contrôles réalisés par la CNIL en 2014_2015-06-15.xlsx\n",
      ".xsxl found\n",
      "(421, 6)\n",
      "opened df, return from open_df\n",
      "More rows than columns, no need to transpose\n",
      "Re-execution completed.\n",
      "The column_formatter method worked perfectly.\n",
      "\u001b[32mcontroles-realises-par-la-cnil/Liste des contrôles réalisés par la CNIL en 2014_2015-06-15.xlsx processed successfully!\u001b[0m\n",
      "---------------------------------------------------\n",
      "\u001b[32mcurrent: sanctions/gdpr_eu_sanctions_2024-04-19.csv\u001b[0m\n",
      "---------------------------------------------------\n",
      "\u001b[32msanctions/gdpr_eu_sanctions_2024-04-19.csv\u001b[0m\n",
      "<zipfile.ZipExtFile name='sanctions/gdpr_eu_sanctions_2024-04-19.csv' mode='r'>\n",
      "sanctions/gdpr_eu_sanctions_2024-04-19.csv\n",
      ".csv found\n",
      "file: <zipfile.ZipExtFile name='sanctions/gdpr_eu_sanctions_2024-04-19.csv' mode='r'>\n",
      "\u001b[31mException type (first attempt): ParserError\u001b[0m\n",
      "Error tokenizing data. C error: Expected 4 fields in line 3, saw 6\n",
      "\n",
      "trying to open csv with sep = \";\"\n",
      "opened df, return from open_df\n",
      "More rows than columns, no need to transpose\n",
      "The column_formatter method didn't work perfectly. Executing again the method...\n",
      "Re-execution completed.\n",
      "The column_formatter method worked perfectly.\n",
      "\u001b[32msanctions/gdpr_eu_sanctions_2024-04-19.csv processed successfully!\u001b[0m\n",
      "---------------------------------------------------\n",
      "\u001b[32mcurrent: sanctions/gdpr_fr_sanctions_2024-04-19.csv\u001b[0m\n",
      "---------------------------------------------------\n",
      "\u001b[32msanctions/gdpr_fr_sanctions_2024-04-19.csv\u001b[0m\n",
      "<zipfile.ZipExtFile name='sanctions/gdpr_fr_sanctions_2024-04-19.csv' mode='r'>\n",
      "sanctions/gdpr_fr_sanctions_2024-04-19.csv\n",
      ".csv found\n",
      "file: <zipfile.ZipExtFile name='sanctions/gdpr_fr_sanctions_2024-04-19.csv' mode='r'>\n",
      "\u001b[31mException type (first attempt): ParserError\u001b[0m\n",
      "Error tokenizing data. C error: Expected 1 fields in line 52, saw 2\n",
      "\n",
      "trying to open csv with sep = \";\"\n",
      "\u001b[31mException type (second attempt): EmptyDataError\u001b[0m\n",
      "\u001b[31mException: No columns to parse from file\u001b[0m\n",
      "Unable to open CSV file\n",
      "opened df, return from open_df\n",
      "\u001b[31msanctions/gdpr_fr_sanctions_2024-04-19.csv not processed!\u001b[0m\n",
      "---------------------------------------------------\n",
      "For information on errors, please check the errors_backlog attribute.\n"
     ]
    }
   ],
   "source": [
    "import pandas as pd\n",
    "from classes.prep_data import PrepDataCnilBQ\n",
    "\n",
    "instance5 = PrepDataCnilBQ(zip_file)\n",
    "dfs = instance5.process_dfs(zip_file)\n",
    "zip_io = instance5.save_dfs_to_zip(dfs)\n",
    "errors_log = instance5.errors_backlog"
   ]
  },
  {
   "cell_type": "code",
   "execution_count": 16,
   "metadata": {},
   "outputs": [
    {
     "data": {
      "text/html": [
       "<div>\n",
       "<style scoped>\n",
       "    .dataframe tbody tr th:only-of-type {\n",
       "        vertical-align: middle;\n",
       "    }\n",
       "\n",
       "    .dataframe tbody tr th {\n",
       "        vertical-align: top;\n",
       "    }\n",
       "\n",
       "    .dataframe thead th {\n",
       "        text-align: right;\n",
       "    }\n",
       "</style>\n",
       "<table border=\"1\" class=\"dataframe\">\n",
       "  <thead>\n",
       "    <tr style=\"text-align: right;\">\n",
       "      <th></th>\n",
       "      <th>annee</th>\n",
       "      <th>type_de_controle</th>\n",
       "      <th>nom_de_lorganisme_controle_ou_nom_de_domaine</th>\n",
       "      <th>lieu_de_controle</th>\n",
       "      <th>departement</th>\n",
       "      <th>secteur_dactivite</th>\n",
       "    </tr>\n",
       "  </thead>\n",
       "  <tbody>\n",
       "    <tr>\n",
       "      <th>0</th>\n",
       "      <td>2014</td>\n",
       "      <td>Loi 1978</td>\n",
       "      <td>Groupon France</td>\n",
       "      <td>Paris</td>\n",
       "      <td>75</td>\n",
       "      <td>Commerce</td>\n",
       "    </tr>\n",
       "    <tr>\n",
       "      <th>1</th>\n",
       "      <td>2014</td>\n",
       "      <td>Loi 1978</td>\n",
       "      <td>Groupon France</td>\n",
       "      <td>Courbevoie</td>\n",
       "      <td>92</td>\n",
       "      <td>Commerce</td>\n",
       "    </tr>\n",
       "    <tr>\n",
       "      <th>2</th>\n",
       "      <td>2014</td>\n",
       "      <td>Loi 1978</td>\n",
       "      <td>Lycée Marcelin Berthelot</td>\n",
       "      <td>Saint-Maur des Fossés</td>\n",
       "      <td>94</td>\n",
       "      <td>Education/culture/sport</td>\n",
       "    </tr>\n",
       "    <tr>\n",
       "      <th>3</th>\n",
       "      <td>2014</td>\n",
       "      <td>Loi 1978</td>\n",
       "      <td>Jive Squad</td>\n",
       "      <td>Gentilly</td>\n",
       "      <td>94</td>\n",
       "      <td>Commerce</td>\n",
       "    </tr>\n",
       "    <tr>\n",
       "      <th>4</th>\n",
       "      <td>2014</td>\n",
       "      <td>Loi 1978</td>\n",
       "      <td>Conseil général de l'Hérault</td>\n",
       "      <td>Montpellier</td>\n",
       "      <td>34</td>\n",
       "      <td>Santé/ social</td>\n",
       "    </tr>\n",
       "    <tr>\n",
       "      <th>...</th>\n",
       "      <td>...</td>\n",
       "      <td>...</td>\n",
       "      <td>...</td>\n",
       "      <td>...</td>\n",
       "      <td>...</td>\n",
       "      <td>...</td>\n",
       "    </tr>\n",
       "    <tr>\n",
       "      <th>416</th>\n",
       "      <td>2014</td>\n",
       "      <td>Contrôles en ligne</td>\n",
       "      <td>iut.univ-avignon.fr (Université d'Avignon et d...</td>\n",
       "      <td>Paris</td>\n",
       "      <td>75</td>\n",
       "      <td>Education/culture/sport</td>\n",
       "    </tr>\n",
       "    <tr>\n",
       "      <th>417</th>\n",
       "      <td>2014</td>\n",
       "      <td>Contrôles en ligne</td>\n",
       "      <td>clermont-ferrand.fr</td>\n",
       "      <td>Paris</td>\n",
       "      <td>75</td>\n",
       "      <td>Collectivités locales</td>\n",
       "    </tr>\n",
       "    <tr>\n",
       "      <th>418</th>\n",
       "      <td>2014</td>\n",
       "      <td>Contrôles en ligne</td>\n",
       "      <td>u-bordeaux.fr</td>\n",
       "      <td>Paris</td>\n",
       "      <td>75</td>\n",
       "      <td>Commerce</td>\n",
       "    </tr>\n",
       "    <tr>\n",
       "      <th>419</th>\n",
       "      <td>2014</td>\n",
       "      <td>Contrôles en ligne</td>\n",
       "      <td>www.ville-chateaudun.fr  (Commune De Chateaudun)</td>\n",
       "      <td>Paris</td>\n",
       "      <td>75</td>\n",
       "      <td>Collectivités locales</td>\n",
       "    </tr>\n",
       "    <tr>\n",
       "      <th>420</th>\n",
       "      <td>2014</td>\n",
       "      <td>Contrôles en ligne</td>\n",
       "      <td>ville-aubierre.fr</td>\n",
       "      <td>Paris</td>\n",
       "      <td>75</td>\n",
       "      <td>Collectivités locales</td>\n",
       "    </tr>\n",
       "  </tbody>\n",
       "</table>\n",
       "<p>421 rows × 6 columns</p>\n",
       "</div>"
      ],
      "text/plain": [
       "     annee    type_de_controle  \\\n",
       "0     2014            Loi 1978   \n",
       "1     2014            Loi 1978   \n",
       "2     2014            Loi 1978   \n",
       "3     2014            Loi 1978   \n",
       "4     2014            Loi 1978   \n",
       "..     ...                 ...   \n",
       "416   2014  Contrôles en ligne   \n",
       "417   2014  Contrôles en ligne   \n",
       "418   2014  Contrôles en ligne   \n",
       "419   2014  Contrôles en ligne   \n",
       "420   2014  Contrôles en ligne   \n",
       "\n",
       "          nom_de_lorganisme_controle_ou_nom_de_domaine       lieu_de_controle  \\\n",
       "0                                       Groupon France                  Paris   \n",
       "1                                       Groupon France             Courbevoie   \n",
       "2                             Lycée Marcelin Berthelot  Saint-Maur des Fossés   \n",
       "3                                           Jive Squad               Gentilly   \n",
       "4                         Conseil général de l'Hérault            Montpellier   \n",
       "..                                                 ...                    ...   \n",
       "416  iut.univ-avignon.fr (Université d'Avignon et d...                  Paris   \n",
       "417                                clermont-ferrand.fr                  Paris   \n",
       "418                                      u-bordeaux.fr                  Paris   \n",
       "419   www.ville-chateaudun.fr  (Commune De Chateaudun)                  Paris   \n",
       "420                                  ville-aubierre.fr                  Paris   \n",
       "\n",
       "    departement        secteur_dactivite  \n",
       "0            75                 Commerce  \n",
       "1            92                 Commerce  \n",
       "2            94  Education/culture/sport  \n",
       "3            94                 Commerce  \n",
       "4            34            Santé/ social  \n",
       "..          ...                      ...  \n",
       "416          75  Education/culture/sport  \n",
       "417          75    Collectivités locales  \n",
       "418          75                 Commerce  \n",
       "419          75    Collectivités locales  \n",
       "420          75    Collectivités locales  \n",
       "\n",
       "[421 rows x 6 columns]"
      ]
     },
     "execution_count": 16,
     "metadata": {},
     "output_type": "execute_result"
    }
   ],
   "source": [
    "dfs[40]['df']"
   ]
  },
  {
   "cell_type": "code",
   "execution_count": 9,
   "metadata": {},
   "outputs": [
    {
     "data": {
      "text/html": [
       "<div>\n",
       "<style scoped>\n",
       "    .dataframe tbody tr th:only-of-type {\n",
       "        vertical-align: middle;\n",
       "    }\n",
       "\n",
       "    .dataframe tbody tr th {\n",
       "        vertical-align: top;\n",
       "    }\n",
       "\n",
       "    .dataframe thead th {\n",
       "        text-align: right;\n",
       "    }\n",
       "</style>\n",
       "<table border=\"1\" class=\"dataframe\">\n",
       "  <thead>\n",
       "    <tr style=\"text-align: right;\">\n",
       "      <th></th>\n",
       "      <th>date</th>\n",
       "      <th>organisme_type</th>\n",
       "      <th>manquements</th>\n",
       "      <th>decision</th>\n",
       "      <th>theme</th>\n",
       "    </tr>\n",
       "  </thead>\n",
       "  <tbody>\n",
       "    <tr>\n",
       "      <th>0</th>\n",
       "      <td>23/01/2023</td>\n",
       "      <td>SOCIETE DE CONSEIL EN SYSTEMES ET LOGICIELS IN...</td>\n",
       "      <td>\\nDéfaut de coopération avec  la CNIL\\n\\t\\t\\tC...</td>\n",
       "      <td>\\nAmende de 5 000 euros et injonction\\n</td>\n",
       "      <td>NaN</td>\n",
       "    </tr>\n",
       "    <tr>\n",
       "      <th>1</th>\n",
       "      <td>08/02/2023</td>\n",
       "      <td>COMMUNE (procédure simplifiée)</td>\n",
       "      <td>Obligation de désigner un délégué à la protect...</td>\n",
       "      <td>Amende de 5 000 euros et injonction</td>\n",
       "      <td>NaN</td>\n",
       "    </tr>\n",
       "    <tr>\n",
       "      <th>2</th>\n",
       "      <td>08/02/2023</td>\n",
       "      <td>MEDECIN GENERALISTE  (procédure simplifiée)</td>\n",
       "      <td>\\nNon respect du droit d'accès\\n\\t\\t\\tDéfaut d...</td>\n",
       "      <td>\\nAmende de 3 000 euros et injonction\\n</td>\n",
       "      <td>NaN</td>\n",
       "    </tr>\n",
       "    <tr>\n",
       "      <th>3</th>\n",
       "      <td>08/02/2023</td>\n",
       "      <td>SOCIETE EXERCANT UNE ACTIVITE DE DETAIL D'HABI...</td>\n",
       "      <td>Défaut de coopération avec  la CNIL</td>\n",
       "      <td>Amende de 10 000 euros et injonction</td>\n",
       "      <td>NaN</td>\n",
       "    </tr>\n",
       "    <tr>\n",
       "      <th>4</th>\n",
       "      <td>03/03/2023</td>\n",
       "      <td>SOCIETE EXERCANT UNE ACTIVITE DE SECURITE PRIV...</td>\n",
       "      <td>\\nNon respect du principe de minimisation des ...</td>\n",
       "      <td>Amende de 15 000 euros</td>\n",
       "      <td>NaN</td>\n",
       "    </tr>\n",
       "    <tr>\n",
       "      <th>...</th>\n",
       "      <td>...</td>\n",
       "      <td>...</td>\n",
       "      <td>...</td>\n",
       "      <td>...</td>\n",
       "      <td>...</td>\n",
       "    </tr>\n",
       "    <tr>\n",
       "      <th>210</th>\n",
       "      <td>06/10/2011</td>\n",
       "      <td>SOCIETE DE GESTION IMMOBILIERE</td>\n",
       "      <td>Commentaires excessifs, données de santé et op...</td>\n",
       "      <td>Avertissement non public</td>\n",
       "      <td>Immobilier</td>\n",
       "    </tr>\n",
       "    <tr>\n",
       "      <th>211</th>\n",
       "      <td>06/10/2011</td>\n",
       "      <td>TRANSACTION ET GESTION DE BIENS IMMOBILIERS</td>\n",
       "      <td>Formalités préalables, défaut de réponse</td>\n",
       "      <td>Avertissement non public</td>\n",
       "      <td>Immobilier</td>\n",
       "    </tr>\n",
       "    <tr>\n",
       "      <th>212</th>\n",
       "      <td>21/09/2011</td>\n",
       "      <td>ANNUAIRE</td>\n",
       "      <td>Collecte déloyale, défaut de mise à jour, non ...</td>\n",
       "      <td>Avertissement public</td>\n",
       "      <td>aspiration de données sur des réseaux sociaux</td>\n",
       "    </tr>\n",
       "    <tr>\n",
       "      <th>213</th>\n",
       "      <td>21/07/2011</td>\n",
       "      <td>PARTI POLITIQUE</td>\n",
       "      <td>Sécurité, confidentialité</td>\n",
       "      <td>Avertissement + procédure d'urgence</td>\n",
       "      <td>Elections</td>\n",
       "    </tr>\n",
       "    <tr>\n",
       "      <th>214</th>\n",
       "      <td>30/06/2011</td>\n",
       "      <td>SOCIETE DE CONSTRUCTION</td>\n",
       "      <td>Traitement illicite de données</td>\n",
       "      <td>Avertissement non public</td>\n",
       "      <td>Immobilier</td>\n",
       "    </tr>\n",
       "  </tbody>\n",
       "</table>\n",
       "<p>215 rows × 5 columns</p>\n",
       "</div>"
      ],
      "text/plain": [
       "           date                                     organisme_type  \\\n",
       "0    23/01/2023  SOCIETE DE CONSEIL EN SYSTEMES ET LOGICIELS IN...   \n",
       "1    08/02/2023                     COMMUNE (procédure simplifiée)   \n",
       "2    08/02/2023        MEDECIN GENERALISTE  (procédure simplifiée)   \n",
       "3    08/02/2023  SOCIETE EXERCANT UNE ACTIVITE DE DETAIL D'HABI...   \n",
       "4    03/03/2023  SOCIETE EXERCANT UNE ACTIVITE DE SECURITE PRIV...   \n",
       "..          ...                                                ...   \n",
       "210  06/10/2011                    SOCIETE DE GESTION IMMOBILIERE    \n",
       "211  06/10/2011       TRANSACTION ET GESTION DE BIENS IMMOBILIERS    \n",
       "212  21/09/2011                                           ANNUAIRE   \n",
       "213  21/07/2011                                   PARTI POLITIQUE    \n",
       "214  30/06/2011                           SOCIETE DE CONSTRUCTION    \n",
       "\n",
       "                                           manquements  \\\n",
       "0    \\nDéfaut de coopération avec  la CNIL\\n\\t\\t\\tC...   \n",
       "1    Obligation de désigner un délégué à la protect...   \n",
       "2    \\nNon respect du droit d'accès\\n\\t\\t\\tDéfaut d...   \n",
       "3                  Défaut de coopération avec  la CNIL   \n",
       "4    \\nNon respect du principe de minimisation des ...   \n",
       "..                                                 ...   \n",
       "210  Commentaires excessifs, données de santé et op...   \n",
       "211           Formalités préalables, défaut de réponse   \n",
       "212  Collecte déloyale, défaut de mise à jour, non ...   \n",
       "213                         Sécurité, confidentialité    \n",
       "214                    Traitement illicite de données    \n",
       "\n",
       "                                    decision  \\\n",
       "0    \\nAmende de 5 000 euros et injonction\\n   \n",
       "1        Amende de 5 000 euros et injonction   \n",
       "2    \\nAmende de 3 000 euros et injonction\\n   \n",
       "3       Amende de 10 000 euros et injonction   \n",
       "4                     Amende de 15 000 euros   \n",
       "..                                       ...   \n",
       "210                Avertissement non public    \n",
       "211                 Avertissement non public   \n",
       "212                    Avertissement public    \n",
       "213     Avertissement + procédure d'urgence    \n",
       "214                Avertissement non public    \n",
       "\n",
       "                                             theme  \n",
       "0                                              NaN  \n",
       "1                                              NaN  \n",
       "2                                              NaN  \n",
       "3                                              NaN  \n",
       "4                                              NaN  \n",
       "..                                             ...  \n",
       "210                                    Immobilier   \n",
       "211                                    Immobilier   \n",
       "212  aspiration de données sur des réseaux sociaux  \n",
       "213                                      Elections  \n",
       "214                                    Immobilier   \n",
       "\n",
       "[215 rows x 5 columns]"
      ]
     },
     "execution_count": 9,
     "metadata": {},
     "output_type": "execute_result"
    }
   ],
   "source": [
    "import pandas as pd\n",
    "\n",
    "df = pd.read_csv('gdpr_fr_sanctions_2024-04-19.csv', sep=';')\n",
    "df"
   ]
  },
  {
   "cell_type": "code",
   "execution_count": 3,
   "metadata": {},
   "outputs": [
    {
     "data": {
      "text/html": [
       "<div>\n",
       "<style scoped>\n",
       "    .dataframe tbody tr th:only-of-type {\n",
       "        vertical-align: middle;\n",
       "    }\n",
       "\n",
       "    .dataframe tbody tr th {\n",
       "        vertical-align: top;\n",
       "    }\n",
       "\n",
       "    .dataframe thead th {\n",
       "        text-align: right;\n",
       "    }\n",
       "</style>\n",
       "<table border=\"1\" class=\"dataframe\">\n",
       "  <thead>\n",
       "    <tr style=\"text-align: right;\">\n",
       "      <th></th>\n",
       "      <th>path</th>\n",
       "      <th>error</th>\n",
       "    </tr>\n",
       "  </thead>\n",
       "  <tbody>\n",
       "    <tr>\n",
       "      <th>0</th>\n",
       "      <td>organismes-ayant-designe-un-e-delegue-e-a-la-p...</td>\n",
       "      <td>unnamed columns</td>\n",
       "    </tr>\n",
       "    <tr>\n",
       "      <th>0</th>\n",
       "      <td>organismes-ayant-designe-un-e-delegue-e-a-la-p...</td>\n",
       "      <td>Drop empty columns</td>\n",
       "    </tr>\n",
       "    <tr>\n",
       "      <th>1</th>\n",
       "      <td>traitements-de-donnees-personnelles-declares-a...</td>\n",
       "      <td>ParserError and Error tokenizing data. C error...</td>\n",
       "    </tr>\n",
       "    <tr>\n",
       "      <th>1</th>\n",
       "      <td>traitements-de-donnees-personnelles-declares-a...</td>\n",
       "      <td>Drop empty columns</td>\n",
       "    </tr>\n",
       "    <tr>\n",
       "      <th>1</th>\n",
       "      <td>traitements-de-donnees-personnelles-declares-a...</td>\n",
       "      <td>Column name autre_duree_:_precisez__15_ans_apr...</td>\n",
       "    </tr>\n",
       "    <tr>\n",
       "      <th>...</th>\n",
       "      <td>...</td>\n",
       "      <td>...</td>\n",
       "    </tr>\n",
       "    <tr>\n",
       "      <th>39</th>\n",
       "      <td>controles-realises-par-la-cnil/Liste des contr...</td>\n",
       "      <td>Drop empty columns</td>\n",
       "    </tr>\n",
       "    <tr>\n",
       "      <th>40</th>\n",
       "      <td>controles-realises-par-la-cnil/Liste des contr...</td>\n",
       "      <td>Drop empty columns</td>\n",
       "    </tr>\n",
       "    <tr>\n",
       "      <th>41</th>\n",
       "      <td>sanctions/gdpr_eu_sanctions_2024-04-19.csv</td>\n",
       "      <td>ParserError and Error tokenizing data. C error...</td>\n",
       "    </tr>\n",
       "    <tr>\n",
       "      <th>41</th>\n",
       "      <td>sanctions/gdpr_eu_sanctions_2024-04-19.csv</td>\n",
       "      <td>Drop empty columns</td>\n",
       "    </tr>\n",
       "    <tr>\n",
       "      <th>41</th>\n",
       "      <td>sanctions/gdpr_eu_sanctions_2024-04-19.csv</td>\n",
       "      <td>Column name https:wwwaepdesesdocumentops002342...</td>\n",
       "    </tr>\n",
       "  </tbody>\n",
       "</table>\n",
       "<p>84 rows × 2 columns</p>\n",
       "</div>"
      ],
      "text/plain": [
       "                                                 path  \\\n",
       "0   organismes-ayant-designe-un-e-delegue-e-a-la-p...   \n",
       "0   organismes-ayant-designe-un-e-delegue-e-a-la-p...   \n",
       "1   traitements-de-donnees-personnelles-declares-a...   \n",
       "1   traitements-de-donnees-personnelles-declares-a...   \n",
       "1   traitements-de-donnees-personnelles-declares-a...   \n",
       "..                                                ...   \n",
       "39  controles-realises-par-la-cnil/Liste des contr...   \n",
       "40  controles-realises-par-la-cnil/Liste des contr...   \n",
       "41         sanctions/gdpr_eu_sanctions_2024-04-19.csv   \n",
       "41         sanctions/gdpr_eu_sanctions_2024-04-19.csv   \n",
       "41         sanctions/gdpr_eu_sanctions_2024-04-19.csv   \n",
       "\n",
       "                                                error  \n",
       "0                                     unnamed columns  \n",
       "0                                  Drop empty columns  \n",
       "1   ParserError and Error tokenizing data. C error...  \n",
       "1                                  Drop empty columns  \n",
       "1   Column name autre_duree_:_precisez__15_ans_apr...  \n",
       "..                                                ...  \n",
       "39                                 Drop empty columns  \n",
       "40                                 Drop empty columns  \n",
       "41  ParserError and Error tokenizing data. C error...  \n",
       "41                                 Drop empty columns  \n",
       "41  Column name https:wwwaepdesesdocumentops002342...  \n",
       "\n",
       "[84 rows x 2 columns]"
      ]
     },
     "execution_count": 3,
     "metadata": {},
     "output_type": "execute_result"
    }
   ],
   "source": [
    "errors_log = instance5.errors_backlog\n",
    "errors_log"
   ]
  },
  {
   "cell_type": "code",
   "execution_count": 5,
   "metadata": {},
   "outputs": [
    {
     "name": "stdout",
     "output_type": "stream",
     "text": [
      "Bucket already exists.\n",
      "\u001b[32m file 2024-04-19/prep/prep_gbq_datasets.zip uploaded to GCS successfully to 2024-04-19/prep/prep_gbq_datasets.zip.\u001b[0m\n"
     ]
    }
   ],
   "source": [
    "from classes.gcs_processor import GCSProcessor\n",
    "\n",
    "bucket_name = 'cnil_csv'\n",
    "cred_path = 'cred/service_account_local_py.json'\n",
    "init2 = GCSProcessor(bucket_name=bucket_name, credentials_path=credentials_path)\n",
    "init2.create_bucket()\n",
    "file_paths = [zip_io]\n",
    "dest_folder = 'prep'\n",
    "dest_blobs = ['prep_gbq_datasets.zip']\n",
    "instance1.upload_local_to_gcs(file_paths=file_paths, dest_folder=dest_folder, dest_blobs=dest_blobs, date=today)"
   ]
  },
  {
   "cell_type": "code",
   "execution_count": null,
   "metadata": {},
   "outputs": [],
   "source": [
    "# extract and upload a zip from a blob list. Adapt/filter the blob list to fit your needs\n",
    "\n",
    "from classes.gcs_processor import GCSProcessor\n",
    "\n",
    "bucket_name = 'cnil_csv'\n",
    "cred_path = 'cred/service_account_local_py.json'\n",
    "init2 = GCSProcessor(bucket_name=bucket_name, credentials_path=credentials_path)\n",
    "prefix = 'prep'\n",
    "blobs = init2.list_blobs(prefix=prefix)\n",
    "init2.extract_and_upload_selection(blobs = blobs, folder_name='prep/extracted', date=today)"
   ]
  },
  {
   "cell_type": "markdown",
   "metadata": {},
   "source": [
    "# GCS to GCP "
   ]
  },
  {
   "cell_type": "code",
   "execution_count": 1,
   "metadata": {},
   "outputs": [
    {
     "name": "stdout",
     "output_type": "stream",
     "text": [
      "cnil_csv\n"
     ]
    }
   ],
   "source": [
    "from classes.gcs_processor import GCSProcessor\n",
    "from datetime import date\n",
    "\n",
    "today = date.today()\n",
    "\n",
    "gcs_bucket_name = 'cnil_csv'\n",
    "credentials_path = 'cred/service_account_local_py.json'\n",
    "folder = \"2024-04-18/prep\"\n",
    "\n",
    "instance1 = GCSProcessor(bucket_name=gcs_bucket_name, credentials_path=credentials_path)\n",
    "list_blob = instance1.list_blobs(folder)\n",
    "zip_file = instance1.get_zip_file_object(list_blob[0].name)"
   ]
  },
  {
   "cell_type": "code",
   "execution_count": 2,
   "metadata": {},
   "outputs": [
    {
     "name": "stdout",
     "output_type": "stream",
     "text": [
      "\u001b[32mCreated dataset (or already exists) cnil-392113.raw_data\u001b[0m\n",
      "---------------------\n",
      "organismes_ayant_designe_un_e_delegue_e_a_la_protection_des_donnees_dpd_dpo/opencnil_organismes_avec_dpo_xlsx_2024_04_08_xlsx.csv\n",
      "opencnil_organismes_avec_dpo_xlsx_2024_04_08_xlsx.csv\n",
      "2024-04-08\n",
      "xlsx\n",
      "opencnil_organismes_avec_dpo_xlsx\n",
      "this is the table name:  cnil-392113.raw_data.opencnil_organismes_avec_dpo_xlsx\n",
      "---------------------\n"
     ]
    },
    {
     "name": "stderr",
     "output_type": "stream",
     "text": [
      "1it [00:06,  6.97s/it]\n"
     ]
    },
    {
     "name": "stdout",
     "output_type": "stream",
     "text": [
      "\u001b[32morganismes_ayant_designe_un_e_delegue_e_a_la_protection_des_donnees_dpd_dpo/opencnil_organismes_avec_dpo_xlsx_2024_04_08_xlsx.csv is uploaded to cnil-392113.raw_data.opencnil_organismes_avec_dpo_xlsx\u001b[0m\n",
      "---------------------\n",
      "traitements_de_donnees_personnelles_declares_a_la_cnil_depuis_le_25_mai_2018/Formalités_préalables_reçues_par_la_CNIL_depuis_le_25_mai_2018_2024_04_08_csv.csv\n",
      "Formalités_préalables_reçues_par_la_CNIL_depuis_le_25_mai_2018_2024_04_08_csv.csv\n",
      "2024-04-08\n",
      "csv\n",
      "formalites_prealables_recues_par_la_cnil_depuis_le_25_mai_2018\n",
      "this is the table name:  cnil-392113.raw_data.formalites_prealables_recues_par_la_cnil_depuis_le_25_mai_2018\n",
      "---------------------\n"
     ]
    },
    {
     "name": "stderr",
     "output_type": "stream",
     "text": [
      "1it [00:05,  5.32s/it]\n"
     ]
    },
    {
     "name": "stdout",
     "output_type": "stream",
     "text": [
      "\u001b[32mtraitements_de_donnees_personnelles_declares_a_la_cnil_depuis_le_25_mai_2018/Formalités_préalables_reçues_par_la_CNIL_depuis_le_25_mai_2018_2024_04_08_csv.csv is uploaded to cnil-392113.raw_data.formalites_prealables_recues_par_la_cnil_depuis_le_25_mai_2018\u001b[0m\n",
      "---------------------\n",
      "budget_de_la_cnil_1/opencnil_budget_depuis_2000_maj_mars_2024_csv_2024_03_29_csv.csv\n",
      "opencnil_budget_depuis_2000_maj_mars_2024_csv_2024_03_29_csv.csv\n",
      "2024-03-29\n",
      "csv\n",
      "opencnil_budget_depuis_2000_maj_mars_2024_csv\n",
      "this is the table name:  cnil-392113.raw_data.opencnil_budget_depuis_2000_maj_mars_2024_csv\n",
      "---------------------\n"
     ]
    },
    {
     "name": "stderr",
     "output_type": "stream",
     "text": [
      "1it [00:04,  4.11s/it]\n"
     ]
    },
    {
     "name": "stdout",
     "output_type": "stream",
     "text": [
      "\u001b[32mbudget_de_la_cnil_1/opencnil_budget_depuis_2000_maj_mars_2024_csv_2024_03_29_csv.csv is uploaded to cnil-392113.raw_data.opencnil_budget_depuis_2000_maj_mars_2024_csv\u001b[0m\n",
      "---------------------\n",
      "budget_de_la_cnil_1/opencnil_budget_depuis_2000_maj_mars_2024_xlsx_2024_03_29_xlsx.csv\n",
      "opencnil_budget_depuis_2000_maj_mars_2024_xlsx_2024_03_29_xlsx.csv\n",
      "2024-03-29\n",
      "xlsx\n",
      "opencnil_budget_depuis_2000_maj_mars_2024_xlsx\n",
      "this is the table name:  cnil-392113.raw_data.opencnil_budget_depuis_2000_maj_mars_2024_xlsx\n",
      "---------------------\n"
     ]
    },
    {
     "name": "stderr",
     "output_type": "stream",
     "text": [
      "1it [00:02,  2.96s/it]\n"
     ]
    },
    {
     "name": "stdout",
     "output_type": "stream",
     "text": [
      "\u001b[32mbudget_de_la_cnil_1/opencnil_budget_depuis_2000_maj_mars_2024_xlsx_2024_03_29_xlsx.csv is uploaded to cnil-392113.raw_data.opencnil_budget_depuis_2000_maj_mars_2024_xlsx\u001b[0m\n",
      "---------------------\n",
      "notifications_a_la_cnil_de_violations_de_donnees_a_caractere_personnel/opencnil_violationsdcpnotifiees_20231231_xlsx_2024_03_29_xlsx.csv\n",
      "opencnil_violationsdcpnotifiees_20231231_xlsx_2024_03_29_xlsx.csv\n",
      "2024-03-29\n",
      "xlsx\n",
      "opencnil_violationsdcpnotifiees_20231231_xlsx\n",
      "this is the table name:  cnil-392113.raw_data.opencnil_violationsdcpnotifiees_20231231_xlsx\n",
      "---------------------\n"
     ]
    },
    {
     "name": "stderr",
     "output_type": "stream",
     "text": [
      "1it [00:04,  4.05s/it]\n"
     ]
    },
    {
     "name": "stdout",
     "output_type": "stream",
     "text": [
      "\u001b[32mnotifications_a_la_cnil_de_violations_de_donnees_a_caractere_personnel/opencnil_violationsdcpnotifiees_20231231_xlsx_2024_03_29_xlsx.csv is uploaded to cnil-392113.raw_data.opencnil_violationsdcpnotifiees_20231231_xlsx\u001b[0m\n",
      "---------------------\n",
      "notifications_a_la_cnil_de_violations_de_donnees_a_caractere_personnel/opencnil_violationsdcpnotifiees_20231231_csv_2024_03_29_csv.csv\n",
      "opencnil_violationsdcpnotifiees_20231231_csv_2024_03_29_csv.csv\n",
      "2024-03-29\n",
      "csv\n",
      "opencnil_violationsdcpnotifiees_20231231_csv\n",
      "this is the table name:  cnil-392113.raw_data.opencnil_violationsdcpnotifiees_20231231_csv\n",
      "---------------------\n"
     ]
    },
    {
     "name": "stderr",
     "output_type": "stream",
     "text": [
      "1it [00:06,  6.20s/it]\n"
     ]
    },
    {
     "name": "stdout",
     "output_type": "stream",
     "text": [
      "\u001b[32mnotifications_a_la_cnil_de_violations_de_donnees_a_caractere_personnel/opencnil_violationsdcpnotifiees_20231231_csv_2024_03_29_csv.csv is uploaded to cnil-392113.raw_data.opencnil_violationsdcpnotifiees_20231231_csv\u001b[0m\n",
      "---------------------\n",
      "traitements_de_donnees_personnelles_declares_a_la_cnil_depuis_le_25_mai_2018/Formalités_préalables_reçues_par_la_CNIL_depuis_le_25_mai_2018_2024_03_25_xlsx.csv\n",
      "Formalités_préalables_reçues_par_la_CNIL_depuis_le_25_mai_2018_2024_03_25_xlsx.csv\n",
      "2024-03-25\n",
      "xlsx\n",
      "formalites_prealables_recues_par_la_cnil_depuis_le_25_mai_2018\n",
      "this is the table name:  cnil-392113.raw_data.formalites_prealables_recues_par_la_cnil_depuis_le_25_mai_2018\n",
      "---------------------\n"
     ]
    },
    {
     "name": "stderr",
     "output_type": "stream",
     "text": [
      "1it [00:04,  4.49s/it]\n"
     ]
    },
    {
     "name": "stdout",
     "output_type": "stream",
     "text": [
      "\u001b[32mtraitements_de_donnees_personnelles_declares_a_la_cnil_depuis_le_25_mai_2018/Formalités_préalables_reçues_par_la_CNIL_depuis_le_25_mai_2018_2024_03_25_xlsx.csv is uploaded to cnil-392113.raw_data.formalites_prealables_recues_par_la_cnil_depuis_le_25_mai_2018\u001b[0m\n",
      "---------------------\n",
      "sanctions_prononcees_par_la_cnil/opencnil_sanctions_depuis_2019_maj_nov_2023_csv_2023_11_24_csv.csv\n",
      "opencnil_sanctions_depuis_2019_maj_nov_2023_csv_2023_11_24_csv.csv\n",
      "2023-11-24\n",
      "csv\n",
      "opencnil_sanctions_depuis_2019_maj_nov_2023_csv\n",
      "this is the table name:  cnil-392113.raw_data.opencnil_sanctions_depuis_2019_maj_nov_2023_csv\n",
      "---------------------\n"
     ]
    },
    {
     "name": "stderr",
     "output_type": "stream",
     "text": [
      "1it [00:03,  3.11s/it]\n"
     ]
    },
    {
     "name": "stdout",
     "output_type": "stream",
     "text": [
      "\u001b[32msanctions_prononcees_par_la_cnil/opencnil_sanctions_depuis_2019_maj_nov_2023_csv_2023_11_24_csv.csv is uploaded to cnil-392113.raw_data.opencnil_sanctions_depuis_2019_maj_nov_2023_csv\u001b[0m\n",
      "---------------------\n",
      "sanctions_prononcees_par_la_cnil/opencnil_sanctions_depuis_2019_maj_nov_2023_xlsx_2023_11_24_xlsx.csv\n",
      "opencnil_sanctions_depuis_2019_maj_nov_2023_xlsx_2023_11_24_xlsx.csv\n",
      "2023-11-24\n",
      "xlsx\n",
      "opencnil_sanctions_depuis_2019_maj_nov_2023_xlsx\n",
      "this is the table name:  cnil-392113.raw_data.opencnil_sanctions_depuis_2019_maj_nov_2023_xlsx\n",
      "---------------------\n"
     ]
    },
    {
     "name": "stderr",
     "output_type": "stream",
     "text": [
      "1it [00:03,  3.43s/it]\n"
     ]
    },
    {
     "name": "stdout",
     "output_type": "stream",
     "text": [
      "\u001b[32msanctions_prononcees_par_la_cnil/opencnil_sanctions_depuis_2019_maj_nov_2023_xlsx_2023_11_24_xlsx.csv is uploaded to cnil-392113.raw_data.opencnil_sanctions_depuis_2019_maj_nov_2023_xlsx\u001b[0m\n",
      "---------------------\n",
      "protection_des_donnees_personnelles_dans_le_monde/opencnil_autorites_de_protection_vd_20231010_xlsx_2023_11_09_xlsx.csv\n",
      "opencnil_autorites_de_protection_vd_20231010_xlsx_2023_11_09_xlsx.csv\n",
      "2023-11-09\n",
      "xlsx\n",
      "opencnil_autorites_de_protection_vd_20231010_xlsx\n",
      "this is the table name:  cnil-392113.raw_data.opencnil_autorites_de_protection_vd_20231010_xlsx\n",
      "---------------------\n"
     ]
    },
    {
     "name": "stderr",
     "output_type": "stream",
     "text": [
      "1it [00:03,  3.82s/it]\n"
     ]
    },
    {
     "name": "stdout",
     "output_type": "stream",
     "text": [
      "\u001b[32mprotection_des_donnees_personnelles_dans_le_monde/opencnil_autorites_de_protection_vd_20231010_xlsx_2023_11_09_xlsx.csv is uploaded to cnil-392113.raw_data.opencnil_autorites_de_protection_vd_20231010_xlsx\u001b[0m\n",
      "---------------------\n",
      "controles_realises_par_la_cnil/open_data_controles_cnil_2022_v20231003_xlsx_2023_10_03_xlsx.csv\n",
      "open_data_controles_cnil_2022_v20231003_xlsx_2023_10_03_xlsx.csv\n",
      "2023-10-03\n",
      "xlsx\n",
      "open_data_controles_cnil_2022_v20231003_xlsx\n",
      "this is the table name:  cnil-392113.raw_data.open_data_controles_cnil_2022_v20231003_xlsx\n",
      "---------------------\n"
     ]
    },
    {
     "name": "stderr",
     "output_type": "stream",
     "text": [
      "1it [00:02,  2.50s/it]\n"
     ]
    },
    {
     "name": "stdout",
     "output_type": "stream",
     "text": [
      "\u001b[32mcontroles_realises_par_la_cnil/open_data_controles_cnil_2022_v20231003_xlsx_2023_10_03_xlsx.csv is uploaded to cnil-392113.raw_data.open_data_controles_cnil_2022_v20231003_xlsx\u001b[0m\n",
      "---------------------\n",
      "mises_en_demeure_prononcees_par_la_cnil/open_cnil_volumes_med_depuis_2014_maj_aout_2023_csv_2023_08_25_csv.csv\n",
      "open_cnil_volumes_med_depuis_2014_maj_aout_2023_csv_2023_08_25_csv.csv\n",
      "2023-08-25\n",
      "csv\n",
      "open_cnil_volumes_med_depuis_2014_maj_aout_2023_csv\n",
      "this is the table name:  cnil-392113.raw_data.open_cnil_volumes_med_depuis_2014_maj_aout_2023_csv\n",
      "---------------------\n"
     ]
    },
    {
     "name": "stderr",
     "output_type": "stream",
     "text": [
      "1it [00:03,  3.22s/it]\n"
     ]
    },
    {
     "name": "stdout",
     "output_type": "stream",
     "text": [
      "\u001b[32mmises_en_demeure_prononcees_par_la_cnil/open_cnil_volumes_med_depuis_2014_maj_aout_2023_csv_2023_08_25_csv.csv is uploaded to cnil-392113.raw_data.open_cnil_volumes_med_depuis_2014_maj_aout_2023_csv\u001b[0m\n",
      "---------------------\n",
      "mises_en_demeure_prononcees_par_la_cnil/open_cnil_volumes_med_depuis_2014_maj_aout_2023_xlsx_2023_08_25_xlsx.csv\n",
      "open_cnil_volumes_med_depuis_2014_maj_aout_2023_xlsx_2023_08_25_xlsx.csv\n",
      "2023-08-25\n",
      "xlsx\n",
      "open_cnil_volumes_med_depuis_2014_maj_aout_2023_xlsx\n",
      "this is the table name:  cnil-392113.raw_data.open_cnil_volumes_med_depuis_2014_maj_aout_2023_xlsx\n",
      "---------------------\n"
     ]
    },
    {
     "name": "stderr",
     "output_type": "stream",
     "text": [
      "1it [00:02,  2.21s/it]\n"
     ]
    },
    {
     "name": "stdout",
     "output_type": "stream",
     "text": [
      "\u001b[32mmises_en_demeure_prononcees_par_la_cnil/open_cnil_volumes_med_depuis_2014_maj_aout_2023_xlsx_2023_08_25_xlsx.csv is uploaded to cnil-392113.raw_data.open_cnil_volumes_med_depuis_2014_maj_aout_2023_xlsx\u001b[0m\n",
      "---------------------\n",
      "exercice_des_droits_indirect_donnees_generales/opencnil_volumes_dai_edi_depuis_1984_maj_juin_2023_csv_2023_06_28_csv.csv\n",
      "opencnil_volumes_dai_edi_depuis_1984_maj_juin_2023_csv_2023_06_28_csv.csv\n",
      "2023-06-28\n",
      "csv\n",
      "opencnil_volumes_dai_edi_depuis_1984_maj_juin_2023_csv\n",
      "this is the table name:  cnil-392113.raw_data.opencnil_volumes_dai_edi_depuis_1984_maj_juin_2023_csv\n",
      "---------------------\n"
     ]
    },
    {
     "name": "stderr",
     "output_type": "stream",
     "text": [
      "1it [00:02,  2.99s/it]\n"
     ]
    },
    {
     "name": "stdout",
     "output_type": "stream",
     "text": [
      "\u001b[32mexercice_des_droits_indirect_donnees_generales/opencnil_volumes_dai_edi_depuis_1984_maj_juin_2023_csv_2023_06_28_csv.csv is uploaded to cnil-392113.raw_data.opencnil_volumes_dai_edi_depuis_1984_maj_juin_2023_csv\u001b[0m\n",
      "---------------------\n",
      "exercice_des_droits_indirect_donnees_generales/opencnil_volumes_dai_edi_depuis_1984_maj_juin_2023_xlsx_2023_06_28_xlsx.csv\n",
      "opencnil_volumes_dai_edi_depuis_1984_maj_juin_2023_xlsx_2023_06_28_xlsx.csv\n",
      "2023-06-28\n",
      "xlsx\n",
      "opencnil_volumes_dai_edi_depuis_1984_maj_juin_2023_xlsx\n",
      "this is the table name:  cnil-392113.raw_data.opencnil_volumes_dai_edi_depuis_1984_maj_juin_2023_xlsx\n",
      "---------------------\n"
     ]
    },
    {
     "name": "stderr",
     "output_type": "stream",
     "text": [
      "1it [00:04,  4.42s/it]\n"
     ]
    },
    {
     "name": "stdout",
     "output_type": "stream",
     "text": [
      "\u001b[32mexercice_des_droits_indirect_donnees_generales/opencnil_volumes_dai_edi_depuis_1984_maj_juin_2023_xlsx_2023_06_28_xlsx.csv is uploaded to cnil-392113.raw_data.opencnil_volumes_dai_edi_depuis_1984_maj_juin_2023_xlsx\u001b[0m\n",
      "---------------------\n",
      "effectifs_de_la_cnil/opencnil_effectifs_depuis_1980_maj_juin_2023_xlsx_2023_06_28_xlsx.csv\n",
      "opencnil_effectifs_depuis_1980_maj_juin_2023_xlsx_2023_06_28_xlsx.csv\n",
      "2023-06-28\n",
      "xlsx\n",
      "opencnil_effectifs_depuis_1980_maj_juin_2023_xlsx\n",
      "this is the table name:  cnil-392113.raw_data.opencnil_effectifs_depuis_1980_maj_juin_2023_xlsx\n",
      "---------------------\n"
     ]
    },
    {
     "name": "stderr",
     "output_type": "stream",
     "text": [
      "1it [00:05,  5.96s/it]\n"
     ]
    },
    {
     "name": "stdout",
     "output_type": "stream",
     "text": [
      "\u001b[32meffectifs_de_la_cnil/opencnil_effectifs_depuis_1980_maj_juin_2023_xlsx_2023_06_28_xlsx.csv is uploaded to cnil-392113.raw_data.opencnil_effectifs_depuis_1980_maj_juin_2023_xlsx\u001b[0m\n",
      "---------------------\n",
      "effectifs_de_la_cnil/opencnil_effectifs_depuis_1980_maj_juin_2023_csv_2023_06_28_csv.csv\n",
      "opencnil_effectifs_depuis_1980_maj_juin_2023_csv_2023_06_28_csv.csv\n",
      "2023-06-28\n",
      "csv\n",
      "opencnil_effectifs_depuis_1980_maj_juin_2023_csv\n",
      "this is the table name:  cnil-392113.raw_data.opencnil_effectifs_depuis_1980_maj_juin_2023_csv\n",
      "---------------------\n"
     ]
    },
    {
     "name": "stderr",
     "output_type": "stream",
     "text": [
      "1it [00:02,  2.86s/it]\n"
     ]
    },
    {
     "name": "stdout",
     "output_type": "stream",
     "text": [
      "\u001b[32meffectifs_de_la_cnil/opencnil_effectifs_depuis_1980_maj_juin_2023_csv_2023_06_28_csv.csv is uploaded to cnil-392113.raw_data.opencnil_effectifs_depuis_1980_maj_juin_2023_csv\u001b[0m\n",
      "---------------------\n",
      "plaintes_recues_par_la_cnil/opencnil_volumes_plaintes_depuis_1981_maj_juin_2023_xlsx_2023_06_28_xlsx.csv\n",
      "opencnil_volumes_plaintes_depuis_1981_maj_juin_2023_xlsx_2023_06_28_xlsx.csv\n",
      "2023-06-28\n",
      "xlsx\n",
      "opencnil_volumes_plaintes_depuis_1981_maj_juin_2023_xlsx\n",
      "this is the table name:  cnil-392113.raw_data.opencnil_volumes_plaintes_depuis_1981_maj_juin_2023_xlsx\n",
      "---------------------\n"
     ]
    },
    {
     "name": "stderr",
     "output_type": "stream",
     "text": [
      "1it [00:02,  2.73s/it]\n"
     ]
    },
    {
     "name": "stdout",
     "output_type": "stream",
     "text": [
      "\u001b[32mplaintes_recues_par_la_cnil/opencnil_volumes_plaintes_depuis_1981_maj_juin_2023_xlsx_2023_06_28_xlsx.csv is uploaded to cnil-392113.raw_data.opencnil_volumes_plaintes_depuis_1981_maj_juin_2023_xlsx\u001b[0m\n",
      "---------------------\n",
      "plaintes_recues_par_la_cnil/opencnil_volumes_plaintes_depuis_1981_maj_juin_2023_csv_2023_06_28_csv.csv\n",
      "opencnil_volumes_plaintes_depuis_1981_maj_juin_2023_csv_2023_06_28_csv.csv\n",
      "2023-06-28\n",
      "csv\n",
      "opencnil_volumes_plaintes_depuis_1981_maj_juin_2023_csv\n",
      "this is the table name:  cnil-392113.raw_data.opencnil_volumes_plaintes_depuis_1981_maj_juin_2023_csv\n",
      "---------------------\n"
     ]
    },
    {
     "name": "stderr",
     "output_type": "stream",
     "text": [
      "1it [00:02,  2.81s/it]\n"
     ]
    },
    {
     "name": "stdout",
     "output_type": "stream",
     "text": [
      "\u001b[32mplaintes_recues_par_la_cnil/opencnil_volumes_plaintes_depuis_1981_maj_juin_2023_csv_2023_06_28_csv.csv is uploaded to cnil-392113.raw_data.opencnil_volumes_plaintes_depuis_1981_maj_juin_2023_csv\u001b[0m\n",
      "---------------------\n",
      "controles_realises_par_la_cnil/opencnil_nombre_controles_depuis_1990_maj_juin_2023_csv_2023_06_28_csv.csv\n",
      "opencnil_nombre_controles_depuis_1990_maj_juin_2023_csv_2023_06_28_csv.csv\n",
      "2023-06-28\n",
      "csv\n",
      "opencnil_nombre_controles_depuis_1990_maj_juin_2023_csv\n",
      "this is the table name:  cnil-392113.raw_data.opencnil_nombre_controles_depuis_1990_maj_juin_2023_csv\n",
      "---------------------\n"
     ]
    },
    {
     "name": "stderr",
     "output_type": "stream",
     "text": [
      "1it [00:03,  3.78s/it]\n"
     ]
    },
    {
     "name": "stdout",
     "output_type": "stream",
     "text": [
      "\u001b[32mcontroles_realises_par_la_cnil/opencnil_nombre_controles_depuis_1990_maj_juin_2023_csv_2023_06_28_csv.csv is uploaded to cnil-392113.raw_data.opencnil_nombre_controles_depuis_1990_maj_juin_2023_csv\u001b[0m\n",
      "---------------------\n",
      "controles_realises_par_la_cnil/opencnil_nombre_controles_depuis_1990_maj_juin_2023_xlsx_2023_06_28_xlsx.csv\n",
      "opencnil_nombre_controles_depuis_1990_maj_juin_2023_xlsx_2023_06_28_xlsx.csv\n",
      "2023-06-28\n",
      "xlsx\n",
      "opencnil_nombre_controles_depuis_1990_maj_juin_2023_xlsx\n",
      "this is the table name:  cnil-392113.raw_data.opencnil_nombre_controles_depuis_1990_maj_juin_2023_xlsx\n",
      "---------------------\n"
     ]
    },
    {
     "name": "stderr",
     "output_type": "stream",
     "text": [
      "1it [00:02,  2.70s/it]\n"
     ]
    },
    {
     "name": "stdout",
     "output_type": "stream",
     "text": [
      "\u001b[32mcontroles_realises_par_la_cnil/opencnil_nombre_controles_depuis_1990_maj_juin_2023_xlsx_2023_06_28_xlsx.csv is uploaded to cnil-392113.raw_data.opencnil_nombre_controles_depuis_1990_maj_juin_2023_xlsx\u001b[0m\n",
      "---------------------\n",
      "controles_realises_par_la_cnil/open_data_controles_2021_v20220921_xlsx_2022_10_25_xlsx.csv\n",
      "open_data_controles_2021_v20220921_xlsx_2022_10_25_xlsx.csv\n",
      "2022-10-25\n",
      "xlsx\n",
      "open_data_controles_2021_v20220921_xlsx\n",
      "this is the table name:  cnil-392113.raw_data.open_data_controles_2021_v20220921_xlsx\n",
      "---------------------\n"
     ]
    },
    {
     "name": "stderr",
     "output_type": "stream",
     "text": [
      "1it [00:02,  2.40s/it]\n"
     ]
    },
    {
     "name": "stdout",
     "output_type": "stream",
     "text": [
      "\u001b[32mcontroles_realises_par_la_cnil/open_data_controles_2021_v20220921_xlsx_2022_10_25_xlsx.csv is uploaded to cnil-392113.raw_data.open_data_controles_2021_v20220921_xlsx\u001b[0m\n",
      "---------------------\n",
      "controles_realises_par_la_cnil/open_data_controles_2020_vd_20210603_csv_2021_06_03_csv.csv\n",
      "open_data_controles_2020_vd_20210603_csv_2021_06_03_csv.csv\n",
      "2021-06-03\n",
      "csv\n",
      "open_data_controles_2020_vd_20210603_csv\n",
      "this is the table name:  cnil-392113.raw_data.open_data_controles_2020_vd_20210603_csv\n",
      "---------------------\n"
     ]
    },
    {
     "name": "stderr",
     "output_type": "stream",
     "text": [
      "1it [00:02,  2.69s/it]\n"
     ]
    },
    {
     "name": "stdout",
     "output_type": "stream",
     "text": [
      "\u001b[32mcontroles_realises_par_la_cnil/open_data_controles_2020_vd_20210603_csv_2021_06_03_csv.csv is uploaded to cnil-392113.raw_data.open_data_controles_2020_vd_20210603_csv\u001b[0m\n",
      "---------------------\n",
      "controles_realises_par_la_cnil/open_data_controles_2020_vd_20210603_xlsx_2021_06_03_xlsx.csv\n",
      "open_data_controles_2020_vd_20210603_xlsx_2021_06_03_xlsx.csv\n",
      "2021-06-03\n",
      "xlsx\n",
      "open_data_controles_2020_vd_20210603_xlsx\n",
      "this is the table name:  cnil-392113.raw_data.open_data_controles_2020_vd_20210603_xlsx\n",
      "---------------------\n"
     ]
    },
    {
     "name": "stderr",
     "output_type": "stream",
     "text": [
      "1it [00:04,  4.86s/it]\n"
     ]
    },
    {
     "name": "stdout",
     "output_type": "stream",
     "text": [
      "\u001b[32mcontroles_realises_par_la_cnil/open_data_controles_2020_vd_20210603_xlsx_2021_06_03_xlsx.csv is uploaded to cnil-392113.raw_data.open_data_controles_2020_vd_20210603_xlsx\u001b[0m\n",
      "---------------------\n",
      "marches_publics_de_la_cnil/opencnil_marches_publics_2014_2020_xlsx_2021_06_02_xlsx.csv\n",
      "opencnil_marches_publics_2014_2020_xlsx_2021_06_02_xlsx.csv\n",
      "2021-06-02\n",
      "xlsx\n",
      "opencnil_marches_publics_2014_2020_xlsx\n",
      "this is the table name:  cnil-392113.raw_data.opencnil_marches_publics_2014_2020_xlsx\n",
      "---------------------\n"
     ]
    },
    {
     "name": "stderr",
     "output_type": "stream",
     "text": [
      "1it [00:03,  3.41s/it]\n"
     ]
    },
    {
     "name": "stdout",
     "output_type": "stream",
     "text": [
      "\u001b[32mmarches_publics_de_la_cnil/opencnil_marches_publics_2014_2020_xlsx_2021_06_02_xlsx.csv is uploaded to cnil-392113.raw_data.opencnil_marches_publics_2014_2020_xlsx\u001b[0m\n",
      "---------------------\n",
      "controles_realises_par_la_cnil/opencnil_liste_controles_2019_xlsx_2020_11_13_xlsx.csv\n",
      "opencnil_liste_controles_2019_xlsx_2020_11_13_xlsx.csv\n",
      "2020-11-13\n",
      "xlsx\n",
      "opencnil_liste_controles_2019_xlsx\n",
      "this is the table name:  cnil-392113.raw_data.opencnil_liste_controles_2019_xlsx\n",
      "---------------------\n"
     ]
    },
    {
     "name": "stderr",
     "output_type": "stream",
     "text": [
      "1it [00:05,  5.74s/it]\n"
     ]
    },
    {
     "name": "stdout",
     "output_type": "stream",
     "text": [
      "\u001b[32mcontroles_realises_par_la_cnil/opencnil_liste_controles_2019_xlsx_2020_11_13_xlsx.csv is uploaded to cnil-392113.raw_data.opencnil_liste_controles_2019_xlsx\u001b[0m\n",
      "---------------------\n",
      "controles_realises_par_la_cnil/opencnil_liste_controles_2019_csv_2020_07_03_csv.csv\n",
      "opencnil_liste_controles_2019_csv_2020_07_03_csv.csv\n",
      "2020-07-03\n",
      "csv\n",
      "opencnil_liste_controles_2019_csv\n",
      "this is the table name:  cnil-392113.raw_data.opencnil_liste_controles_2019_csv\n",
      "---------------------\n"
     ]
    },
    {
     "name": "stderr",
     "output_type": "stream",
     "text": [
      "1it [00:02,  2.82s/it]\n"
     ]
    },
    {
     "name": "stdout",
     "output_type": "stream",
     "text": [
      "\u001b[32mcontroles_realises_par_la_cnil/opencnil_liste_controles_2019_csv_2020_07_03_csv.csv is uploaded to cnil-392113.raw_data.opencnil_liste_controles_2019_csv\u001b[0m\n",
      "---------------------\n",
      "controles_realises_par_la_cnil/opencnil_liste_controles_2018_csv_2019_05_16_csv.csv\n",
      "opencnil_liste_controles_2018_csv_2019_05_16_csv.csv\n",
      "2019-05-16\n",
      "csv\n",
      "opencnil_liste_controles_2018_csv\n",
      "this is the table name:  cnil-392113.raw_data.opencnil_liste_controles_2018_csv\n",
      "---------------------\n"
     ]
    },
    {
     "name": "stderr",
     "output_type": "stream",
     "text": [
      "1it [00:02,  2.79s/it]\n"
     ]
    },
    {
     "name": "stdout",
     "output_type": "stream",
     "text": [
      "\u001b[32mcontroles_realises_par_la_cnil/opencnil_liste_controles_2018_csv_2019_05_16_csv.csv is uploaded to cnil-392113.raw_data.opencnil_liste_controles_2018_csv\u001b[0m\n",
      "---------------------\n",
      "controles_realises_par_la_cnil/opencnil_liste_controles_2018_xlsx_2019_05_16_xlsx.csv\n",
      "opencnil_liste_controles_2018_xlsx_2019_05_16_xlsx.csv\n",
      "2019-05-16\n",
      "xlsx\n",
      "opencnil_liste_controles_2018_xlsx\n",
      "this is the table name:  cnil-392113.raw_data.opencnil_liste_controles_2018_xlsx\n",
      "---------------------\n"
     ]
    },
    {
     "name": "stderr",
     "output_type": "stream",
     "text": [
      "1it [00:03,  3.62s/it]\n"
     ]
    },
    {
     "name": "stdout",
     "output_type": "stream",
     "text": [
      "\u001b[32mcontroles_realises_par_la_cnil/opencnil_liste_controles_2018_xlsx_2019_05_16_xlsx.csv is uploaded to cnil-392113.raw_data.opencnil_liste_controles_2018_xlsx\u001b[0m\n",
      "---------------------\n",
      "sanctions_prononcees_par_la_cnil/open_cnil_ventilation_sanctions_depuis_2014_vd_csv_2019_05_14_csv.csv\n",
      "open_cnil_ventilation_sanctions_depuis_2014_vd_csv_2019_05_14_csv.csv\n",
      "2019-05-14\n",
      "csv\n",
      "open_cnil_ventilation_sanctions_depuis_2014_vd_csv\n",
      "this is the table name:  cnil-392113.raw_data.open_cnil_ventilation_sanctions_depuis_2014_vd_csv\n",
      "---------------------\n"
     ]
    },
    {
     "name": "stderr",
     "output_type": "stream",
     "text": [
      "1it [00:05,  5.64s/it]\n"
     ]
    },
    {
     "name": "stdout",
     "output_type": "stream",
     "text": [
      "\u001b[32msanctions_prononcees_par_la_cnil/open_cnil_ventilation_sanctions_depuis_2014_vd_csv_2019_05_14_csv.csv is uploaded to cnil-392113.raw_data.open_cnil_ventilation_sanctions_depuis_2014_vd_csv\u001b[0m\n",
      "---------------------\n",
      "sanctions_prononcees_par_la_cnil/open_cnil_ventilation_sanctions_depuis_2014_vd_xlsx_2019_05_14_xlsx.csv\n",
      "open_cnil_ventilation_sanctions_depuis_2014_vd_xlsx_2019_05_14_xlsx.csv\n",
      "2019-05-14\n",
      "xlsx\n",
      "open_cnil_ventilation_sanctions_depuis_2014_vd_xlsx\n",
      "this is the table name:  cnil-392113.raw_data.open_cnil_ventilation_sanctions_depuis_2014_vd_xlsx\n",
      "---------------------\n"
     ]
    },
    {
     "name": "stderr",
     "output_type": "stream",
     "text": [
      "1it [00:03,  3.59s/it]\n"
     ]
    },
    {
     "name": "stdout",
     "output_type": "stream",
     "text": [
      "\u001b[32msanctions_prononcees_par_la_cnil/open_cnil_ventilation_sanctions_depuis_2014_vd_xlsx_2019_05_14_xlsx.csv is uploaded to cnil-392113.raw_data.open_cnil_ventilation_sanctions_depuis_2014_vd_xlsx\u001b[0m\n",
      "---------------------\n",
      "droit_dacces_indirect_taj_stic_judex/opencnil_dai_stic_judex_taj_maj_janvier_2019_xlsx_2019_05_13_xlsx.csv\n",
      "opencnil_dai_stic_judex_taj_maj_janvier_2019_xlsx_2019_05_13_xlsx.csv\n",
      "2019-05-13\n",
      "xlsx\n",
      "opencnil_dai_stic_judex_taj_maj_janvier_2019_xlsx\n",
      "this is the table name:  cnil-392113.raw_data.opencnil_dai_stic_judex_taj_maj_janvier_2019_xlsx\n",
      "---------------------\n"
     ]
    },
    {
     "name": "stderr",
     "output_type": "stream",
     "text": [
      "1it [00:03,  3.63s/it]\n"
     ]
    },
    {
     "name": "stdout",
     "output_type": "stream",
     "text": [
      "\u001b[32mdroit_dacces_indirect_taj_stic_judex/opencnil_dai_stic_judex_taj_maj_janvier_2019_xlsx_2019_05_13_xlsx.csv is uploaded to cnil-392113.raw_data.opencnil_dai_stic_judex_taj_maj_janvier_2019_xlsx\u001b[0m\n",
      "---------------------\n",
      "controles_realises_par_la_cnil/Liste_des_contrôles_réalisés_par_la_CNIL_en_2017_2018_06_20_csv.csv\n",
      "Liste_des_contrôles_réalisés_par_la_CNIL_en_2017_2018_06_20_csv.csv\n",
      "2018-06-20\n",
      "csv\n",
      "liste_des_controles_realises_par_la_cnil_en_2017\n",
      "this is the table name:  cnil-392113.raw_data.liste_des_controles_realises_par_la_cnil_en_2017\n",
      "---------------------\n"
     ]
    },
    {
     "name": "stderr",
     "output_type": "stream",
     "text": [
      "1it [00:03,  3.46s/it]\n"
     ]
    },
    {
     "name": "stdout",
     "output_type": "stream",
     "text": [
      "\u001b[32mcontroles_realises_par_la_cnil/Liste_des_contrôles_réalisés_par_la_CNIL_en_2017_2018_06_20_csv.csv is uploaded to cnil-392113.raw_data.liste_des_controles_realises_par_la_cnil_en_2017\u001b[0m\n",
      "---------------------\n",
      "controles_realises_par_la_cnil/Liste_des_contrôles_réalisés_par_la_CNIL_en_2017_2018_06_20_xlsx.csv\n",
      "Liste_des_contrôles_réalisés_par_la_CNIL_en_2017_2018_06_20_xlsx.csv\n",
      "2018-06-20\n",
      "xlsx\n",
      "liste_des_controles_realises_par_la_cnil_en_2017\n",
      "this is the table name:  cnil-392113.raw_data.liste_des_controles_realises_par_la_cnil_en_2017\n",
      "---------------------\n"
     ]
    },
    {
     "name": "stderr",
     "output_type": "stream",
     "text": [
      "1it [00:02,  2.47s/it]\n"
     ]
    },
    {
     "name": "stdout",
     "output_type": "stream",
     "text": [
      "\u001b[32mcontroles_realises_par_la_cnil/Liste_des_contrôles_réalisés_par_la_CNIL_en_2017_2018_06_20_xlsx.csv is uploaded to cnil-392113.raw_data.liste_des_controles_realises_par_la_cnil_en_2017\u001b[0m\n",
      "---------------------\n",
      "correspondants_informatique_et_libertes_cil/Organismes_avec_CIL_xlsx_2018_05_24_xlsx.csv\n",
      "Organismes_avec_CIL_xlsx_2018_05_24_xlsx.csv\n",
      "2018-05-24\n",
      "xlsx\n",
      "organismes_avec_cil_xlsx\n",
      "this is the table name:  cnil-392113.raw_data.organismes_avec_cil_xlsx\n",
      "---------------------\n"
     ]
    },
    {
     "name": "stderr",
     "output_type": "stream",
     "text": [
      "1it [00:03,  3.13s/it]\n"
     ]
    },
    {
     "name": "stdout",
     "output_type": "stream",
     "text": [
      "\u001b[32mcorrespondants_informatique_et_libertes_cil/Organismes_avec_CIL_xlsx_2018_05_24_xlsx.csv is uploaded to cnil-392113.raw_data.organismes_avec_cil_xlsx\u001b[0m\n",
      "---------------------\n",
      "correspondants_informatique_et_libertes_cil/Organismes_avec_CIL_csv_2018_05_24_csv.csv\n",
      "Organismes_avec_CIL_csv_2018_05_24_csv.csv\n",
      "2018-05-24\n",
      "csv\n",
      "organismes_avec_cil_csv\n",
      "this is the table name:  cnil-392113.raw_data.organismes_avec_cil_csv\n",
      "---------------------\n"
     ]
    },
    {
     "name": "stderr",
     "output_type": "stream",
     "text": [
      "1it [00:06,  6.76s/it]\n"
     ]
    },
    {
     "name": "stdout",
     "output_type": "stream",
     "text": [
      "\u001b[32mcorrespondants_informatique_et_libertes_cil/Organismes_avec_CIL_csv_2018_05_24_csv.csv is uploaded to cnil-392113.raw_data.organismes_avec_cil_csv\u001b[0m\n",
      "---------------------\n",
      "controles_realises_par_la_cnil/Liste_des_contrôles_réalisés_par_la_CNIL_en_2016_2017_03_30_csv.csv\n",
      "Liste_des_contrôles_réalisés_par_la_CNIL_en_2016_2017_03_30_csv.csv\n",
      "2017-03-30\n",
      "csv\n",
      "liste_des_controles_realises_par_la_cnil_en_2016\n",
      "this is the table name:  cnil-392113.raw_data.liste_des_controles_realises_par_la_cnil_en_2016\n",
      "---------------------\n"
     ]
    },
    {
     "name": "stderr",
     "output_type": "stream",
     "text": [
      "1it [00:02,  2.66s/it]\n"
     ]
    },
    {
     "name": "stdout",
     "output_type": "stream",
     "text": [
      "\u001b[32mcontroles_realises_par_la_cnil/Liste_des_contrôles_réalisés_par_la_CNIL_en_2016_2017_03_30_csv.csv is uploaded to cnil-392113.raw_data.liste_des_controles_realises_par_la_cnil_en_2016\u001b[0m\n",
      "---------------------\n",
      "controles_realises_par_la_cnil/Liste_des_contrôles_réalisés_par_la_CNIL_en_2016_2017_03_30_xlsx.csv\n",
      "Liste_des_contrôles_réalisés_par_la_CNIL_en_2016_2017_03_30_xlsx.csv\n",
      "2017-03-30\n",
      "xlsx\n",
      "liste_des_controles_realises_par_la_cnil_en_2016\n",
      "this is the table name:  cnil-392113.raw_data.liste_des_controles_realises_par_la_cnil_en_2016\n",
      "---------------------\n"
     ]
    },
    {
     "name": "stderr",
     "output_type": "stream",
     "text": [
      "1it [00:02,  2.95s/it]\n"
     ]
    },
    {
     "name": "stdout",
     "output_type": "stream",
     "text": [
      "\u001b[32mcontroles_realises_par_la_cnil/Liste_des_contrôles_réalisés_par_la_CNIL_en_2016_2017_03_30_xlsx.csv is uploaded to cnil-392113.raw_data.liste_des_controles_realises_par_la_cnil_en_2016\u001b[0m\n",
      "---------------------\n",
      "controles_realises_par_la_cnil/Liste_des_contrôles_réalisés_par_la_CNIL_en_2015_2016_05_03_csv.csv\n",
      "Liste_des_contrôles_réalisés_par_la_CNIL_en_2015_2016_05_03_csv.csv\n",
      "2016-05-03\n",
      "csv\n",
      "liste_des_controles_realises_par_la_cnil_en_2015\n",
      "this is the table name:  cnil-392113.raw_data.liste_des_controles_realises_par_la_cnil_en_2015\n",
      "---------------------\n"
     ]
    },
    {
     "name": "stderr",
     "output_type": "stream",
     "text": [
      "1it [00:02,  2.71s/it]\n"
     ]
    },
    {
     "name": "stdout",
     "output_type": "stream",
     "text": [
      "\u001b[32mcontroles_realises_par_la_cnil/Liste_des_contrôles_réalisés_par_la_CNIL_en_2015_2016_05_03_csv.csv is uploaded to cnil-392113.raw_data.liste_des_controles_realises_par_la_cnil_en_2015\u001b[0m\n",
      "---------------------\n",
      "controles_realises_par_la_cnil/Liste_des_contrôles_réalisés_par_la_CNIL_en_2015_2016_05_03_xlsx.csv\n",
      "Liste_des_contrôles_réalisés_par_la_CNIL_en_2015_2016_05_03_xlsx.csv\n",
      "2016-05-03\n",
      "xlsx\n",
      "liste_des_controles_realises_par_la_cnil_en_2015\n",
      "this is the table name:  cnil-392113.raw_data.liste_des_controles_realises_par_la_cnil_en_2015\n",
      "---------------------\n"
     ]
    },
    {
     "name": "stderr",
     "output_type": "stream",
     "text": [
      "1it [00:03,  3.42s/it]\n"
     ]
    },
    {
     "name": "stdout",
     "output_type": "stream",
     "text": [
      "\u001b[32mcontroles_realises_par_la_cnil/Liste_des_contrôles_réalisés_par_la_CNIL_en_2015_2016_05_03_xlsx.csv is uploaded to cnil-392113.raw_data.liste_des_controles_realises_par_la_cnil_en_2015\u001b[0m\n",
      "---------------------\n",
      "controles_realises_par_la_cnil/Liste_des_contrôles_réalisés_par_la_CNIL_en_2014_2015_06_15_xlsx.csv\n",
      "Liste_des_contrôles_réalisés_par_la_CNIL_en_2014_2015_06_15_xlsx.csv\n",
      "2015-06-15\n",
      "xlsx\n",
      "liste_des_controles_realises_par_la_cnil_en_2014\n",
      "this is the table name:  cnil-392113.raw_data.liste_des_controles_realises_par_la_cnil_en_2014\n",
      "---------------------\n"
     ]
    },
    {
     "name": "stderr",
     "output_type": "stream",
     "text": [
      "1it [00:02,  2.59s/it]"
     ]
    },
    {
     "name": "stdout",
     "output_type": "stream",
     "text": [
      "\u001b[32mcontroles_realises_par_la_cnil/Liste_des_contrôles_réalisés_par_la_CNIL_en_2014_2015_06_15_xlsx.csv is uploaded to cnil-392113.raw_data.liste_des_controles_realises_par_la_cnil_en_2014\u001b[0m\n"
     ]
    },
    {
     "name": "stderr",
     "output_type": "stream",
     "text": [
      "\n"
     ]
    }
   ],
   "source": [
    "from classes.gcs_to_gcp import FromGCStoGBQ\n",
    "\n",
    "# usage exemple\n",
    "credentials_path = 'cred/service_account_local_py.json'\n",
    "project_id = 'cnil-392113'\n",
    "dataset_name = 'raw_data'\n",
    "\n",
    "processor_bq = FromGCStoGBQ(credentials_path, project_id, dataset_name)\n",
    "processor_bq.create_dataset()\n",
    "processor_bq.upload_zipio_to_bq(zip_file)"
   ]
  },
  {
   "cell_type": "markdown",
   "metadata": {},
   "source": [
    "# Building catalog from prep_data"
   ]
  },
  {
   "cell_type": "code",
   "execution_count": 1,
   "metadata": {},
   "outputs": [
    {
     "ename": "ImportError",
     "evalue": "cannot import name 'ZipFileProcessor' from 'classes.prep_data' (/Users/benjamindupaquier/Documents/projets_persos/Pipeline/classes/prep_data.py)",
     "output_type": "error",
     "traceback": [
      "\u001b[0;31m---------------------------------------------------------------------------\u001b[0m",
      "\u001b[0;31mImportError\u001b[0m                               Traceback (most recent call last)",
      "Cell \u001b[0;32mIn[1], line 1\u001b[0m\n\u001b[0;32m----> 1\u001b[0m \u001b[38;5;28;01mfrom\u001b[39;00m \u001b[38;5;21;01mclasses\u001b[39;00m\u001b[38;5;21;01m.\u001b[39;00m\u001b[38;5;21;01mprep_data\u001b[39;00m \u001b[38;5;28;01mimport\u001b[39;00m ZipFileProcessor\n\u001b[1;32m      3\u001b[0m gcs_bucket_name \u001b[38;5;241m=\u001b[39m \u001b[38;5;124m'\u001b[39m\u001b[38;5;124mcnil_csv\u001b[39m\u001b[38;5;124m'\u001b[39m\n\u001b[1;32m      4\u001b[0m credential_path \u001b[38;5;241m=\u001b[39m \u001b[38;5;124m'\u001b[39m\u001b[38;5;124mcred/service_account_local_py.json\u001b[39m\u001b[38;5;124m'\u001b[39m\n",
      "\u001b[0;31mImportError\u001b[0m: cannot import name 'ZipFileProcessor' from 'classes.prep_data' (/Users/benjamindupaquier/Documents/projets_persos/Pipeline/classes/prep_data.py)"
     ]
    }
   ],
   "source": [
    "from classes.prep_data import ZipFileProcessor\n",
    "\n",
    "gcs_bucket_name = 'cnil_csv'\n",
    "credential_path = 'cred/service_account_local_py.json'\n",
    "zip_blob_name = '2024-02-17/prep/prep_datasets.zip'\n",
    "output_folder_name = '2024-02-17/'+ 'prep'\n",
    "instance4 = ZipFileProcessor(gcs_bucket_name, credential_path, zip_blob_name, output_folder_name)\n",
    "zip_file = instance4.get_zip_file_object()"
   ]
  },
  {
   "cell_type": "code",
   "execution_count": null,
   "metadata": {},
   "outputs": [],
   "source": [
    "from classes.source_catalog import CustomCatalog\n",
    "import io\n",
    "\n",
    "instance8 = CustomCatalog('cred/service_account_local_py.json')\n",
    "df = instance8.create_catalog_gcs(zip_file)\n",
    "df"
   ]
  },
  {
   "cell_type": "code",
   "execution_count": null,
   "metadata": {},
   "outputs": [],
   "source": [
    "from classes.file_to_gcs import FromFileToGCS\n",
    "\n",
    "bucket_name = 'cnil_csv'\n",
    "cred_path = 'cred/service_account_local_py.json'\n",
    "init2 = FromFileToGCS(bucket_name, cred_path)\n",
    "init2.create_bucket()\n",
    "file_paths = [csv_output]\n",
    "dest_folder = 'prep'\n",
    "dest_blob = ['prepdata_cnil_catalog_2024-02-17.csv']\n",
    "init2.local_to_gcs(file_paths, dest_folder, dest_blob)"
   ]
  },
  {
   "cell_type": "markdown",
   "metadata": {},
   "source": [
    "# Building catalog from BQ raw_data"
   ]
  },
  {
   "cell_type": "code",
   "execution_count": 1,
   "metadata": {},
   "outputs": [
    {
     "name": "stdout",
     "output_type": "stream",
     "text": [
      "Getting BigQuery modified dates...\n",
      "Done.\n"
     ]
    }
   ],
   "source": [
    "from classes.source_catalog import CustomCatalog\n",
    "\n",
    "credential_path = 'cred/service_account_local_py.json'\n",
    "dataset_name = 'raw_data'\n",
    "project_id = 'cnil-392113'\n",
    "instance8 = CustomCatalog(credentials_path=credential_path, project_id=project_id, dataset_name=dataset_name)\n",
    "df = instance8.bq_raw_catalog()"
   ]
  },
  {
   "cell_type": "code",
   "execution_count": 3,
   "metadata": {},
   "outputs": [
    {
     "name": "stdout",
     "output_type": "stream",
     "text": [
      "\u001b[32mCreated dataset (or already exists) cnil-392113.catalog_data\u001b[0m\n"
     ]
    },
    {
     "name": "stderr",
     "output_type": "stream",
     "text": [
      "1it [00:03,  3.81s/it]"
     ]
    },
    {
     "name": "stdout",
     "output_type": "stream",
     "text": [
      "\u001b[32mDataFrame is uploaded to cnil-392113.catalog_data.cnil_catalog_bq\u001b[0m\n"
     ]
    },
    {
     "name": "stderr",
     "output_type": "stream",
     "text": [
      "\n"
     ]
    }
   ],
   "source": [
    "from classes.gcs_to_gcp import FromGCStoGBQ\n",
    "\n",
    "credentials_path = 'cred/service_account_local_py.json'\n",
    "project_id = 'cnil-392113'\n",
    "dataset_name = 'catalog_data'\n",
    "table_name = 'cnil_catalog_bq'\n",
    "\n",
    "processor_bq = FromGCStoGBQ(credentials_path, project_id, dataset_name)\n",
    "processor_bq.create_dataset()\n",
    "processor_bq.df_to_bq(df, table_name)"
   ]
  },
  {
   "cell_type": "code",
   "execution_count": null,
   "metadata": {},
   "outputs": [],
   "source": []
  }
 ],
 "metadata": {
  "kernelspec": {
   "display_name": "base",
   "language": "python",
   "name": "python3"
  },
  "language_info": {
   "codemirror_mode": {
    "name": "ipython",
    "version": 3
   },
   "file_extension": ".py",
   "mimetype": "text/x-python",
   "name": "python",
   "nbconvert_exporter": "python",
   "pygments_lexer": "ipython3",
   "version": "3.10.9"
  }
 },
 "nbformat": 4,
 "nbformat_minor": 2
}
