{
 "cells": [
  {
   "cell_type": "markdown",
   "metadata": {},
   "source": [
    "# Building a Catalog"
   ]
  },
  {
   "cell_type": "code",
   "execution_count": null,
   "metadata": {},
   "outputs": [],
   "source": [
    "from classes.source_catalog import GetCnilCatalog\n",
    "\n",
    "url = 'https://www.data.gouv.fr/api/1/organizations/534fff61a3a7292c64a77d59/catalog'\n",
    "headers = {'accept': 'application/json'}\n",
    "url_add = 'https://www.data.gouv.fr/fr/organizations/cnil/datasets.csv'\n",
    "instance1 = GetCnilCatalog(url, headers, url_add)\n",
    "data = instance1.fetch_data_from_api()\n",
    "data = data['@graph']\n",
    "table_name = 'title'\n",
    "download_url = 'downloadURL'\n",
    "table_id = 'identifier' \n",
    "file_format= 'format'\n",
    "last_update= 'modified' \n",
    "accessURL = '@id'\n",
    "df_catalog = instance1.response_to_dataframe(data=data, table_name=table_name, download_url=download_url, table_id=table_id, file_format=file_format, last_update=last_update, accessURL=accessURL)\n",
    "df_dataset = instance1.load_additional_info()\n",
    "df_catalog = instance1.identify_datasets_info()\n",
    "df_catalog = instance1.merge_additional_info()\n",
    "instance1.save_to_csv('source_cnil_catalog')"
   ]
  },
  {
   "cell_type": "markdown",
   "metadata": {},
   "source": [
    "# Uploading Files to GCS"
   ]
  },
  {
   "cell_type": "code",
   "execution_count": null,
   "metadata": {},
   "outputs": [],
   "source": [
    "from classes.file_to_gcs import FromFileToGCS\n",
    "import os\n",
    "\n",
    "bucket_name = 'cnil_csv'\n",
    "cred_path = 'cred/service_account_local_py.json'\n",
    "init2 = FromFileToGCS(bucket_name, cred_path)\n",
    "init2.create_bucket()\n",
    "file_paths = ['data/catalog/source_cnil_catalog_2024-02-10.csv']\n",
    "dest_folder = 'raw'\n",
    "dest_blob = ['source_cnil_catalog_2024-02-15.csv']\n",
    "init2.local_to_gcs(file_paths, dest_folder, dest_blob)"
   ]
  },
  {
   "cell_type": "code",
   "execution_count": null,
   "metadata": {},
   "outputs": [],
   "source": [
    "bucket_name = 'cnil_csv'\n",
    "cred_path = 'cred/service_account_local_py.json'\n",
    "init2 = FromFileToGCS(bucket_name, cred_path)\n",
    "init2.create_bucket()\n",
    "url = ['https://www.data.gouv.fr/fr/organizations/cnil/datasets.csv', 'https://www.data.gouv.fr/fr/datasets/r/0f678674-4327-4c4d-8819-b6f508b41d0e']\n",
    "dest_folder = 'raw'\n",
    "dest_blob = ['datasets.csv', 'plaintes.csv']\n",
    "init2.download_and_upload_from_URLs(url, dest_folder, dest_blob)"
   ]
  },
  {
   "cell_type": "markdown",
   "metadata": {},
   "source": [
    "# Downloading from Catalog"
   ]
  },
  {
   "cell_type": "code",
   "execution_count": null,
   "metadata": {},
   "outputs": [],
   "source": [
    "from classes.download_catalog_content import DlCatalogContent\n",
    "\n",
    "instance3 = DlCatalogContent('data/catalog/source_cnil_catalog_2024-02-15.csv')\n",
    "instance3.get_tables()\n",
    "instance3.zip_files()"
   ]
  },
  {
   "cell_type": "markdown",
   "metadata": {},
   "source": [
    "# Prep data to upload to BQ"
   ]
  },
  {
   "cell_type": "code",
   "execution_count": null,
   "metadata": {},
   "outputs": [],
   "source": [
    "from classes.file_to_gcs import FromFileToGCS\n",
    "import os\n",
    "\n",
    "bucket_name = 'cnil_csv'\n",
    "cred_path = 'cred/service_account_local_py.json'\n",
    "init2 = FromFileToGCS(bucket_name, cred_path)\n",
    "init2.create_bucket()\n",
    "file_paths = ['data/raw_datasets.zip']\n",
    "dest_folder = 'raw' \n",
    "init2.local_to_gcs(file_paths, dest_folder)"
   ]
  },
  {
   "cell_type": "code",
   "execution_count": null,
   "metadata": {},
   "outputs": [],
   "source": [
    "from classes.prep_data import ZipFileProcessor\n",
    "\n",
    "gcs_bucket_name = 'cnil_csv'\n",
    "credential_path = 'cred/service_account_local_py.json'\n",
    "zip_blob_name = '2024-02-15/raw/raw_datasets.zip'\n",
    "output_folder_name = '2024-02-15/'+ 'prep'\n",
    "instance4 = ZipFileProcessor(gcs_bucket_name, credential_path, zip_blob_name, output_folder_name)\n",
    "zip_file = instance4.get_zip_file_object()"
   ]
  },
  {
   "cell_type": "code",
   "execution_count": null,
   "metadata": {},
   "outputs": [],
   "source": [
    "import pandas as pd\n",
    "from classes.prep_data import PrepDataCnilBQ\n",
    "\n",
    "instance5 = PrepDataCnilBQ(zip_file)\n",
    "zip_output = instance5.process_zip_file(zip_file)"
   ]
  },
  {
   "cell_type": "code",
   "execution_count": null,
   "metadata": {},
   "outputs": [],
   "source": [
    "from classes.file_to_gcs import FromFileToGCS\n",
    "bucket_name = 'cnil_csv'\n",
    "cred_path = 'cred/service_account_local_py.json'\n",
    "init2 = FromFileToGCS(bucket_name, cred_path)\n",
    "init2.create_bucket()\n",
    "file_paths = [zip_output]\n",
    "dest_folder = 'prep'\n",
    "init2.local_to_gcs(file_paths, dest_folder)"
   ]
  },
  {
   "cell_type": "markdown",
   "metadata": {},
   "source": [
    "# GCS to GCP "
   ]
  },
  {
   "cell_type": "code",
   "execution_count": null,
   "metadata": {},
   "outputs": [],
   "source": [
    "from classes.prep_data import ZipFileProcessor\n",
    "\n",
    "gcs_bucket_name = 'cnil_csv'\n",
    "credential_path = 'cred/service_account_local_py.json'\n",
    "zip_blob_name = '2024-02-17/prep/prep_datasets.zip'\n",
    "output_folder_name = '2024-02-17/'+ 'prep'\n",
    "instance4 = ZipFileProcessor(gcs_bucket_name, credential_path, zip_blob_name, output_folder_name)\n",
    "zip_file = instance4.get_zip_file_object()"
   ]
  },
  {
   "cell_type": "code",
   "execution_count": null,
   "metadata": {},
   "outputs": [],
   "source": [
    "from classes.gcs_to_gcp import FromGCStoGBQ\n",
    "\n",
    "# usage exemple\n",
    "credentials_path = 'cred/service_account_local_py.json'\n",
    "project_id = 'cnil-392113'\n",
    "dataset_name = 'raw_data'\n",
    "\n",
    "processor_bq = FromGCStoGBQ(credentials_path, project_id, dataset_name)\n",
    "processor_bq.create_dataset()\n",
    "processor_bq.upload_zip_to_bq(zip_file)\n"
   ]
  },
  {
   "cell_type": "markdown",
   "metadata": {},
   "source": [
    "# Building catalog from prep_data"
   ]
  },
  {
   "cell_type": "code",
   "execution_count": null,
   "metadata": {},
   "outputs": [],
   "source": [
    "from classes.prep_data import ZipFileProcessor\n",
    "\n",
    "gcs_bucket_name = 'cnil_csv'\n",
    "credential_path = 'cred/service_account_local_py.json'\n",
    "zip_blob_name = '2024-02-17/prep/prep_datasets.zip'\n",
    "output_folder_name = '2024-02-17/'+ 'prep'\n",
    "instance4 = ZipFileProcessor(gcs_bucket_name, credential_path, zip_blob_name, output_folder_name)\n",
    "zip_file = instance4.get_zip_file_object()"
   ]
  },
  {
   "cell_type": "code",
   "execution_count": null,
   "metadata": {},
   "outputs": [],
   "source": [
    "from classes.source_catalog import CustomCatalog\n",
    "import io\n",
    "\n",
    "instance8 = CustomCatalog('cred/service_account_local_py.json')\n",
    "df = instance8.create_catalog_gcs(zip_file)\n",
    "df"
   ]
  },
  {
   "cell_type": "code",
   "execution_count": null,
   "metadata": {},
   "outputs": [],
   "source": [
    "import pandas as pd\n",
    "csv_output = io.BytesIO()\n",
    "df.to_csv(csv_output, index=False, sep=\";\")\n",
    "csv_output.seek(0)"
   ]
  },
  {
   "cell_type": "code",
   "execution_count": null,
   "metadata": {},
   "outputs": [],
   "source": [
    "from classes.file_to_gcs import FromFileToGCS\n",
    "\n",
    "bucket_name = 'cnil_csv'\n",
    "cred_path = 'cred/service_account_local_py.json'\n",
    "init2 = FromFileToGCS(bucket_name, cred_path)\n",
    "init2.create_bucket()\n",
    "file_paths = [csv_output]\n",
    "dest_folder = 'prep'\n",
    "dest_blob = ['prepdata_cnil_catalog_2024-02-17.csv']\n",
    "init2.local_to_gcs(file_paths, dest_folder, dest_blob)"
   ]
  },
  {
   "cell_type": "markdown",
   "metadata": {},
   "source": [
    "# Building catalog from BQ raw_data"
   ]
  },
  {
   "cell_type": "code",
   "execution_count": null,
   "metadata": {},
   "outputs": [],
   "source": [
    "from classes.source_catalog import CustomCatalog\n",
    "\n",
    "credential_path = 'cred/service_account_local_py.json'\n",
    "dataset_name = 'raw_data'\n",
    "project_id = 'cnil-392113'\n",
    "instance8 = CustomCatalog(credential_path, project_id, dataset_name)\n",
    "df = instance8.bq_raw_catalog()"
   ]
  },
  {
   "cell_type": "code",
   "execution_count": null,
   "metadata": {},
   "outputs": [],
   "source": [
    "from classes.gcs_to_gcp import FromGCStoGBQ\n",
    "\n",
    "credentials_path = 'cred/service_account_local_py.json'\n",
    "project_id = 'cnil-392113'\n",
    "dataset_name = 'catalog_data'\n",
    "table_name = 'cnil_catalog_bq'\n",
    "\n",
    "processor_bq = FromGCStoGBQ(credentials_path, project_id, dataset_name)\n",
    "processor_bq.create_dataset()\n",
    "processor_bq.df_to_bq(df, table_name)"
   ]
  }
 ],
 "metadata": {
  "kernelspec": {
   "display_name": "base",
   "language": "python",
   "name": "python3"
  },
  "language_info": {
   "codemirror_mode": {
    "name": "ipython",
    "version": 3
   },
   "file_extension": ".py",
   "mimetype": "text/x-python",
   "name": "python",
   "nbconvert_exporter": "python",
   "pygments_lexer": "ipython3",
   "version": "3.1.0"
  }
 },
 "nbformat": 4,
 "nbformat_minor": 2
}
