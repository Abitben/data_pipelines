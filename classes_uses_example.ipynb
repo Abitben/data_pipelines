{
 "cells": [
  {
   "cell_type": "markdown",
   "metadata": {},
   "source": [
    "# Building a Catalog"
   ]
  },
  {
   "cell_type": "code",
   "execution_count": 2,
   "metadata": {},
   "outputs": [
    {
     "name": "stdout",
     "output_type": "stream",
     "text": [
      "Request is a success: 200\n",
      "CSV file has been loaded to this path data/catalog/source_cnil_catalog_2024-02-10.csv\n"
     ]
    }
   ],
   "source": [
    "from classes.source_catalog import GetCnilCatalog\n",
    "\n",
    "url = 'https://www.data.gouv.fr/api/1/organizations/534fff61a3a7292c64a77d59/catalog'\n",
    "headers = {'accept': 'application/json'}\n",
    "url_add = 'https://www.data.gouv.fr/fr/organizations/cnil/datasets.csv'\n",
    "instance1 = GetCnilCatalog(url, headers, url_add)\n",
    "data = instance1.fetch_data_from_api()\n",
    "data = data['@graph']\n",
    "table_name = 'title'\n",
    "download_url = 'downloadURL'\n",
    "table_id = 'identifier' \n",
    "file_format= 'format'\n",
    "last_update= 'modified' \n",
    "accessURL = '@id'\n",
    "df_catalog = instance1.response_to_dataframe(data=data, table_name=table_name, download_url=download_url, table_id=table_id, file_format=file_format, last_update=last_update, accessURL=accessURL)\n",
    "df_dataset = instance1.load_additional_info()\n",
    "df_catalog = instance1.identify_datasets_info()\n",
    "df_catalog = instance1.merge_additional_info()\n",
    "instance1.save_to_csv('source_cnil_catalog')"
   ]
  },
  {
   "cell_type": "markdown",
   "metadata": {},
   "source": [
    "# Uploading CSV to GCS"
   ]
  },
  {
   "cell_type": "code",
   "execution_count": 2,
   "metadata": {},
   "outputs": [
    {
     "name": "stdout",
     "output_type": "stream",
     "text": [
      "Bucket already exists.\n",
      "\u001b[32mRaw file source_cnil_catalog_2024-02-10.csv uploaded to GCS successfully to 2024-02-10/raw/source_cnil_catalog_2024-02-10.csv.\u001b[0m\n",
      "\u001b[32mRaw file opencnil-violationsdcpnotifiees-20230930.csv uploaded to GCS successfully to 2024-02-10/raw/opencnil-violationsdcpnotifiees-20230930.csv.\u001b[0m\n"
     ]
    }
   ],
   "source": [
    "from classes.file_to_gcs import FromFileToGCS\n",
    "import os\n",
    "\n",
    "bucket_name = 'cnil_csv'\n",
    "cred_path = 'cred/service_account_local_py.json'\n",
    "init2 = FromFileToGCS(bucket_name, cred_path)\n",
    "init2.create_bucket()\n",
    "file_paths = ['data/catalog/source_cnil_catalog_2024-02-10.csv','data/catalog/opencnil-violationsdcpnotifiees-20230930.csv']\n",
    "dest_folder = 'raw'\n",
    "dest_blob = ['source_cnil_catalog_2024-02-10.csv', 'opencnil-violationsdcpnotifiees-20230930.csv']\n",
    "init2.local_to_gcs(file_paths, dest_folder, dest_blob)"
   ]
  },
  {
   "cell_type": "code",
   "execution_count": 2,
   "metadata": {},
   "outputs": [
    {
     "ename": "NameError",
     "evalue": "name 'FromFileToGCS' is not defined",
     "output_type": "error",
     "traceback": [
      "\u001b[0;31m---------------------------------------------------------------------------\u001b[0m",
      "\u001b[0;31mNameError\u001b[0m                                 Traceback (most recent call last)",
      "Cell \u001b[0;32mIn[2], line 3\u001b[0m\n\u001b[1;32m      1\u001b[0m bucket_name \u001b[38;5;241m=\u001b[39m \u001b[38;5;124m'\u001b[39m\u001b[38;5;124mcnil_csv\u001b[39m\u001b[38;5;124m'\u001b[39m\n\u001b[1;32m      2\u001b[0m cred_path \u001b[38;5;241m=\u001b[39m \u001b[38;5;124m'\u001b[39m\u001b[38;5;124mcred/service_account_local_py.json\u001b[39m\u001b[38;5;124m'\u001b[39m\n\u001b[0;32m----> 3\u001b[0m init2 \u001b[38;5;241m=\u001b[39m \u001b[43mFromFileToGCS\u001b[49m(bucket_name, cred_path)\n\u001b[1;32m      4\u001b[0m init2\u001b[38;5;241m.\u001b[39mcreate_bucket()\n\u001b[1;32m      5\u001b[0m url \u001b[38;5;241m=\u001b[39m [\u001b[38;5;124m'\u001b[39m\u001b[38;5;124mhttps://www.data.gouv.fr/fr/organizations/cnil/datasets.csv\u001b[39m\u001b[38;5;124m'\u001b[39m, \u001b[38;5;124m'\u001b[39m\u001b[38;5;124mhttps://www.data.gouv.fr/fr/datasets/r/0f678674-4327-4c4d-8819-b6f508b41d0e\u001b[39m\u001b[38;5;124m'\u001b[39m]\n",
      "\u001b[0;31mNameError\u001b[0m: name 'FromFileToGCS' is not defined"
     ]
    }
   ],
   "source": [
    "bucket_name = 'cnil_csv'\n",
    "cred_path = 'cred/service_account_local_py.json'\n",
    "init2 = FromFileToGCS(bucket_name, cred_path)\n",
    "init2.create_bucket()\n",
    "url = ['https://www.data.gouv.fr/fr/organizations/cnil/datasets.csv', 'https://www.data.gouv.fr/fr/datasets/r/0f678674-4327-4c4d-8819-b6f508b41d0e']\n",
    "dest_folder = 'raw'\n",
    "dest_blob = ['datasets.csv', 'plaintes.csv']\n",
    "init2.download_and_upload_from_URLs(url, dest_folder, dest_blob)"
   ]
  },
  {
   "cell_type": "markdown",
   "metadata": {},
   "source": [
    "# Downloading from Catalog"
   ]
  },
  {
   "cell_type": "code",
   "execution_count": 1,
   "metadata": {},
   "outputs": [
    {
     "name": "stdout",
     "output_type": "stream",
     "text": [
      "Error when downloading table Organismes ayant désigné un(e) délégué(e) à la protection des données (DPD/DPO) : Invalid URL 'nan': No scheme supplied. Perhaps you meant http://nan?\n",
      "Error when downloading table Notifications à la CNIL de violations de données à caractère personnel : Invalid URL 'nan': No scheme supplied. Perhaps you meant http://nan?\n",
      "Error when downloading table Sanctions prononcées par la CNIL : Invalid URL 'nan': No scheme supplied. Perhaps you meant http://nan?\n",
      "Error when downloading table Traitements de données personnelles déclarés à la CNIL depuis le 25 mai 2018 : Invalid URL 'nan': No scheme supplied. Perhaps you meant http://nan?\n",
      "Error when downloading table Protection des données personnelles dans le monde : Invalid URL 'nan': No scheme supplied. Perhaps you meant http://nan?\n",
      "Error when downloading table Contrôles réalisés par la CNIL : Invalid URL 'nan': No scheme supplied. Perhaps you meant http://nan?\n",
      "Error when downloading table Mises en demeure prononcées par la CNIL : Invalid URL 'nan': No scheme supplied. Perhaps you meant http://nan?\n",
      "Error when downloading table Exercice des droits indirect (données générales) : Invalid URL 'nan': No scheme supplied. Perhaps you meant http://nan?\n",
      "Error when downloading table Budget de la CNIL : Invalid URL 'nan': No scheme supplied. Perhaps you meant http://nan?\n",
      "Error when downloading table Effectifs de la CNIL : Invalid URL 'nan': No scheme supplied. Perhaps you meant http://nan?\n",
      "Error when downloading table Plaintes reçues par la CNIL : Invalid URL 'nan': No scheme supplied. Perhaps you meant http://nan?\n",
      "Error when downloading table Marchés publics de la CNIL  : Invalid URL 'nan': No scheme supplied. Perhaps you meant http://nan?\n",
      "Error when downloading table Droit d'accès indirect (TAJ, STIC, JUDEX) : Invalid URL 'nan': No scheme supplied. Perhaps you meant http://nan?\n",
      "Error when downloading table Traitements de données personnelles déclarés à la CNIL avant le 25 mai 2018 : Invalid URL 'nan': No scheme supplied. Perhaps you meant http://nan?\n",
      "Error when downloading table Correspondants Informatique et Libertés (CIL) : Invalid URL 'nan': No scheme supplied. Perhaps you meant http://nan?\n",
      "Error when downloading table Les délibérations de la CNIL : Invalid URL 'nan': No scheme supplied. Perhaps you meant http://nan?\n",
      "  adding: data/raw_datasets/ (stored 0%)\n",
      "  adding: data/raw_datasets/budget-de-la-cnil-1/ (stored 0%)\n",
      "  adding: data/raw_datasets/budget-de-la-cnil-1/opencnil-budget-depuis-2000-maj-juin-2023_v2023-06-28.csv (deflated 49%)\n",
      "  adding: data/raw_datasets/budget-de-la-cnil-1/opencnil-budget-depuis-2000-maj-juin-2023_v2023-06-28.xlsx (deflated 24%)\n",
      "  adding: data/raw_datasets/traitements-de-donnees-personnelles-declares-a-la-cnil-depuis-le-25-mai-2018/ (stored 0%)\n",
      "  adding: data/raw_datasets/traitements-de-donnees-personnelles-declares-a-la-cnil-depuis-le-25-mai-2018/Formalités préalables reçues par la CNIL depuis le 25 mai 2018_v2024-02-05 (deflated 79%)\n",
      "  adding: data/raw_datasets/marches-publics-de-la-cnil/ (stored 0%)\n",
      "  adding: data/raw_datasets/marches-publics-de-la-cnil/opencnil-marches-publics-2014-2020_v2021-06-02.xlsx (deflated 19%)\n",
      "  adding: data/raw_datasets/mises-en-demeure-prononcees-par-la-cnil/ (stored 0%)\n",
      "  adding: data/raw_datasets/mises-en-demeure-prononcees-par-la-cnil/open-cnil-volumes-med-depuis-2014-maj-aout-2023_v2023-08-25.csv (deflated 34%)\n",
      "  adding: data/raw_datasets/mises-en-demeure-prononcees-par-la-cnil/open-cnil-volumes-med-depuis-2014-maj-aout-2023_v2023-08-25.xlsx (deflated 27%)\n",
      "  adding: data/raw_datasets/effectifs-de-la-cnil/ (stored 0%)\n",
      "  adding: data/raw_datasets/effectifs-de-la-cnil/opencnil-effectifs-depuis-1980-maj-juin-2023_v2023-06-28.csv (deflated 52%)\n",
      "  adding: data/raw_datasets/effectifs-de-la-cnil/opencnil-effectifs-depuis-1980-maj-juin-2023_v2023-06-28.xlsx (deflated 23%)\n",
      "  adding: data/raw_datasets/les-deliberations-de-la-cnil/ (stored 0%)\n",
      "  adding: data/raw_datasets/les-deliberations-de-la-cnil/DTD CNIL _v2023-11-17 (deflated 60%)\n",
      "  adding: data/raw_datasets/les-deliberations-de-la-cnil/CNIL: les délibérations de la Commission nationale de l'informatique et des libertés_v2024-02-10 (deflated 82%)\n",
      "  adding: data/raw_datasets/droit-dacces-indirect-taj-stic-judex/ (stored 0%)\n",
      "  adding: data/raw_datasets/droit-dacces-indirect-taj-stic-judex/opencnil-dai-stic-judex-taj-maj-janvier-2019_v2019-05-13.xlsx (deflated 24%)\n",
      "  adding: data/raw_datasets/droit-dacces-indirect-taj-stic-judex/opencnil-dai-stic-judex-taj-maj-janvier-2019_v2019-05-13.csv (deflated 65%)\n",
      "  adding: data/raw_datasets/controles-realises-par-la-cnil/ (stored 0%)\n",
      "  adding: data/raw_datasets/controles-realises-par-la-cnil/Liste des contrôles réalisés par la CNIL en 2015_v2016-05-03 (deflated 49%)\n",
      "  adding: data/raw_datasets/controles-realises-par-la-cnil/opencnil-liste-controles-2019_v2020-11-13.xlsx (deflated 8%)\n",
      "  adding: data/raw_datasets/controles-realises-par-la-cnil/opencnil-liste-controles-2018_v2019-05-16.csv (deflated 78%)\n",
      "  adding: data/raw_datasets/controles-realises-par-la-cnil/opencnil-nombre-controles-depuis-1990-maj-juin-2023_v2023-06-28.xlsx (deflated 24%)\n",
      "  adding: data/raw_datasets/controles-realises-par-la-cnil/opencnil-liste-controles-2019_v2020-07-03.csv (deflated 76%)\n",
      "  adding: data/raw_datasets/controles-realises-par-la-cnil/open-data-controles-2020-vd-20210603_v2021-06-03.csv (deflated 76%)\n",
      "  adding: data/raw_datasets/controles-realises-par-la-cnil/open-data-controles-cnil-2022-v20231003_v2023-10-03.csv (deflated 77%)\n",
      "  adding: data/raw_datasets/controles-realises-par-la-cnil/open-data-controles-2021-v20220921_v2022-10-25.csv (deflated 79%)\n",
      "  adding: data/raw_datasets/controles-realises-par-la-cnil/open-data-controles-cnil-2022-v20231003_v2023-10-03.xlsx (deflated 15%)\n",
      "  adding: data/raw_datasets/controles-realises-par-la-cnil/Liste des contrôles réalisés par la CNIL en 2016_v2017-03-30 (deflated 36%)\n",
      "  adding: data/raw_datasets/controles-realises-par-la-cnil/open-data-controles-2020-vd-20210603_v2021-06-03.xlsx (deflated 12%)\n",
      "  adding: data/raw_datasets/controles-realises-par-la-cnil/open-data-controles-2021-v20220921_v2022-10-25.xlsx (deflated 11%)\n",
      "  adding: data/raw_datasets/controles-realises-par-la-cnil/opencnil-liste-controles-2018_v2019-05-16.xlsx (deflated 11%)\n",
      "  adding: data/raw_datasets/controles-realises-par-la-cnil/Liste des contrôles réalisés par la CNIL en 2017_v2018-06-20 (deflated 9%)\n",
      "  adding: data/raw_datasets/controles-realises-par-la-cnil/opencnil-nombre-controles-depuis-1990-maj-juin-2023_v2023-06-28.csv (deflated 49%)\n",
      "  adding: data/raw_datasets/controles-realises-par-la-cnil/Liste des contrôles réalisés par la CNIL en 2014_v2015-06-15 (deflated 10%)\n",
      "  adding: data/raw_datasets/plaintes-recues-par-la-cnil/ (stored 0%)\n",
      "  adding: data/raw_datasets/plaintes-recues-par-la-cnil/opencnil-volumes-plaintes-depuis-1981-maj-juin-2023_v2023-06-28.xlsx (deflated 27%)\n",
      "  adding: data/raw_datasets/plaintes-recues-par-la-cnil/opencnil-volumes-plaintes-depuis-1981-maj-juin-2023_v2023-06-28.csv (deflated 47%)\n",
      "  adding: data/raw_datasets/sanctions-prononcees-par-la-cnil/ (stored 0%)\n",
      "  adding: data/raw_datasets/sanctions-prononcees-par-la-cnil/opencnil-sanctions-depuis-2019-maj-nov-2023_v2023-11-24.csv (deflated 61%)\n",
      "  adding: data/raw_datasets/sanctions-prononcees-par-la-cnil/open-cnil-ventilation-sanctions-depuis-2014-vd_v2019-05-14.csv (deflated 38%)\n",
      "  adding: data/raw_datasets/sanctions-prononcees-par-la-cnil/open-cnil-ventilation-sanctions-depuis-2014-vd_v2019-05-14.xlsx (deflated 27%)\n",
      "  adding: data/raw_datasets/sanctions-prononcees-par-la-cnil/opencnil-sanctions-depuis-2019-maj-nov-2023_v2023-11-24.xlsx (deflated 23%)\n",
      "  adding: data/raw_datasets/protection-des-donnees-personnelles-dans-le-monde/ (stored 0%)\n",
      "  adding: data/raw_datasets/protection-des-donnees-personnelles-dans-le-monde/opencnil-autorites-de-protection-vd-20231010_v2023-11-09.csv (deflated 61%)\n",
      "  adding: data/raw_datasets/protection-des-donnees-personnelles-dans-le-monde/opencnil-autorites-de-protection-vd-20231010_v2023-11-09.xlsx (deflated 7%)\n",
      "  adding: data/raw_datasets/exercice-des-droits-indirect-donnees-generales/ (stored 0%)\n",
      "  adding: data/raw_datasets/exercice-des-droits-indirect-donnees-generales/opencnil-volumes-dai-edi-depuis-1984-maj-juin-2023_v2023-06-28.xlsx (deflated 25%)\n",
      "  adding: data/raw_datasets/exercice-des-droits-indirect-donnees-generales/opencnil-volumes-dai-edi-depuis-1984-maj-juin-2023_v2023-06-28.csv (deflated 48%)\n",
      "  adding: data/raw_datasets/correspondants-informatique-et-libertes-cil/ (stored 0%)\n",
      "  adding: data/raw_datasets/correspondants-informatique-et-libertes-cil/Organismes_avec_CIL_v2018-05-24.csv (deflated 74%)\n",
      "  adding: data/raw_datasets/correspondants-informatique-et-libertes-cil/Organismes_avec_CIL_v2018-05-24.xlsx (deflated 1%)\n",
      "  adding: data/raw_datasets/organismes-ayant-designe-un-e-delegue-e-a-la-protection-des-donnees-dpd-dpo/ (stored 0%)\n",
      "  adding: data/raw_datasets/organismes-ayant-designe-un-e-delegue-e-a-la-protection-des-donnees-dpd-dpo/opencnil-organismes-avec-dpo_v2024-01-30.xlsx (deflated 6%)\n",
      "  adding: data/raw_datasets/organismes-ayant-designe-un-e-delegue-e-a-la-protection-des-donnees-dpd-dpo/opencnil-organismes-avec-dpo_v2024-01-30.csv (deflated 74%)\n",
      "  adding: data/raw_datasets/traitements-de-donnees-personnelles-declares-a-la-cnil-avant-le-25-mai-2018/ (stored 0%)\n",
      "  adding: data/raw_datasets/traitements-de-donnees-personnelles-declares-a-la-cnil-avant-le-25-mai-2018/Les traitements de données personnelles déclarés à la CNIL entre 1979 et le 24 mai 2018_v2024-02-09 (deflated 83%)\n",
      "  adding: data/raw_datasets/notifications-a-la-cnil-de-violations-de-donnees-a-caractere-personnel/ (stored 0%)\n",
      "  adding: data/raw_datasets/notifications-a-la-cnil-de-violations-de-donnees-a-caractere-personnel/opencnil-violationsdcpnotifiees-20230930_v2023-12-21.csv (deflated 97%)\n",
      "  adding: data/raw_datasets/notifications-a-la-cnil-de-violations-de-donnees-a-caractere-personnel/opencnil-violationsdcpnotifiees-20230930_v2023-12-21.xlsx (deflated 4%)\n",
      "All files have been zipped into data/datasets.zip\n"
     ]
    }
   ],
   "source": [
    "from classes.download_catalog_content import DlCatalogContent\n",
    "\n",
    "instance3 = DlCatalogContent('data/catalog/source_cnil_catalog_2024-02-10.csv')\n",
    "instance3.get_tables()\n",
    "instance3.zip_files()"
   ]
  }
 ],
 "metadata": {
  "kernelspec": {
   "display_name": "base",
   "language": "python",
   "name": "python3"
  },
  "language_info": {
   "codemirror_mode": {
    "name": "ipython",
    "version": 3
   },
   "file_extension": ".py",
   "mimetype": "text/x-python",
   "name": "python",
   "nbconvert_exporter": "python",
   "pygments_lexer": "ipython3",
   "version": "3.10.9"
  }
 },
 "nbformat": 4,
 "nbformat_minor": 2
}
